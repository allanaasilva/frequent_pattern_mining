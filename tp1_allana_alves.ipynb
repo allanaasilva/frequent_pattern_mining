{
  "nbformat": 4,
  "nbformat_minor": 0,
  "metadata": {
    "colab": {
      "provenance": [],
      "include_colab_link": true
    },
    "kernelspec": {
      "name": "python3",
      "display_name": "Python 3"
    },
    "language_info": {
      "name": "python"
    }
  },
  "cells": [
    {
      "cell_type": "markdown",
      "metadata": {
        "id": "view-in-github",
        "colab_type": "text"
      },
      "source": [
        "<a href=\"https://colab.research.google.com/gist/allanaasilva/75a2975399fcd8ad819289eba1b161bc/tp1_allana_alves.ipynb\" target=\"_parent\"><img src=\"https://colab.research.google.com/assets/colab-badge.svg\" alt=\"Open In Colab\"/></a>"
      ]
    },
    {
      "cell_type": "markdown",
      "source": [
        "# **Tema:** Mineração de Padrões Frequentes\n",
        "### **Base de dados:** https://www.kaggle.com/datasets/ruchi798/data-science-job-salaries\n"
      ],
      "metadata": {
        "id": "2z-yJF6TObCw"
      }
    },
    {
      "cell_type": "code",
      "source": [
        "#Bibliotecas usadas no projeto\n",
        "import pandas as pd\n",
        "import numpy as np\n",
        "import plotly.express as px\n",
        "from scipy import stats\n",
        "from scipy.stats import mannwhitneyu\n",
        "from mlxtend.preprocessing import TransactionEncoder\n",
        "\n",
        "import warnings\n",
        "warnings.filterwarnings(\"ignore\")\n",
        "np.set_printoptions(precision=5)\n",
        "\n",
        "%pip install mlxtend --upgrade\n",
        "from mlxtend.frequent_patterns.fpgrowth import fpgrowth\n",
        "from mlxtend.frequent_patterns import association_rules"
      ],
      "metadata": {
        "id": "EK8yf-vgJqkL",
        "colab": {
          "base_uri": "https://localhost:8080/"
        },
        "outputId": "b53e98d2-31cd-455c-c953-19c0c4d415b8"
      },
      "execution_count": null,
      "outputs": [
        {
          "output_type": "stream",
          "name": "stdout",
          "text": [
            "Looking in indexes: https://pypi.org/simple, https://us-python.pkg.dev/colab-wheels/public/simple/\n",
            "Requirement already satisfied: mlxtend in /usr/local/lib/python3.7/dist-packages (0.21.0)\n",
            "Requirement already satisfied: scikit-learn>=1.0.2 in /usr/local/lib/python3.7/dist-packages (from mlxtend) (1.0.2)\n",
            "Requirement already satisfied: matplotlib>=3.0.0 in /usr/local/lib/python3.7/dist-packages (from mlxtend) (3.2.2)\n",
            "Requirement already satisfied: joblib>=0.13.2 in /usr/local/lib/python3.7/dist-packages (from mlxtend) (1.2.0)\n",
            "Requirement already satisfied: setuptools in /usr/local/lib/python3.7/dist-packages (from mlxtend) (57.4.0)\n",
            "Requirement already satisfied: pandas>=0.24.2 in /usr/local/lib/python3.7/dist-packages (from mlxtend) (1.3.5)\n",
            "Requirement already satisfied: numpy>=1.16.2 in /usr/local/lib/python3.7/dist-packages (from mlxtend) (1.21.6)\n",
            "Requirement already satisfied: scipy>=1.2.1 in /usr/local/lib/python3.7/dist-packages (from mlxtend) (1.7.3)\n",
            "Requirement already satisfied: pyparsing!=2.0.4,!=2.1.2,!=2.1.6,>=2.0.1 in /usr/local/lib/python3.7/dist-packages (from matplotlib>=3.0.0->mlxtend) (3.0.9)\n",
            "Requirement already satisfied: kiwisolver>=1.0.1 in /usr/local/lib/python3.7/dist-packages (from matplotlib>=3.0.0->mlxtend) (1.4.4)\n",
            "Requirement already satisfied: cycler>=0.10 in /usr/local/lib/python3.7/dist-packages (from matplotlib>=3.0.0->mlxtend) (0.11.0)\n",
            "Requirement already satisfied: python-dateutil>=2.1 in /usr/local/lib/python3.7/dist-packages (from matplotlib>=3.0.0->mlxtend) (2.8.2)\n",
            "Requirement already satisfied: typing-extensions in /usr/local/lib/python3.7/dist-packages (from kiwisolver>=1.0.1->matplotlib>=3.0.0->mlxtend) (4.1.1)\n",
            "Requirement already satisfied: pytz>=2017.3 in /usr/local/lib/python3.7/dist-packages (from pandas>=0.24.2->mlxtend) (2022.4)\n",
            "Requirement already satisfied: six>=1.5 in /usr/local/lib/python3.7/dist-packages (from python-dateutil>=2.1->matplotlib>=3.0.0->mlxtend) (1.15.0)\n",
            "Requirement already satisfied: threadpoolctl>=2.0.0 in /usr/local/lib/python3.7/dist-packages (from scikit-learn>=1.0.2->mlxtend) (3.1.0)\n"
          ]
        }
      ]
    },
    {
      "cell_type": "markdown",
      "source": [
        "##**2. Data understanding (Entendimento dos dados)**\n"
      ],
      "metadata": {
        "id": "ckPkUM8AJeMl"
      }
    },
    {
      "cell_type": "code",
      "source": [
        "#Carregando a base de dados\n",
        "file = ('sample_data/ds_salaries.csv')  \n",
        "ds_salaries = pd.read_csv(file)\n",
        "ds_salaries.head()"
      ],
      "metadata": {
        "id": "j1fDgQ9gJ1EV",
        "colab": {
          "base_uri": "https://localhost:8080/",
          "height": 250
        },
        "outputId": "d483d068-0f9a-436e-d029-88d415dacbd0"
      },
      "execution_count": null,
      "outputs": [
        {
          "output_type": "execute_result",
          "data": {
            "text/plain": [
              "   Unnamed: 0  work_year experience_level employment_type  \\\n",
              "0           0       2020               MI              FT   \n",
              "1           1       2020               SE              FT   \n",
              "2           2       2020               SE              FT   \n",
              "3           3       2020               MI              FT   \n",
              "4           4       2020               SE              FT   \n",
              "\n",
              "                    job_title  salary salary_currency  salary_in_usd  \\\n",
              "0              Data Scientist   70000             EUR          79833   \n",
              "1  Machine Learning Scientist  260000             USD         260000   \n",
              "2           Big Data Engineer   85000             GBP         109024   \n",
              "3        Product Data Analyst   20000             USD          20000   \n",
              "4   Machine Learning Engineer  150000             USD         150000   \n",
              "\n",
              "  employee_residence  remote_ratio company_location company_size  \n",
              "0                 DE             0               DE            L  \n",
              "1                 JP             0               JP            S  \n",
              "2                 GB            50               GB            M  \n",
              "3                 HN             0               HN            S  \n",
              "4                 US            50               US            L  "
            ],
            "text/html": [
              "\n",
              "  <div id=\"df-009c95fe-e4c7-42d0-ac96-db989d4a2380\">\n",
              "    <div class=\"colab-df-container\">\n",
              "      <div>\n",
              "<style scoped>\n",
              "    .dataframe tbody tr th:only-of-type {\n",
              "        vertical-align: middle;\n",
              "    }\n",
              "\n",
              "    .dataframe tbody tr th {\n",
              "        vertical-align: top;\n",
              "    }\n",
              "\n",
              "    .dataframe thead th {\n",
              "        text-align: right;\n",
              "    }\n",
              "</style>\n",
              "<table border=\"1\" class=\"dataframe\">\n",
              "  <thead>\n",
              "    <tr style=\"text-align: right;\">\n",
              "      <th></th>\n",
              "      <th>Unnamed: 0</th>\n",
              "      <th>work_year</th>\n",
              "      <th>experience_level</th>\n",
              "      <th>employment_type</th>\n",
              "      <th>job_title</th>\n",
              "      <th>salary</th>\n",
              "      <th>salary_currency</th>\n",
              "      <th>salary_in_usd</th>\n",
              "      <th>employee_residence</th>\n",
              "      <th>remote_ratio</th>\n",
              "      <th>company_location</th>\n",
              "      <th>company_size</th>\n",
              "    </tr>\n",
              "  </thead>\n",
              "  <tbody>\n",
              "    <tr>\n",
              "      <th>0</th>\n",
              "      <td>0</td>\n",
              "      <td>2020</td>\n",
              "      <td>MI</td>\n",
              "      <td>FT</td>\n",
              "      <td>Data Scientist</td>\n",
              "      <td>70000</td>\n",
              "      <td>EUR</td>\n",
              "      <td>79833</td>\n",
              "      <td>DE</td>\n",
              "      <td>0</td>\n",
              "      <td>DE</td>\n",
              "      <td>L</td>\n",
              "    </tr>\n",
              "    <tr>\n",
              "      <th>1</th>\n",
              "      <td>1</td>\n",
              "      <td>2020</td>\n",
              "      <td>SE</td>\n",
              "      <td>FT</td>\n",
              "      <td>Machine Learning Scientist</td>\n",
              "      <td>260000</td>\n",
              "      <td>USD</td>\n",
              "      <td>260000</td>\n",
              "      <td>JP</td>\n",
              "      <td>0</td>\n",
              "      <td>JP</td>\n",
              "      <td>S</td>\n",
              "    </tr>\n",
              "    <tr>\n",
              "      <th>2</th>\n",
              "      <td>2</td>\n",
              "      <td>2020</td>\n",
              "      <td>SE</td>\n",
              "      <td>FT</td>\n",
              "      <td>Big Data Engineer</td>\n",
              "      <td>85000</td>\n",
              "      <td>GBP</td>\n",
              "      <td>109024</td>\n",
              "      <td>GB</td>\n",
              "      <td>50</td>\n",
              "      <td>GB</td>\n",
              "      <td>M</td>\n",
              "    </tr>\n",
              "    <tr>\n",
              "      <th>3</th>\n",
              "      <td>3</td>\n",
              "      <td>2020</td>\n",
              "      <td>MI</td>\n",
              "      <td>FT</td>\n",
              "      <td>Product Data Analyst</td>\n",
              "      <td>20000</td>\n",
              "      <td>USD</td>\n",
              "      <td>20000</td>\n",
              "      <td>HN</td>\n",
              "      <td>0</td>\n",
              "      <td>HN</td>\n",
              "      <td>S</td>\n",
              "    </tr>\n",
              "    <tr>\n",
              "      <th>4</th>\n",
              "      <td>4</td>\n",
              "      <td>2020</td>\n",
              "      <td>SE</td>\n",
              "      <td>FT</td>\n",
              "      <td>Machine Learning Engineer</td>\n",
              "      <td>150000</td>\n",
              "      <td>USD</td>\n",
              "      <td>150000</td>\n",
              "      <td>US</td>\n",
              "      <td>50</td>\n",
              "      <td>US</td>\n",
              "      <td>L</td>\n",
              "    </tr>\n",
              "  </tbody>\n",
              "</table>\n",
              "</div>\n",
              "      <button class=\"colab-df-convert\" onclick=\"convertToInteractive('df-009c95fe-e4c7-42d0-ac96-db989d4a2380')\"\n",
              "              title=\"Convert this dataframe to an interactive table.\"\n",
              "              style=\"display:none;\">\n",
              "        \n",
              "  <svg xmlns=\"http://www.w3.org/2000/svg\" height=\"24px\"viewBox=\"0 0 24 24\"\n",
              "       width=\"24px\">\n",
              "    <path d=\"M0 0h24v24H0V0z\" fill=\"none\"/>\n",
              "    <path d=\"M18.56 5.44l.94 2.06.94-2.06 2.06-.94-2.06-.94-.94-2.06-.94 2.06-2.06.94zm-11 1L8.5 8.5l.94-2.06 2.06-.94-2.06-.94L8.5 2.5l-.94 2.06-2.06.94zm10 10l.94 2.06.94-2.06 2.06-.94-2.06-.94-.94-2.06-.94 2.06-2.06.94z\"/><path d=\"M17.41 7.96l-1.37-1.37c-.4-.4-.92-.59-1.43-.59-.52 0-1.04.2-1.43.59L10.3 9.45l-7.72 7.72c-.78.78-.78 2.05 0 2.83L4 21.41c.39.39.9.59 1.41.59.51 0 1.02-.2 1.41-.59l7.78-7.78 2.81-2.81c.8-.78.8-2.07 0-2.86zM5.41 20L4 18.59l7.72-7.72 1.47 1.35L5.41 20z\"/>\n",
              "  </svg>\n",
              "      </button>\n",
              "      \n",
              "  <style>\n",
              "    .colab-df-container {\n",
              "      display:flex;\n",
              "      flex-wrap:wrap;\n",
              "      gap: 12px;\n",
              "    }\n",
              "\n",
              "    .colab-df-convert {\n",
              "      background-color: #E8F0FE;\n",
              "      border: none;\n",
              "      border-radius: 50%;\n",
              "      cursor: pointer;\n",
              "      display: none;\n",
              "      fill: #1967D2;\n",
              "      height: 32px;\n",
              "      padding: 0 0 0 0;\n",
              "      width: 32px;\n",
              "    }\n",
              "\n",
              "    .colab-df-convert:hover {\n",
              "      background-color: #E2EBFA;\n",
              "      box-shadow: 0px 1px 2px rgba(60, 64, 67, 0.3), 0px 1px 3px 1px rgba(60, 64, 67, 0.15);\n",
              "      fill: #174EA6;\n",
              "    }\n",
              "\n",
              "    [theme=dark] .colab-df-convert {\n",
              "      background-color: #3B4455;\n",
              "      fill: #D2E3FC;\n",
              "    }\n",
              "\n",
              "    [theme=dark] .colab-df-convert:hover {\n",
              "      background-color: #434B5C;\n",
              "      box-shadow: 0px 1px 3px 1px rgba(0, 0, 0, 0.15);\n",
              "      filter: drop-shadow(0px 1px 2px rgba(0, 0, 0, 0.3));\n",
              "      fill: #FFFFFF;\n",
              "    }\n",
              "  </style>\n",
              "\n",
              "      <script>\n",
              "        const buttonEl =\n",
              "          document.querySelector('#df-009c95fe-e4c7-42d0-ac96-db989d4a2380 button.colab-df-convert');\n",
              "        buttonEl.style.display =\n",
              "          google.colab.kernel.accessAllowed ? 'block' : 'none';\n",
              "\n",
              "        async function convertToInteractive(key) {\n",
              "          const element = document.querySelector('#df-009c95fe-e4c7-42d0-ac96-db989d4a2380');\n",
              "          const dataTable =\n",
              "            await google.colab.kernel.invokeFunction('convertToInteractive',\n",
              "                                                     [key], {});\n",
              "          if (!dataTable) return;\n",
              "\n",
              "          const docLinkHtml = 'Like what you see? Visit the ' +\n",
              "            '<a target=\"_blank\" href=https://colab.research.google.com/notebooks/data_table.ipynb>data table notebook</a>'\n",
              "            + ' to learn more about interactive tables.';\n",
              "          element.innerHTML = '';\n",
              "          dataTable['output_type'] = 'display_data';\n",
              "          await google.colab.output.renderOutput(dataTable, element);\n",
              "          const docLink = document.createElement('div');\n",
              "          docLink.innerHTML = docLinkHtml;\n",
              "          element.appendChild(docLink);\n",
              "        }\n",
              "      </script>\n",
              "    </div>\n",
              "  </div>\n",
              "  "
            ]
          },
          "metadata": {},
          "execution_count": 14
        }
      ]
    },
    {
      "cell_type": "code",
      "source": [
        "ds_salaries.info()"
      ],
      "metadata": {
        "id": "OeLR9RnhOYxk",
        "colab": {
          "base_uri": "https://localhost:8080/"
        },
        "outputId": "71e380d1-ed02-4a1b-e4fa-1a5eb7cc4342"
      },
      "execution_count": null,
      "outputs": [
        {
          "output_type": "stream",
          "name": "stdout",
          "text": [
            "<class 'pandas.core.frame.DataFrame'>\n",
            "RangeIndex: 607 entries, 0 to 606\n",
            "Data columns (total 12 columns):\n",
            " #   Column              Non-Null Count  Dtype \n",
            "---  ------              --------------  ----- \n",
            " 0   Unnamed: 0          607 non-null    int64 \n",
            " 1   work_year           607 non-null    int64 \n",
            " 2   experience_level    607 non-null    object\n",
            " 3   employment_type     607 non-null    object\n",
            " 4   job_title           607 non-null    object\n",
            " 5   salary              607 non-null    int64 \n",
            " 6   salary_currency     607 non-null    object\n",
            " 7   salary_in_usd       607 non-null    int64 \n",
            " 8   employee_residence  607 non-null    object\n",
            " 9   remote_ratio        607 non-null    int64 \n",
            " 10  company_location    607 non-null    object\n",
            " 11  company_size        607 non-null    object\n",
            "dtypes: int64(5), object(7)\n",
            "memory usage: 57.0+ KB\n"
          ]
        }
      ]
    },
    {
      "cell_type": "code",
      "source": [
        "len(ds_salaries['job_title'].unique())"
      ],
      "metadata": {
        "colab": {
          "base_uri": "https://localhost:8080/"
        },
        "id": "HKB_yxZMlPTl",
        "outputId": "031f0705-4537-43cb-948d-3c485b35d24a"
      },
      "execution_count": null,
      "outputs": [
        {
          "output_type": "execute_result",
          "data": {
            "text/plain": [
              "50"
            ]
          },
          "metadata": {},
          "execution_count": 16
        }
      ]
    },
    {
      "cell_type": "code",
      "source": [
        "#Ranking das profissões mais frequentes em Data Science \n",
        "count=ds_salaries['job_title'].value_counts().head(10)\n",
        "fig=px.bar(count,x=count.index,y=count.values,color=count.index,text=count.values,labels={'index':'Profissões','y':'Total','text':'Total'},template='seaborn',title='<b> As 10 profissões mais recorrentes em Data Science')\n",
        "fig.show()"
      ],
      "metadata": {
        "colab": {
          "base_uri": "https://localhost:8080/",
          "height": 542
        },
        "id": "M-X4pb9Blg4r",
        "outputId": "17796d7f-2ea8-4ba8-b287-783c406c60e9"
      },
      "execution_count": null,
      "outputs": [
        {
          "output_type": "display_data",
          "data": {
            "text/html": [
              "<html>\n",
              "<head><meta charset=\"utf-8\" /></head>\n",
              "<body>\n",
              "    <div>            <script src=\"https://cdnjs.cloudflare.com/ajax/libs/mathjax/2.7.5/MathJax.js?config=TeX-AMS-MML_SVG\"></script><script type=\"text/javascript\">if (window.MathJax) {MathJax.Hub.Config({SVG: {font: \"STIX-Web\"}});}</script>                <script type=\"text/javascript\">window.PlotlyConfig = {MathJaxConfig: 'local'};</script>\n",
              "        <script src=\"https://cdn.plot.ly/plotly-2.8.3.min.js\"></script>                <div id=\"c245b3c4-e468-4d46-8268-450187fbe9db\" class=\"plotly-graph-div\" style=\"height:525px; width:100%;\"></div>            <script type=\"text/javascript\">                                    window.PLOTLYENV=window.PLOTLYENV || {};                                    if (document.getElementById(\"c245b3c4-e468-4d46-8268-450187fbe9db\")) {                    Plotly.newPlot(                        \"c245b3c4-e468-4d46-8268-450187fbe9db\",                        [{\"alignmentgroup\":\"True\",\"hovertemplate\":\"Profiss\\u00f5es=%{x}<br>Total=%{text}<extra></extra>\",\"legendgroup\":\"Data Scientist\",\"marker\":{\"color\":\"rgb(76,114,176)\",\"pattern\":{\"shape\":\"\"}},\"name\":\"Data Scientist\",\"offsetgroup\":\"Data Scientist\",\"orientation\":\"v\",\"showlegend\":true,\"text\":[143.0],\"textposition\":\"auto\",\"x\":[\"Data Scientist\"],\"xaxis\":\"x\",\"y\":[143],\"yaxis\":\"y\",\"type\":\"bar\"},{\"alignmentgroup\":\"True\",\"hovertemplate\":\"Profiss\\u00f5es=%{x}<br>Total=%{text}<extra></extra>\",\"legendgroup\":\"Data Engineer\",\"marker\":{\"color\":\"rgb(221,132,82)\",\"pattern\":{\"shape\":\"\"}},\"name\":\"Data Engineer\",\"offsetgroup\":\"Data Engineer\",\"orientation\":\"v\",\"showlegend\":true,\"text\":[132.0],\"textposition\":\"auto\",\"x\":[\"Data Engineer\"],\"xaxis\":\"x\",\"y\":[132],\"yaxis\":\"y\",\"type\":\"bar\"},{\"alignmentgroup\":\"True\",\"hovertemplate\":\"Profiss\\u00f5es=%{x}<br>Total=%{text}<extra></extra>\",\"legendgroup\":\"Data Analyst\",\"marker\":{\"color\":\"rgb(85,168,104)\",\"pattern\":{\"shape\":\"\"}},\"name\":\"Data Analyst\",\"offsetgroup\":\"Data Analyst\",\"orientation\":\"v\",\"showlegend\":true,\"text\":[97.0],\"textposition\":\"auto\",\"x\":[\"Data Analyst\"],\"xaxis\":\"x\",\"y\":[97],\"yaxis\":\"y\",\"type\":\"bar\"},{\"alignmentgroup\":\"True\",\"hovertemplate\":\"Profiss\\u00f5es=%{x}<br>Total=%{text}<extra></extra>\",\"legendgroup\":\"Machine Learning Engineer\",\"marker\":{\"color\":\"rgb(196,78,82)\",\"pattern\":{\"shape\":\"\"}},\"name\":\"Machine Learning Engineer\",\"offsetgroup\":\"Machine Learning Engineer\",\"orientation\":\"v\",\"showlegend\":true,\"text\":[41.0],\"textposition\":\"auto\",\"x\":[\"Machine Learning Engineer\"],\"xaxis\":\"x\",\"y\":[41],\"yaxis\":\"y\",\"type\":\"bar\"},{\"alignmentgroup\":\"True\",\"hovertemplate\":\"Profiss\\u00f5es=%{x}<br>Total=%{text}<extra></extra>\",\"legendgroup\":\"Research Scientist\",\"marker\":{\"color\":\"rgb(129,114,179)\",\"pattern\":{\"shape\":\"\"}},\"name\":\"Research Scientist\",\"offsetgroup\":\"Research Scientist\",\"orientation\":\"v\",\"showlegend\":true,\"text\":[16.0],\"textposition\":\"auto\",\"x\":[\"Research Scientist\"],\"xaxis\":\"x\",\"y\":[16],\"yaxis\":\"y\",\"type\":\"bar\"},{\"alignmentgroup\":\"True\",\"hovertemplate\":\"Profiss\\u00f5es=%{x}<br>Total=%{text}<extra></extra>\",\"legendgroup\":\"Data Science Manager\",\"marker\":{\"color\":\"rgb(147,120,96)\",\"pattern\":{\"shape\":\"\"}},\"name\":\"Data Science Manager\",\"offsetgroup\":\"Data Science Manager\",\"orientation\":\"v\",\"showlegend\":true,\"text\":[12.0],\"textposition\":\"auto\",\"x\":[\"Data Science Manager\"],\"xaxis\":\"x\",\"y\":[12],\"yaxis\":\"y\",\"type\":\"bar\"},{\"alignmentgroup\":\"True\",\"hovertemplate\":\"Profiss\\u00f5es=%{x}<br>Total=%{text}<extra></extra>\",\"legendgroup\":\"Data Architect\",\"marker\":{\"color\":\"rgb(218,139,195)\",\"pattern\":{\"shape\":\"\"}},\"name\":\"Data Architect\",\"offsetgroup\":\"Data Architect\",\"orientation\":\"v\",\"showlegend\":true,\"text\":[11.0],\"textposition\":\"auto\",\"x\":[\"Data Architect\"],\"xaxis\":\"x\",\"y\":[11],\"yaxis\":\"y\",\"type\":\"bar\"},{\"alignmentgroup\":\"True\",\"hovertemplate\":\"Profiss\\u00f5es=%{x}<br>Total=%{text}<extra></extra>\",\"legendgroup\":\"Big Data Engineer\",\"marker\":{\"color\":\"rgb(140,140,140)\",\"pattern\":{\"shape\":\"\"}},\"name\":\"Big Data Engineer\",\"offsetgroup\":\"Big Data Engineer\",\"orientation\":\"v\",\"showlegend\":true,\"text\":[8.0],\"textposition\":\"auto\",\"x\":[\"Big Data Engineer\"],\"xaxis\":\"x\",\"y\":[8],\"yaxis\":\"y\",\"type\":\"bar\"},{\"alignmentgroup\":\"True\",\"hovertemplate\":\"Profiss\\u00f5es=%{x}<br>Total=%{text}<extra></extra>\",\"legendgroup\":\"Machine Learning Scientist\",\"marker\":{\"color\":\"rgb(204,185,116)\",\"pattern\":{\"shape\":\"\"}},\"name\":\"Machine Learning Scientist\",\"offsetgroup\":\"Machine Learning Scientist\",\"orientation\":\"v\",\"showlegend\":true,\"text\":[8.0],\"textposition\":\"auto\",\"x\":[\"Machine Learning Scientist\"],\"xaxis\":\"x\",\"y\":[8],\"yaxis\":\"y\",\"type\":\"bar\"},{\"alignmentgroup\":\"True\",\"hovertemplate\":\"Profiss\\u00f5es=%{x}<br>Total=%{text}<extra></extra>\",\"legendgroup\":\"Principal Data Scientist\",\"marker\":{\"color\":\"rgb(100,181,205)\",\"pattern\":{\"shape\":\"\"}},\"name\":\"Principal Data Scientist\",\"offsetgroup\":\"Principal Data Scientist\",\"orientation\":\"v\",\"showlegend\":true,\"text\":[7.0],\"textposition\":\"auto\",\"x\":[\"Principal Data Scientist\"],\"xaxis\":\"x\",\"y\":[7],\"yaxis\":\"y\",\"type\":\"bar\"}],                        {\"template\":{\"data\":{\"barpolar\":[{\"marker\":{\"line\":{\"color\":\"rgb(234,234,242)\",\"width\":0.5},\"pattern\":{\"fillmode\":\"overlay\",\"size\":10,\"solidity\":0.2}},\"type\":\"barpolar\"}],\"bar\":[{\"error_x\":{\"color\":\"rgb(36,36,36)\"},\"error_y\":{\"color\":\"rgb(36,36,36)\"},\"marker\":{\"line\":{\"color\":\"rgb(234,234,242)\",\"width\":0.5},\"pattern\":{\"fillmode\":\"overlay\",\"size\":10,\"solidity\":0.2}},\"type\":\"bar\"}],\"carpet\":[{\"aaxis\":{\"endlinecolor\":\"rgb(36,36,36)\",\"gridcolor\":\"white\",\"linecolor\":\"white\",\"minorgridcolor\":\"white\",\"startlinecolor\":\"rgb(36,36,36)\"},\"baxis\":{\"endlinecolor\":\"rgb(36,36,36)\",\"gridcolor\":\"white\",\"linecolor\":\"white\",\"minorgridcolor\":\"white\",\"startlinecolor\":\"rgb(36,36,36)\"},\"type\":\"carpet\"}],\"choropleth\":[{\"colorbar\":{\"outlinewidth\":0,\"tickcolor\":\"rgb(36,36,36)\",\"ticklen\":8,\"ticks\":\"outside\",\"tickwidth\":2},\"type\":\"choropleth\"}],\"contourcarpet\":[{\"colorbar\":{\"outlinewidth\":0,\"tickcolor\":\"rgb(36,36,36)\",\"ticklen\":8,\"ticks\":\"outside\",\"tickwidth\":2},\"type\":\"contourcarpet\"}],\"contour\":[{\"colorbar\":{\"outlinewidth\":0,\"tickcolor\":\"rgb(36,36,36)\",\"ticklen\":8,\"ticks\":\"outside\",\"tickwidth\":2},\"colorscale\":[[0.0,\"rgb(2,4,25)\"],[0.06274509803921569,\"rgb(24,15,41)\"],[0.12549019607843137,\"rgb(47,23,57)\"],[0.18823529411764706,\"rgb(71,28,72)\"],[0.25098039215686274,\"rgb(97,30,82)\"],[0.3137254901960784,\"rgb(123,30,89)\"],[0.3764705882352941,\"rgb(150,27,91)\"],[0.4392156862745098,\"rgb(177,22,88)\"],[0.5019607843137255,\"rgb(203,26,79)\"],[0.5647058823529412,\"rgb(223,47,67)\"],[0.6274509803921569,\"rgb(236,76,61)\"],[0.6901960784313725,\"rgb(242,107,73)\"],[0.7529411764705882,\"rgb(244,135,95)\"],[0.8156862745098039,\"rgb(245,162,122)\"],[0.8784313725490196,\"rgb(246,188,153)\"],[0.9411764705882353,\"rgb(247,212,187)\"],[1.0,\"rgb(250,234,220)\"]],\"type\":\"contour\"}],\"heatmapgl\":[{\"colorbar\":{\"outlinewidth\":0,\"tickcolor\":\"rgb(36,36,36)\",\"ticklen\":8,\"ticks\":\"outside\",\"tickwidth\":2},\"colorscale\":[[0.0,\"rgb(2,4,25)\"],[0.06274509803921569,\"rgb(24,15,41)\"],[0.12549019607843137,\"rgb(47,23,57)\"],[0.18823529411764706,\"rgb(71,28,72)\"],[0.25098039215686274,\"rgb(97,30,82)\"],[0.3137254901960784,\"rgb(123,30,89)\"],[0.3764705882352941,\"rgb(150,27,91)\"],[0.4392156862745098,\"rgb(177,22,88)\"],[0.5019607843137255,\"rgb(203,26,79)\"],[0.5647058823529412,\"rgb(223,47,67)\"],[0.6274509803921569,\"rgb(236,76,61)\"],[0.6901960784313725,\"rgb(242,107,73)\"],[0.7529411764705882,\"rgb(244,135,95)\"],[0.8156862745098039,\"rgb(245,162,122)\"],[0.8784313725490196,\"rgb(246,188,153)\"],[0.9411764705882353,\"rgb(247,212,187)\"],[1.0,\"rgb(250,234,220)\"]],\"type\":\"heatmapgl\"}],\"heatmap\":[{\"colorbar\":{\"outlinewidth\":0,\"tickcolor\":\"rgb(36,36,36)\",\"ticklen\":8,\"ticks\":\"outside\",\"tickwidth\":2},\"colorscale\":[[0.0,\"rgb(2,4,25)\"],[0.06274509803921569,\"rgb(24,15,41)\"],[0.12549019607843137,\"rgb(47,23,57)\"],[0.18823529411764706,\"rgb(71,28,72)\"],[0.25098039215686274,\"rgb(97,30,82)\"],[0.3137254901960784,\"rgb(123,30,89)\"],[0.3764705882352941,\"rgb(150,27,91)\"],[0.4392156862745098,\"rgb(177,22,88)\"],[0.5019607843137255,\"rgb(203,26,79)\"],[0.5647058823529412,\"rgb(223,47,67)\"],[0.6274509803921569,\"rgb(236,76,61)\"],[0.6901960784313725,\"rgb(242,107,73)\"],[0.7529411764705882,\"rgb(244,135,95)\"],[0.8156862745098039,\"rgb(245,162,122)\"],[0.8784313725490196,\"rgb(246,188,153)\"],[0.9411764705882353,\"rgb(247,212,187)\"],[1.0,\"rgb(250,234,220)\"]],\"type\":\"heatmap\"}],\"histogram2dcontour\":[{\"colorbar\":{\"outlinewidth\":0,\"tickcolor\":\"rgb(36,36,36)\",\"ticklen\":8,\"ticks\":\"outside\",\"tickwidth\":2},\"colorscale\":[[0.0,\"rgb(2,4,25)\"],[0.06274509803921569,\"rgb(24,15,41)\"],[0.12549019607843137,\"rgb(47,23,57)\"],[0.18823529411764706,\"rgb(71,28,72)\"],[0.25098039215686274,\"rgb(97,30,82)\"],[0.3137254901960784,\"rgb(123,30,89)\"],[0.3764705882352941,\"rgb(150,27,91)\"],[0.4392156862745098,\"rgb(177,22,88)\"],[0.5019607843137255,\"rgb(203,26,79)\"],[0.5647058823529412,\"rgb(223,47,67)\"],[0.6274509803921569,\"rgb(236,76,61)\"],[0.6901960784313725,\"rgb(242,107,73)\"],[0.7529411764705882,\"rgb(244,135,95)\"],[0.8156862745098039,\"rgb(245,162,122)\"],[0.8784313725490196,\"rgb(246,188,153)\"],[0.9411764705882353,\"rgb(247,212,187)\"],[1.0,\"rgb(250,234,220)\"]],\"type\":\"histogram2dcontour\"}],\"histogram2d\":[{\"colorbar\":{\"outlinewidth\":0,\"tickcolor\":\"rgb(36,36,36)\",\"ticklen\":8,\"ticks\":\"outside\",\"tickwidth\":2},\"colorscale\":[[0.0,\"rgb(2,4,25)\"],[0.06274509803921569,\"rgb(24,15,41)\"],[0.12549019607843137,\"rgb(47,23,57)\"],[0.18823529411764706,\"rgb(71,28,72)\"],[0.25098039215686274,\"rgb(97,30,82)\"],[0.3137254901960784,\"rgb(123,30,89)\"],[0.3764705882352941,\"rgb(150,27,91)\"],[0.4392156862745098,\"rgb(177,22,88)\"],[0.5019607843137255,\"rgb(203,26,79)\"],[0.5647058823529412,\"rgb(223,47,67)\"],[0.6274509803921569,\"rgb(236,76,61)\"],[0.6901960784313725,\"rgb(242,107,73)\"],[0.7529411764705882,\"rgb(244,135,95)\"],[0.8156862745098039,\"rgb(245,162,122)\"],[0.8784313725490196,\"rgb(246,188,153)\"],[0.9411764705882353,\"rgb(247,212,187)\"],[1.0,\"rgb(250,234,220)\"]],\"type\":\"histogram2d\"}],\"histogram\":[{\"marker\":{\"pattern\":{\"fillmode\":\"overlay\",\"size\":10,\"solidity\":0.2}},\"type\":\"histogram\"}],\"mesh3d\":[{\"colorbar\":{\"outlinewidth\":0,\"tickcolor\":\"rgb(36,36,36)\",\"ticklen\":8,\"ticks\":\"outside\",\"tickwidth\":2},\"type\":\"mesh3d\"}],\"parcoords\":[{\"line\":{\"colorbar\":{\"outlinewidth\":0,\"tickcolor\":\"rgb(36,36,36)\",\"ticklen\":8,\"ticks\":\"outside\",\"tickwidth\":2}},\"type\":\"parcoords\"}],\"pie\":[{\"automargin\":true,\"type\":\"pie\"}],\"scatter3d\":[{\"line\":{\"colorbar\":{\"outlinewidth\":0,\"tickcolor\":\"rgb(36,36,36)\",\"ticklen\":8,\"ticks\":\"outside\",\"tickwidth\":2}},\"marker\":{\"colorbar\":{\"outlinewidth\":0,\"tickcolor\":\"rgb(36,36,36)\",\"ticklen\":8,\"ticks\":\"outside\",\"tickwidth\":2}},\"type\":\"scatter3d\"}],\"scattercarpet\":[{\"marker\":{\"colorbar\":{\"outlinewidth\":0,\"tickcolor\":\"rgb(36,36,36)\",\"ticklen\":8,\"ticks\":\"outside\",\"tickwidth\":2}},\"type\":\"scattercarpet\"}],\"scattergeo\":[{\"marker\":{\"colorbar\":{\"outlinewidth\":0,\"tickcolor\":\"rgb(36,36,36)\",\"ticklen\":8,\"ticks\":\"outside\",\"tickwidth\":2}},\"type\":\"scattergeo\"}],\"scattergl\":[{\"marker\":{\"colorbar\":{\"outlinewidth\":0,\"tickcolor\":\"rgb(36,36,36)\",\"ticklen\":8,\"ticks\":\"outside\",\"tickwidth\":2}},\"type\":\"scattergl\"}],\"scattermapbox\":[{\"marker\":{\"colorbar\":{\"outlinewidth\":0,\"tickcolor\":\"rgb(36,36,36)\",\"ticklen\":8,\"ticks\":\"outside\",\"tickwidth\":2}},\"type\":\"scattermapbox\"}],\"scatterpolargl\":[{\"marker\":{\"colorbar\":{\"outlinewidth\":0,\"tickcolor\":\"rgb(36,36,36)\",\"ticklen\":8,\"ticks\":\"outside\",\"tickwidth\":2}},\"type\":\"scatterpolargl\"}],\"scatterpolar\":[{\"marker\":{\"colorbar\":{\"outlinewidth\":0,\"tickcolor\":\"rgb(36,36,36)\",\"ticklen\":8,\"ticks\":\"outside\",\"tickwidth\":2}},\"type\":\"scatterpolar\"}],\"scatter\":[{\"marker\":{\"colorbar\":{\"outlinewidth\":0,\"tickcolor\":\"rgb(36,36,36)\",\"ticklen\":8,\"ticks\":\"outside\",\"tickwidth\":2}},\"type\":\"scatter\"}],\"scatterternary\":[{\"marker\":{\"colorbar\":{\"outlinewidth\":0,\"tickcolor\":\"rgb(36,36,36)\",\"ticklen\":8,\"ticks\":\"outside\",\"tickwidth\":2}},\"type\":\"scatterternary\"}],\"surface\":[{\"colorbar\":{\"outlinewidth\":0,\"tickcolor\":\"rgb(36,36,36)\",\"ticklen\":8,\"ticks\":\"outside\",\"tickwidth\":2},\"colorscale\":[[0.0,\"rgb(2,4,25)\"],[0.06274509803921569,\"rgb(24,15,41)\"],[0.12549019607843137,\"rgb(47,23,57)\"],[0.18823529411764706,\"rgb(71,28,72)\"],[0.25098039215686274,\"rgb(97,30,82)\"],[0.3137254901960784,\"rgb(123,30,89)\"],[0.3764705882352941,\"rgb(150,27,91)\"],[0.4392156862745098,\"rgb(177,22,88)\"],[0.5019607843137255,\"rgb(203,26,79)\"],[0.5647058823529412,\"rgb(223,47,67)\"],[0.6274509803921569,\"rgb(236,76,61)\"],[0.6901960784313725,\"rgb(242,107,73)\"],[0.7529411764705882,\"rgb(244,135,95)\"],[0.8156862745098039,\"rgb(245,162,122)\"],[0.8784313725490196,\"rgb(246,188,153)\"],[0.9411764705882353,\"rgb(247,212,187)\"],[1.0,\"rgb(250,234,220)\"]],\"type\":\"surface\"}],\"table\":[{\"cells\":{\"fill\":{\"color\":\"rgb(231,231,240)\"},\"line\":{\"color\":\"white\"}},\"header\":{\"fill\":{\"color\":\"rgb(183,183,191)\"},\"line\":{\"color\":\"white\"}},\"type\":\"table\"}]},\"layout\":{\"annotationdefaults\":{\"arrowcolor\":\"rgb(67,103,167)\"},\"autotypenumbers\":\"strict\",\"coloraxis\":{\"colorbar\":{\"outlinewidth\":0,\"tickcolor\":\"rgb(36,36,36)\",\"ticklen\":8,\"ticks\":\"outside\",\"tickwidth\":2}},\"colorscale\":{\"sequential\":[[0.0,\"rgb(2,4,25)\"],[0.06274509803921569,\"rgb(24,15,41)\"],[0.12549019607843137,\"rgb(47,23,57)\"],[0.18823529411764706,\"rgb(71,28,72)\"],[0.25098039215686274,\"rgb(97,30,82)\"],[0.3137254901960784,\"rgb(123,30,89)\"],[0.3764705882352941,\"rgb(150,27,91)\"],[0.4392156862745098,\"rgb(177,22,88)\"],[0.5019607843137255,\"rgb(203,26,79)\"],[0.5647058823529412,\"rgb(223,47,67)\"],[0.6274509803921569,\"rgb(236,76,61)\"],[0.6901960784313725,\"rgb(242,107,73)\"],[0.7529411764705882,\"rgb(244,135,95)\"],[0.8156862745098039,\"rgb(245,162,122)\"],[0.8784313725490196,\"rgb(246,188,153)\"],[0.9411764705882353,\"rgb(247,212,187)\"],[1.0,\"rgb(250,234,220)\"]],\"sequentialminus\":[[0.0,\"rgb(2,4,25)\"],[0.06274509803921569,\"rgb(24,15,41)\"],[0.12549019607843137,\"rgb(47,23,57)\"],[0.18823529411764706,\"rgb(71,28,72)\"],[0.25098039215686274,\"rgb(97,30,82)\"],[0.3137254901960784,\"rgb(123,30,89)\"],[0.3764705882352941,\"rgb(150,27,91)\"],[0.4392156862745098,\"rgb(177,22,88)\"],[0.5019607843137255,\"rgb(203,26,79)\"],[0.5647058823529412,\"rgb(223,47,67)\"],[0.6274509803921569,\"rgb(236,76,61)\"],[0.6901960784313725,\"rgb(242,107,73)\"],[0.7529411764705882,\"rgb(244,135,95)\"],[0.8156862745098039,\"rgb(245,162,122)\"],[0.8784313725490196,\"rgb(246,188,153)\"],[0.9411764705882353,\"rgb(247,212,187)\"],[1.0,\"rgb(250,234,220)\"]]},\"colorway\":[\"rgb(76,114,176)\",\"rgb(221,132,82)\",\"rgb(85,168,104)\",\"rgb(196,78,82)\",\"rgb(129,114,179)\",\"rgb(147,120,96)\",\"rgb(218,139,195)\",\"rgb(140,140,140)\",\"rgb(204,185,116)\",\"rgb(100,181,205)\"],\"font\":{\"color\":\"rgb(36,36,36)\"},\"geo\":{\"bgcolor\":\"white\",\"lakecolor\":\"white\",\"landcolor\":\"rgb(234,234,242)\",\"showlakes\":true,\"showland\":true,\"subunitcolor\":\"white\"},\"hoverlabel\":{\"align\":\"left\"},\"hovermode\":\"closest\",\"paper_bgcolor\":\"white\",\"plot_bgcolor\":\"rgb(234,234,242)\",\"polar\":{\"angularaxis\":{\"gridcolor\":\"white\",\"linecolor\":\"white\",\"showgrid\":true,\"ticks\":\"\"},\"bgcolor\":\"rgb(234,234,242)\",\"radialaxis\":{\"gridcolor\":\"white\",\"linecolor\":\"white\",\"showgrid\":true,\"ticks\":\"\"}},\"scene\":{\"xaxis\":{\"backgroundcolor\":\"rgb(234,234,242)\",\"gridcolor\":\"white\",\"gridwidth\":2,\"linecolor\":\"white\",\"showbackground\":true,\"showgrid\":true,\"ticks\":\"\",\"zerolinecolor\":\"white\"},\"yaxis\":{\"backgroundcolor\":\"rgb(234,234,242)\",\"gridcolor\":\"white\",\"gridwidth\":2,\"linecolor\":\"white\",\"showbackground\":true,\"showgrid\":true,\"ticks\":\"\",\"zerolinecolor\":\"white\"},\"zaxis\":{\"backgroundcolor\":\"rgb(234,234,242)\",\"gridcolor\":\"white\",\"gridwidth\":2,\"linecolor\":\"white\",\"showbackground\":true,\"showgrid\":true,\"ticks\":\"\",\"zerolinecolor\":\"white\"}},\"shapedefaults\":{\"fillcolor\":\"rgb(67,103,167)\",\"line\":{\"width\":0},\"opacity\":0.5},\"ternary\":{\"aaxis\":{\"gridcolor\":\"white\",\"linecolor\":\"white\",\"showgrid\":true,\"ticks\":\"\"},\"baxis\":{\"gridcolor\":\"white\",\"linecolor\":\"white\",\"showgrid\":true,\"ticks\":\"\"},\"bgcolor\":\"rgb(234,234,242)\",\"caxis\":{\"gridcolor\":\"white\",\"linecolor\":\"white\",\"showgrid\":true,\"ticks\":\"\"}},\"xaxis\":{\"automargin\":true,\"gridcolor\":\"white\",\"linecolor\":\"white\",\"showgrid\":true,\"ticks\":\"\",\"title\":{\"standoff\":15},\"zerolinecolor\":\"white\"},\"yaxis\":{\"automargin\":true,\"gridcolor\":\"white\",\"linecolor\":\"white\",\"showgrid\":true,\"ticks\":\"\",\"title\":{\"standoff\":15},\"zerolinecolor\":\"white\"}}},\"xaxis\":{\"anchor\":\"y\",\"domain\":[0.0,1.0],\"title\":{\"text\":\"Profiss\\u00f5es\"},\"categoryorder\":\"array\",\"categoryarray\":[\"Data Scientist\",\"Data Engineer\",\"Data Analyst\",\"Machine Learning Engineer\",\"Research Scientist\",\"Data Science Manager\",\"Data Architect\",\"Big Data Engineer\",\"Machine Learning Scientist\",\"Principal Data Scientist\"]},\"yaxis\":{\"anchor\":\"x\",\"domain\":[0.0,1.0],\"title\":{\"text\":\"Total\"}},\"legend\":{\"title\":{\"text\":\"Profiss\\u00f5es\"},\"tracegroupgap\":0},\"title\":{\"text\":\"<b> As 10 profiss\\u00f5es mais recorrentes em Data Science\"},\"barmode\":\"relative\"},                        {\"responsive\": true}                    ).then(function(){\n",
              "                            \n",
              "var gd = document.getElementById('c245b3c4-e468-4d46-8268-450187fbe9db');\n",
              "var x = new MutationObserver(function (mutations, observer) {{\n",
              "        var display = window.getComputedStyle(gd).display;\n",
              "        if (!display || display === 'none') {{\n",
              "            console.log([gd, 'removed!']);\n",
              "            Plotly.purge(gd);\n",
              "            observer.disconnect();\n",
              "        }}\n",
              "}});\n",
              "\n",
              "// Listen for the removal of the full notebook cells\n",
              "var notebookContainer = gd.closest('#notebook-container');\n",
              "if (notebookContainer) {{\n",
              "    x.observe(notebookContainer, {childList: true});\n",
              "}}\n",
              "\n",
              "// Listen for the clearing of the current output cell\n",
              "var outputEl = gd.closest('.output');\n",
              "if (outputEl) {{\n",
              "    x.observe(outputEl, {childList: true});\n",
              "}}\n",
              "\n",
              "                        })                };                            </script>        </div>\n",
              "</body>\n",
              "</html>"
            ]
          },
          "metadata": {}
        }
      ]
    },
    {
      "cell_type": "code",
      "source": [
        "#Maiores salários \n",
        "fig=px.bar(ds_salaries.groupby('job_title',as_index=False)['salary_in_usd'].max().sort_values(by='salary_in_usd',ascending=False).head(10),x='job_title',y='salary_in_usd',color='job_title',labels={'job_title':'Profissão','salary_in_usd':'Salário'},template='ggplot2',text='salary_in_usd',title='<b> Os 10 maiores salários em Data Science')\n",
        "fig.show()"
      ],
      "metadata": {
        "colab": {
          "base_uri": "https://localhost:8080/",
          "height": 542
        },
        "id": "A5WKG1Xgmwny",
        "outputId": "c5ff53b5-b694-4506-b966-04c024e37be2"
      },
      "execution_count": null,
      "outputs": [
        {
          "output_type": "display_data",
          "data": {
            "text/html": [
              "<html>\n",
              "<head><meta charset=\"utf-8\" /></head>\n",
              "<body>\n",
              "    <div>            <script src=\"https://cdnjs.cloudflare.com/ajax/libs/mathjax/2.7.5/MathJax.js?config=TeX-AMS-MML_SVG\"></script><script type=\"text/javascript\">if (window.MathJax) {MathJax.Hub.Config({SVG: {font: \"STIX-Web\"}});}</script>                <script type=\"text/javascript\">window.PlotlyConfig = {MathJaxConfig: 'local'};</script>\n",
              "        <script src=\"https://cdn.plot.ly/plotly-2.8.3.min.js\"></script>                <div id=\"a698f290-1b33-4f54-a84a-8a12b496850f\" class=\"plotly-graph-div\" style=\"height:525px; width:100%;\"></div>            <script type=\"text/javascript\">                                    window.PLOTLYENV=window.PLOTLYENV || {};                                    if (document.getElementById(\"a698f290-1b33-4f54-a84a-8a12b496850f\")) {                    Plotly.newPlot(                        \"a698f290-1b33-4f54-a84a-8a12b496850f\",                        [{\"alignmentgroup\":\"True\",\"hovertemplate\":\"Profiss\\u00e3o=%{x}<br>Sal\\u00e1rio=%{text}<extra></extra>\",\"legendgroup\":\"Principal Data Engineer\",\"marker\":{\"color\":\"#F8766D\",\"pattern\":{\"shape\":\"\"}},\"name\":\"Principal Data Engineer\",\"offsetgroup\":\"Principal Data Engineer\",\"orientation\":\"v\",\"showlegend\":true,\"text\":[600000.0],\"textposition\":\"auto\",\"x\":[\"Principal Data Engineer\"],\"xaxis\":\"x\",\"y\":[600000],\"yaxis\":\"y\",\"type\":\"bar\"},{\"alignmentgroup\":\"True\",\"hovertemplate\":\"Profiss\\u00e3o=%{x}<br>Sal\\u00e1rio=%{text}<extra></extra>\",\"legendgroup\":\"Financial Data Analyst\",\"marker\":{\"color\":\"#A3A500\",\"pattern\":{\"shape\":\"\"}},\"name\":\"Financial Data Analyst\",\"offsetgroup\":\"Financial Data Analyst\",\"orientation\":\"v\",\"showlegend\":true,\"text\":[450000.0],\"textposition\":\"auto\",\"x\":[\"Financial Data Analyst\"],\"xaxis\":\"x\",\"y\":[450000],\"yaxis\":\"y\",\"type\":\"bar\"},{\"alignmentgroup\":\"True\",\"hovertemplate\":\"Profiss\\u00e3o=%{x}<br>Sal\\u00e1rio=%{text}<extra></extra>\",\"legendgroup\":\"Research Scientist\",\"marker\":{\"color\":\"#00BF7D\",\"pattern\":{\"shape\":\"\"}},\"name\":\"Research Scientist\",\"offsetgroup\":\"Research Scientist\",\"orientation\":\"v\",\"showlegend\":true,\"text\":[450000.0],\"textposition\":\"auto\",\"x\":[\"Research Scientist\"],\"xaxis\":\"x\",\"y\":[450000],\"yaxis\":\"y\",\"type\":\"bar\"},{\"alignmentgroup\":\"True\",\"hovertemplate\":\"Profiss\\u00e3o=%{x}<br>Sal\\u00e1rio=%{text}<extra></extra>\",\"legendgroup\":\"Applied Machine Learning Scientist\",\"marker\":{\"color\":\"#00B0F6\",\"pattern\":{\"shape\":\"\"}},\"name\":\"Applied Machine Learning Scientist\",\"offsetgroup\":\"Applied Machine Learning Scientist\",\"orientation\":\"v\",\"showlegend\":true,\"text\":[423000.0],\"textposition\":\"auto\",\"x\":[\"Applied Machine Learning Scientist\"],\"xaxis\":\"x\",\"y\":[423000],\"yaxis\":\"y\",\"type\":\"bar\"},{\"alignmentgroup\":\"True\",\"hovertemplate\":\"Profiss\\u00e3o=%{x}<br>Sal\\u00e1rio=%{text}<extra></extra>\",\"legendgroup\":\"Principal Data Scientist\",\"marker\":{\"color\":\"#E76BF3\",\"pattern\":{\"shape\":\"\"}},\"name\":\"Principal Data Scientist\",\"offsetgroup\":\"Principal Data Scientist\",\"orientation\":\"v\",\"showlegend\":true,\"text\":[416000.0],\"textposition\":\"auto\",\"x\":[\"Principal Data Scientist\"],\"xaxis\":\"x\",\"y\":[416000],\"yaxis\":\"y\",\"type\":\"bar\"},{\"alignmentgroup\":\"True\",\"hovertemplate\":\"Profiss\\u00e3o=%{x}<br>Sal\\u00e1rio=%{text}<extra></extra>\",\"legendgroup\":\"Data Scientist\",\"marker\":{\"color\":\"#F8766D\",\"pattern\":{\"shape\":\"\"}},\"name\":\"Data Scientist\",\"offsetgroup\":\"Data Scientist\",\"orientation\":\"v\",\"showlegend\":true,\"text\":[412000.0],\"textposition\":\"auto\",\"x\":[\"Data Scientist\"],\"xaxis\":\"x\",\"y\":[412000],\"yaxis\":\"y\",\"type\":\"bar\"},{\"alignmentgroup\":\"True\",\"hovertemplate\":\"Profiss\\u00e3o=%{x}<br>Sal\\u00e1rio=%{text}<extra></extra>\",\"legendgroup\":\"Data Analytics Lead\",\"marker\":{\"color\":\"#A3A500\",\"pattern\":{\"shape\":\"\"}},\"name\":\"Data Analytics Lead\",\"offsetgroup\":\"Data Analytics Lead\",\"orientation\":\"v\",\"showlegend\":true,\"text\":[405000.0],\"textposition\":\"auto\",\"x\":[\"Data Analytics Lead\"],\"xaxis\":\"x\",\"y\":[405000],\"yaxis\":\"y\",\"type\":\"bar\"},{\"alignmentgroup\":\"True\",\"hovertemplate\":\"Profiss\\u00e3o=%{x}<br>Sal\\u00e1rio=%{text}<extra></extra>\",\"legendgroup\":\"Applied Data Scientist\",\"marker\":{\"color\":\"#00BF7D\",\"pattern\":{\"shape\":\"\"}},\"name\":\"Applied Data Scientist\",\"offsetgroup\":\"Applied Data Scientist\",\"orientation\":\"v\",\"showlegend\":true,\"text\":[380000.0],\"textposition\":\"auto\",\"x\":[\"Applied Data Scientist\"],\"xaxis\":\"x\",\"y\":[380000],\"yaxis\":\"y\",\"type\":\"bar\"},{\"alignmentgroup\":\"True\",\"hovertemplate\":\"Profiss\\u00e3o=%{x}<br>Sal\\u00e1rio=%{text}<extra></extra>\",\"legendgroup\":\"Director of Data Science\",\"marker\":{\"color\":\"#00B0F6\",\"pattern\":{\"shape\":\"\"}},\"name\":\"Director of Data Science\",\"offsetgroup\":\"Director of Data Science\",\"orientation\":\"v\",\"showlegend\":true,\"text\":[325000.0],\"textposition\":\"auto\",\"x\":[\"Director of Data Science\"],\"xaxis\":\"x\",\"y\":[325000],\"yaxis\":\"y\",\"type\":\"bar\"},{\"alignmentgroup\":\"True\",\"hovertemplate\":\"Profiss\\u00e3o=%{x}<br>Sal\\u00e1rio=%{text}<extra></extra>\",\"legendgroup\":\"Data Engineer\",\"marker\":{\"color\":\"#E76BF3\",\"pattern\":{\"shape\":\"\"}},\"name\":\"Data Engineer\",\"offsetgroup\":\"Data Engineer\",\"orientation\":\"v\",\"showlegend\":true,\"text\":[324000.0],\"textposition\":\"auto\",\"x\":[\"Data Engineer\"],\"xaxis\":\"x\",\"y\":[324000],\"yaxis\":\"y\",\"type\":\"bar\"}],                        {\"template\":{\"data\":{\"barpolar\":[{\"marker\":{\"line\":{\"color\":\"rgb(237,237,237)\",\"width\":0.5},\"pattern\":{\"fillmode\":\"overlay\",\"size\":10,\"solidity\":0.2}},\"type\":\"barpolar\"}],\"bar\":[{\"error_x\":{\"color\":\"rgb(51,51,51)\"},\"error_y\":{\"color\":\"rgb(51,51,51)\"},\"marker\":{\"line\":{\"color\":\"rgb(237,237,237)\",\"width\":0.5},\"pattern\":{\"fillmode\":\"overlay\",\"size\":10,\"solidity\":0.2}},\"type\":\"bar\"}],\"carpet\":[{\"aaxis\":{\"endlinecolor\":\"rgb(51,51,51)\",\"gridcolor\":\"white\",\"linecolor\":\"white\",\"minorgridcolor\":\"white\",\"startlinecolor\":\"rgb(51,51,51)\"},\"baxis\":{\"endlinecolor\":\"rgb(51,51,51)\",\"gridcolor\":\"white\",\"linecolor\":\"white\",\"minorgridcolor\":\"white\",\"startlinecolor\":\"rgb(51,51,51)\"},\"type\":\"carpet\"}],\"choropleth\":[{\"colorbar\":{\"outlinewidth\":0,\"tickcolor\":\"rgb(237,237,237)\",\"ticklen\":6,\"ticks\":\"inside\"},\"type\":\"choropleth\"}],\"contourcarpet\":[{\"colorbar\":{\"outlinewidth\":0,\"tickcolor\":\"rgb(237,237,237)\",\"ticklen\":6,\"ticks\":\"inside\"},\"type\":\"contourcarpet\"}],\"contour\":[{\"colorbar\":{\"outlinewidth\":0,\"tickcolor\":\"rgb(237,237,237)\",\"ticklen\":6,\"ticks\":\"inside\"},\"colorscale\":[[0,\"rgb(20,44,66)\"],[1,\"rgb(90,179,244)\"]],\"type\":\"contour\"}],\"heatmapgl\":[{\"colorbar\":{\"outlinewidth\":0,\"tickcolor\":\"rgb(237,237,237)\",\"ticklen\":6,\"ticks\":\"inside\"},\"colorscale\":[[0,\"rgb(20,44,66)\"],[1,\"rgb(90,179,244)\"]],\"type\":\"heatmapgl\"}],\"heatmap\":[{\"colorbar\":{\"outlinewidth\":0,\"tickcolor\":\"rgb(237,237,237)\",\"ticklen\":6,\"ticks\":\"inside\"},\"colorscale\":[[0,\"rgb(20,44,66)\"],[1,\"rgb(90,179,244)\"]],\"type\":\"heatmap\"}],\"histogram2dcontour\":[{\"colorbar\":{\"outlinewidth\":0,\"tickcolor\":\"rgb(237,237,237)\",\"ticklen\":6,\"ticks\":\"inside\"},\"colorscale\":[[0,\"rgb(20,44,66)\"],[1,\"rgb(90,179,244)\"]],\"type\":\"histogram2dcontour\"}],\"histogram2d\":[{\"colorbar\":{\"outlinewidth\":0,\"tickcolor\":\"rgb(237,237,237)\",\"ticklen\":6,\"ticks\":\"inside\"},\"colorscale\":[[0,\"rgb(20,44,66)\"],[1,\"rgb(90,179,244)\"]],\"type\":\"histogram2d\"}],\"histogram\":[{\"marker\":{\"pattern\":{\"fillmode\":\"overlay\",\"size\":10,\"solidity\":0.2}},\"type\":\"histogram\"}],\"mesh3d\":[{\"colorbar\":{\"outlinewidth\":0,\"tickcolor\":\"rgb(237,237,237)\",\"ticklen\":6,\"ticks\":\"inside\"},\"type\":\"mesh3d\"}],\"parcoords\":[{\"line\":{\"colorbar\":{\"outlinewidth\":0,\"tickcolor\":\"rgb(237,237,237)\",\"ticklen\":6,\"ticks\":\"inside\"}},\"type\":\"parcoords\"}],\"pie\":[{\"automargin\":true,\"type\":\"pie\"}],\"scatter3d\":[{\"line\":{\"colorbar\":{\"outlinewidth\":0,\"tickcolor\":\"rgb(237,237,237)\",\"ticklen\":6,\"ticks\":\"inside\"}},\"marker\":{\"colorbar\":{\"outlinewidth\":0,\"tickcolor\":\"rgb(237,237,237)\",\"ticklen\":6,\"ticks\":\"inside\"}},\"type\":\"scatter3d\"}],\"scattercarpet\":[{\"marker\":{\"colorbar\":{\"outlinewidth\":0,\"tickcolor\":\"rgb(237,237,237)\",\"ticklen\":6,\"ticks\":\"inside\"}},\"type\":\"scattercarpet\"}],\"scattergeo\":[{\"marker\":{\"colorbar\":{\"outlinewidth\":0,\"tickcolor\":\"rgb(237,237,237)\",\"ticklen\":6,\"ticks\":\"inside\"}},\"type\":\"scattergeo\"}],\"scattergl\":[{\"marker\":{\"colorbar\":{\"outlinewidth\":0,\"tickcolor\":\"rgb(237,237,237)\",\"ticklen\":6,\"ticks\":\"inside\"}},\"type\":\"scattergl\"}],\"scattermapbox\":[{\"marker\":{\"colorbar\":{\"outlinewidth\":0,\"tickcolor\":\"rgb(237,237,237)\",\"ticklen\":6,\"ticks\":\"inside\"}},\"type\":\"scattermapbox\"}],\"scatterpolargl\":[{\"marker\":{\"colorbar\":{\"outlinewidth\":0,\"tickcolor\":\"rgb(237,237,237)\",\"ticklen\":6,\"ticks\":\"inside\"}},\"type\":\"scatterpolargl\"}],\"scatterpolar\":[{\"marker\":{\"colorbar\":{\"outlinewidth\":0,\"tickcolor\":\"rgb(237,237,237)\",\"ticklen\":6,\"ticks\":\"inside\"}},\"type\":\"scatterpolar\"}],\"scatter\":[{\"marker\":{\"colorbar\":{\"outlinewidth\":0,\"tickcolor\":\"rgb(237,237,237)\",\"ticklen\":6,\"ticks\":\"inside\"}},\"type\":\"scatter\"}],\"scatterternary\":[{\"marker\":{\"colorbar\":{\"outlinewidth\":0,\"tickcolor\":\"rgb(237,237,237)\",\"ticklen\":6,\"ticks\":\"inside\"}},\"type\":\"scatterternary\"}],\"surface\":[{\"colorbar\":{\"outlinewidth\":0,\"tickcolor\":\"rgb(237,237,237)\",\"ticklen\":6,\"ticks\":\"inside\"},\"colorscale\":[[0,\"rgb(20,44,66)\"],[1,\"rgb(90,179,244)\"]],\"type\":\"surface\"}],\"table\":[{\"cells\":{\"fill\":{\"color\":\"rgb(237,237,237)\"},\"line\":{\"color\":\"white\"}},\"header\":{\"fill\":{\"color\":\"rgb(217,217,217)\"},\"line\":{\"color\":\"white\"}},\"type\":\"table\"}]},\"layout\":{\"annotationdefaults\":{\"arrowhead\":0,\"arrowwidth\":1},\"autotypenumbers\":\"strict\",\"coloraxis\":{\"colorbar\":{\"outlinewidth\":0,\"tickcolor\":\"rgb(237,237,237)\",\"ticklen\":6,\"ticks\":\"inside\"}},\"colorscale\":{\"sequential\":[[0,\"rgb(20,44,66)\"],[1,\"rgb(90,179,244)\"]],\"sequentialminus\":[[0,\"rgb(20,44,66)\"],[1,\"rgb(90,179,244)\"]]},\"colorway\":[\"#F8766D\",\"#A3A500\",\"#00BF7D\",\"#00B0F6\",\"#E76BF3\"],\"font\":{\"color\":\"rgb(51,51,51)\"},\"geo\":{\"bgcolor\":\"white\",\"lakecolor\":\"white\",\"landcolor\":\"rgb(237,237,237)\",\"showlakes\":true,\"showland\":true,\"subunitcolor\":\"white\"},\"hoverlabel\":{\"align\":\"left\"},\"hovermode\":\"closest\",\"paper_bgcolor\":\"white\",\"plot_bgcolor\":\"rgb(237,237,237)\",\"polar\":{\"angularaxis\":{\"gridcolor\":\"white\",\"linecolor\":\"white\",\"showgrid\":true,\"tickcolor\":\"rgb(51,51,51)\",\"ticks\":\"outside\"},\"bgcolor\":\"rgb(237,237,237)\",\"radialaxis\":{\"gridcolor\":\"white\",\"linecolor\":\"white\",\"showgrid\":true,\"tickcolor\":\"rgb(51,51,51)\",\"ticks\":\"outside\"}},\"scene\":{\"xaxis\":{\"backgroundcolor\":\"rgb(237,237,237)\",\"gridcolor\":\"white\",\"gridwidth\":2,\"linecolor\":\"white\",\"showbackground\":true,\"showgrid\":true,\"tickcolor\":\"rgb(51,51,51)\",\"ticks\":\"outside\",\"zerolinecolor\":\"white\"},\"yaxis\":{\"backgroundcolor\":\"rgb(237,237,237)\",\"gridcolor\":\"white\",\"gridwidth\":2,\"linecolor\":\"white\",\"showbackground\":true,\"showgrid\":true,\"tickcolor\":\"rgb(51,51,51)\",\"ticks\":\"outside\",\"zerolinecolor\":\"white\"},\"zaxis\":{\"backgroundcolor\":\"rgb(237,237,237)\",\"gridcolor\":\"white\",\"gridwidth\":2,\"linecolor\":\"white\",\"showbackground\":true,\"showgrid\":true,\"tickcolor\":\"rgb(51,51,51)\",\"ticks\":\"outside\",\"zerolinecolor\":\"white\"}},\"shapedefaults\":{\"fillcolor\":\"black\",\"line\":{\"width\":0},\"opacity\":0.3},\"ternary\":{\"aaxis\":{\"gridcolor\":\"white\",\"linecolor\":\"white\",\"showgrid\":true,\"tickcolor\":\"rgb(51,51,51)\",\"ticks\":\"outside\"},\"baxis\":{\"gridcolor\":\"white\",\"linecolor\":\"white\",\"showgrid\":true,\"tickcolor\":\"rgb(51,51,51)\",\"ticks\":\"outside\"},\"bgcolor\":\"rgb(237,237,237)\",\"caxis\":{\"gridcolor\":\"white\",\"linecolor\":\"white\",\"showgrid\":true,\"tickcolor\":\"rgb(51,51,51)\",\"ticks\":\"outside\"}},\"xaxis\":{\"automargin\":true,\"gridcolor\":\"white\",\"linecolor\":\"white\",\"showgrid\":true,\"tickcolor\":\"rgb(51,51,51)\",\"ticks\":\"outside\",\"title\":{\"standoff\":15},\"zerolinecolor\":\"white\"},\"yaxis\":{\"automargin\":true,\"gridcolor\":\"white\",\"linecolor\":\"white\",\"showgrid\":true,\"tickcolor\":\"rgb(51,51,51)\",\"ticks\":\"outside\",\"title\":{\"standoff\":15},\"zerolinecolor\":\"white\"}}},\"xaxis\":{\"anchor\":\"y\",\"domain\":[0.0,1.0],\"title\":{\"text\":\"Profiss\\u00e3o\"},\"categoryorder\":\"array\",\"categoryarray\":[\"Principal Data Engineer\",\"Financial Data Analyst\",\"Research Scientist\",\"Applied Machine Learning Scientist\",\"Principal Data Scientist\",\"Data Scientist\",\"Data Analytics Lead\",\"Applied Data Scientist\",\"Director of Data Science\",\"Data Engineer\"]},\"yaxis\":{\"anchor\":\"x\",\"domain\":[0.0,1.0],\"title\":{\"text\":\"Sal\\u00e1rio\"}},\"legend\":{\"title\":{\"text\":\"Profiss\\u00e3o\"},\"tracegroupgap\":0},\"title\":{\"text\":\"<b> Os 10 maiores sal\\u00e1rios em Data Science\"},\"barmode\":\"relative\"},                        {\"responsive\": true}                    ).then(function(){\n",
              "                            \n",
              "var gd = document.getElementById('a698f290-1b33-4f54-a84a-8a12b496850f');\n",
              "var x = new MutationObserver(function (mutations, observer) {{\n",
              "        var display = window.getComputedStyle(gd).display;\n",
              "        if (!display || display === 'none') {{\n",
              "            console.log([gd, 'removed!']);\n",
              "            Plotly.purge(gd);\n",
              "            observer.disconnect();\n",
              "        }}\n",
              "}});\n",
              "\n",
              "// Listen for the removal of the full notebook cells\n",
              "var notebookContainer = gd.closest('#notebook-container');\n",
              "if (notebookContainer) {{\n",
              "    x.observe(notebookContainer, {childList: true});\n",
              "}}\n",
              "\n",
              "// Listen for the clearing of the current output cell\n",
              "var outputEl = gd.closest('.output');\n",
              "if (outputEl) {{\n",
              "    x.observe(outputEl, {childList: true});\n",
              "}}\n",
              "\n",
              "                        })                };                            </script>        </div>\n",
              "</body>\n",
              "</html>"
            ]
          },
          "metadata": {}
        }
      ]
    },
    {
      "cell_type": "code",
      "source": [
        "#Maiores salários em média por ocupação\n",
        "mean_salaries=ds_salaries.groupby('job_title',as_index=False)['salary_in_usd'].mean().sort_values(by='salary_in_usd',ascending=False)\n",
        "mean_salaries['salary_in_usd']=round(mean_salaries['salary_in_usd'],2)\n",
        "fig=px.bar(mean_salaries.head(10),x='job_title',y='salary_in_usd',color='job_title',labels={'job_title':'Profissão','salary_in_usd':'Salário Médio'},text='salary_in_usd',template='seaborn',title='<b> Os 10 maiores salários médios em Data Science')\n",
        "fig.update_traces(textfont_size=8)\n",
        "fig.show()"
      ],
      "metadata": {
        "colab": {
          "base_uri": "https://localhost:8080/",
          "height": 542
        },
        "id": "x4PnjW9lnVEk",
        "outputId": "472dc5ad-1c83-4abe-d350-d8ac380a863f"
      },
      "execution_count": null,
      "outputs": [
        {
          "output_type": "display_data",
          "data": {
            "text/html": [
              "<html>\n",
              "<head><meta charset=\"utf-8\" /></head>\n",
              "<body>\n",
              "    <div>            <script src=\"https://cdnjs.cloudflare.com/ajax/libs/mathjax/2.7.5/MathJax.js?config=TeX-AMS-MML_SVG\"></script><script type=\"text/javascript\">if (window.MathJax) {MathJax.Hub.Config({SVG: {font: \"STIX-Web\"}});}</script>                <script type=\"text/javascript\">window.PlotlyConfig = {MathJaxConfig: 'local'};</script>\n",
              "        <script src=\"https://cdn.plot.ly/plotly-2.8.3.min.js\"></script>                <div id=\"c2a0b6b6-924d-4791-b27b-2a145ccdde85\" class=\"plotly-graph-div\" style=\"height:525px; width:100%;\"></div>            <script type=\"text/javascript\">                                    window.PLOTLYENV=window.PLOTLYENV || {};                                    if (document.getElementById(\"c2a0b6b6-924d-4791-b27b-2a145ccdde85\")) {                    Plotly.newPlot(                        \"c2a0b6b6-924d-4791-b27b-2a145ccdde85\",                        [{\"alignmentgroup\":\"True\",\"hovertemplate\":\"Profiss\\u00e3o=%{x}<br>Sal\\u00e1rio M\\u00e9dio=%{text}<extra></extra>\",\"legendgroup\":\"Data Analytics Lead\",\"marker\":{\"color\":\"rgb(76,114,176)\",\"pattern\":{\"shape\":\"\"}},\"name\":\"Data Analytics Lead\",\"offsetgroup\":\"Data Analytics Lead\",\"orientation\":\"v\",\"showlegend\":true,\"text\":[405000.0],\"textposition\":\"auto\",\"x\":[\"Data Analytics Lead\"],\"xaxis\":\"x\",\"y\":[405000.0],\"yaxis\":\"y\",\"type\":\"bar\",\"textfont\":{\"size\":8}},{\"alignmentgroup\":\"True\",\"hovertemplate\":\"Profiss\\u00e3o=%{x}<br>Sal\\u00e1rio M\\u00e9dio=%{text}<extra></extra>\",\"legendgroup\":\"Principal Data Engineer\",\"marker\":{\"color\":\"rgb(221,132,82)\",\"pattern\":{\"shape\":\"\"}},\"name\":\"Principal Data Engineer\",\"offsetgroup\":\"Principal Data Engineer\",\"orientation\":\"v\",\"showlegend\":true,\"text\":[328333.33],\"textposition\":\"auto\",\"x\":[\"Principal Data Engineer\"],\"xaxis\":\"x\",\"y\":[328333.33],\"yaxis\":\"y\",\"type\":\"bar\",\"textfont\":{\"size\":8}},{\"alignmentgroup\":\"True\",\"hovertemplate\":\"Profiss\\u00e3o=%{x}<br>Sal\\u00e1rio M\\u00e9dio=%{text}<extra></extra>\",\"legendgroup\":\"Financial Data Analyst\",\"marker\":{\"color\":\"rgb(85,168,104)\",\"pattern\":{\"shape\":\"\"}},\"name\":\"Financial Data Analyst\",\"offsetgroup\":\"Financial Data Analyst\",\"orientation\":\"v\",\"showlegend\":true,\"text\":[275000.0],\"textposition\":\"auto\",\"x\":[\"Financial Data Analyst\"],\"xaxis\":\"x\",\"y\":[275000.0],\"yaxis\":\"y\",\"type\":\"bar\",\"textfont\":{\"size\":8}},{\"alignmentgroup\":\"True\",\"hovertemplate\":\"Profiss\\u00e3o=%{x}<br>Sal\\u00e1rio M\\u00e9dio=%{text}<extra></extra>\",\"legendgroup\":\"Principal Data Scientist\",\"marker\":{\"color\":\"rgb(196,78,82)\",\"pattern\":{\"shape\":\"\"}},\"name\":\"Principal Data Scientist\",\"offsetgroup\":\"Principal Data Scientist\",\"orientation\":\"v\",\"showlegend\":true,\"text\":[215242.43],\"textposition\":\"auto\",\"x\":[\"Principal Data Scientist\"],\"xaxis\":\"x\",\"y\":[215242.43],\"yaxis\":\"y\",\"type\":\"bar\",\"textfont\":{\"size\":8}},{\"alignmentgroup\":\"True\",\"hovertemplate\":\"Profiss\\u00e3o=%{x}<br>Sal\\u00e1rio M\\u00e9dio=%{text}<extra></extra>\",\"legendgroup\":\"Director of Data Science\",\"marker\":{\"color\":\"rgb(129,114,179)\",\"pattern\":{\"shape\":\"\"}},\"name\":\"Director of Data Science\",\"offsetgroup\":\"Director of Data Science\",\"orientation\":\"v\",\"showlegend\":true,\"text\":[195074.0],\"textposition\":\"auto\",\"x\":[\"Director of Data Science\"],\"xaxis\":\"x\",\"y\":[195074.0],\"yaxis\":\"y\",\"type\":\"bar\",\"textfont\":{\"size\":8}},{\"alignmentgroup\":\"True\",\"hovertemplate\":\"Profiss\\u00e3o=%{x}<br>Sal\\u00e1rio M\\u00e9dio=%{text}<extra></extra>\",\"legendgroup\":\"Data Architect\",\"marker\":{\"color\":\"rgb(147,120,96)\",\"pattern\":{\"shape\":\"\"}},\"name\":\"Data Architect\",\"offsetgroup\":\"Data Architect\",\"orientation\":\"v\",\"showlegend\":true,\"text\":[177873.91],\"textposition\":\"auto\",\"x\":[\"Data Architect\"],\"xaxis\":\"x\",\"y\":[177873.91],\"yaxis\":\"y\",\"type\":\"bar\",\"textfont\":{\"size\":8}},{\"alignmentgroup\":\"True\",\"hovertemplate\":\"Profiss\\u00e3o=%{x}<br>Sal\\u00e1rio M\\u00e9dio=%{text}<extra></extra>\",\"legendgroup\":\"Applied Data Scientist\",\"marker\":{\"color\":\"rgb(218,139,195)\",\"pattern\":{\"shape\":\"\"}},\"name\":\"Applied Data Scientist\",\"offsetgroup\":\"Applied Data Scientist\",\"orientation\":\"v\",\"showlegend\":true,\"text\":[175655.0],\"textposition\":\"auto\",\"x\":[\"Applied Data Scientist\"],\"xaxis\":\"x\",\"y\":[175655.0],\"yaxis\":\"y\",\"type\":\"bar\",\"textfont\":{\"size\":8}},{\"alignmentgroup\":\"True\",\"hovertemplate\":\"Profiss\\u00e3o=%{x}<br>Sal\\u00e1rio M\\u00e9dio=%{text}<extra></extra>\",\"legendgroup\":\"Analytics Engineer\",\"marker\":{\"color\":\"rgb(140,140,140)\",\"pattern\":{\"shape\":\"\"}},\"name\":\"Analytics Engineer\",\"offsetgroup\":\"Analytics Engineer\",\"orientation\":\"v\",\"showlegend\":true,\"text\":[175000.0],\"textposition\":\"auto\",\"x\":[\"Analytics Engineer\"],\"xaxis\":\"x\",\"y\":[175000.0],\"yaxis\":\"y\",\"type\":\"bar\",\"textfont\":{\"size\":8}},{\"alignmentgroup\":\"True\",\"hovertemplate\":\"Profiss\\u00e3o=%{x}<br>Sal\\u00e1rio M\\u00e9dio=%{text}<extra></extra>\",\"legendgroup\":\"Data Specialist\",\"marker\":{\"color\":\"rgb(204,185,116)\",\"pattern\":{\"shape\":\"\"}},\"name\":\"Data Specialist\",\"offsetgroup\":\"Data Specialist\",\"orientation\":\"v\",\"showlegend\":true,\"text\":[165000.0],\"textposition\":\"auto\",\"x\":[\"Data Specialist\"],\"xaxis\":\"x\",\"y\":[165000.0],\"yaxis\":\"y\",\"type\":\"bar\",\"textfont\":{\"size\":8}},{\"alignmentgroup\":\"True\",\"hovertemplate\":\"Profiss\\u00e3o=%{x}<br>Sal\\u00e1rio M\\u00e9dio=%{text}<extra></extra>\",\"legendgroup\":\"Head of Data\",\"marker\":{\"color\":\"rgb(100,181,205)\",\"pattern\":{\"shape\":\"\"}},\"name\":\"Head of Data\",\"offsetgroup\":\"Head of Data\",\"orientation\":\"v\",\"showlegend\":true,\"text\":[160162.6],\"textposition\":\"auto\",\"x\":[\"Head of Data\"],\"xaxis\":\"x\",\"y\":[160162.6],\"yaxis\":\"y\",\"type\":\"bar\",\"textfont\":{\"size\":8}}],                        {\"template\":{\"data\":{\"barpolar\":[{\"marker\":{\"line\":{\"color\":\"rgb(234,234,242)\",\"width\":0.5},\"pattern\":{\"fillmode\":\"overlay\",\"size\":10,\"solidity\":0.2}},\"type\":\"barpolar\"}],\"bar\":[{\"error_x\":{\"color\":\"rgb(36,36,36)\"},\"error_y\":{\"color\":\"rgb(36,36,36)\"},\"marker\":{\"line\":{\"color\":\"rgb(234,234,242)\",\"width\":0.5},\"pattern\":{\"fillmode\":\"overlay\",\"size\":10,\"solidity\":0.2}},\"type\":\"bar\"}],\"carpet\":[{\"aaxis\":{\"endlinecolor\":\"rgb(36,36,36)\",\"gridcolor\":\"white\",\"linecolor\":\"white\",\"minorgridcolor\":\"white\",\"startlinecolor\":\"rgb(36,36,36)\"},\"baxis\":{\"endlinecolor\":\"rgb(36,36,36)\",\"gridcolor\":\"white\",\"linecolor\":\"white\",\"minorgridcolor\":\"white\",\"startlinecolor\":\"rgb(36,36,36)\"},\"type\":\"carpet\"}],\"choropleth\":[{\"colorbar\":{\"outlinewidth\":0,\"tickcolor\":\"rgb(36,36,36)\",\"ticklen\":8,\"ticks\":\"outside\",\"tickwidth\":2},\"type\":\"choropleth\"}],\"contourcarpet\":[{\"colorbar\":{\"outlinewidth\":0,\"tickcolor\":\"rgb(36,36,36)\",\"ticklen\":8,\"ticks\":\"outside\",\"tickwidth\":2},\"type\":\"contourcarpet\"}],\"contour\":[{\"colorbar\":{\"outlinewidth\":0,\"tickcolor\":\"rgb(36,36,36)\",\"ticklen\":8,\"ticks\":\"outside\",\"tickwidth\":2},\"colorscale\":[[0.0,\"rgb(2,4,25)\"],[0.06274509803921569,\"rgb(24,15,41)\"],[0.12549019607843137,\"rgb(47,23,57)\"],[0.18823529411764706,\"rgb(71,28,72)\"],[0.25098039215686274,\"rgb(97,30,82)\"],[0.3137254901960784,\"rgb(123,30,89)\"],[0.3764705882352941,\"rgb(150,27,91)\"],[0.4392156862745098,\"rgb(177,22,88)\"],[0.5019607843137255,\"rgb(203,26,79)\"],[0.5647058823529412,\"rgb(223,47,67)\"],[0.6274509803921569,\"rgb(236,76,61)\"],[0.6901960784313725,\"rgb(242,107,73)\"],[0.7529411764705882,\"rgb(244,135,95)\"],[0.8156862745098039,\"rgb(245,162,122)\"],[0.8784313725490196,\"rgb(246,188,153)\"],[0.9411764705882353,\"rgb(247,212,187)\"],[1.0,\"rgb(250,234,220)\"]],\"type\":\"contour\"}],\"heatmapgl\":[{\"colorbar\":{\"outlinewidth\":0,\"tickcolor\":\"rgb(36,36,36)\",\"ticklen\":8,\"ticks\":\"outside\",\"tickwidth\":2},\"colorscale\":[[0.0,\"rgb(2,4,25)\"],[0.06274509803921569,\"rgb(24,15,41)\"],[0.12549019607843137,\"rgb(47,23,57)\"],[0.18823529411764706,\"rgb(71,28,72)\"],[0.25098039215686274,\"rgb(97,30,82)\"],[0.3137254901960784,\"rgb(123,30,89)\"],[0.3764705882352941,\"rgb(150,27,91)\"],[0.4392156862745098,\"rgb(177,22,88)\"],[0.5019607843137255,\"rgb(203,26,79)\"],[0.5647058823529412,\"rgb(223,47,67)\"],[0.6274509803921569,\"rgb(236,76,61)\"],[0.6901960784313725,\"rgb(242,107,73)\"],[0.7529411764705882,\"rgb(244,135,95)\"],[0.8156862745098039,\"rgb(245,162,122)\"],[0.8784313725490196,\"rgb(246,188,153)\"],[0.9411764705882353,\"rgb(247,212,187)\"],[1.0,\"rgb(250,234,220)\"]],\"type\":\"heatmapgl\"}],\"heatmap\":[{\"colorbar\":{\"outlinewidth\":0,\"tickcolor\":\"rgb(36,36,36)\",\"ticklen\":8,\"ticks\":\"outside\",\"tickwidth\":2},\"colorscale\":[[0.0,\"rgb(2,4,25)\"],[0.06274509803921569,\"rgb(24,15,41)\"],[0.12549019607843137,\"rgb(47,23,57)\"],[0.18823529411764706,\"rgb(71,28,72)\"],[0.25098039215686274,\"rgb(97,30,82)\"],[0.3137254901960784,\"rgb(123,30,89)\"],[0.3764705882352941,\"rgb(150,27,91)\"],[0.4392156862745098,\"rgb(177,22,88)\"],[0.5019607843137255,\"rgb(203,26,79)\"],[0.5647058823529412,\"rgb(223,47,67)\"],[0.6274509803921569,\"rgb(236,76,61)\"],[0.6901960784313725,\"rgb(242,107,73)\"],[0.7529411764705882,\"rgb(244,135,95)\"],[0.8156862745098039,\"rgb(245,162,122)\"],[0.8784313725490196,\"rgb(246,188,153)\"],[0.9411764705882353,\"rgb(247,212,187)\"],[1.0,\"rgb(250,234,220)\"]],\"type\":\"heatmap\"}],\"histogram2dcontour\":[{\"colorbar\":{\"outlinewidth\":0,\"tickcolor\":\"rgb(36,36,36)\",\"ticklen\":8,\"ticks\":\"outside\",\"tickwidth\":2},\"colorscale\":[[0.0,\"rgb(2,4,25)\"],[0.06274509803921569,\"rgb(24,15,41)\"],[0.12549019607843137,\"rgb(47,23,57)\"],[0.18823529411764706,\"rgb(71,28,72)\"],[0.25098039215686274,\"rgb(97,30,82)\"],[0.3137254901960784,\"rgb(123,30,89)\"],[0.3764705882352941,\"rgb(150,27,91)\"],[0.4392156862745098,\"rgb(177,22,88)\"],[0.5019607843137255,\"rgb(203,26,79)\"],[0.5647058823529412,\"rgb(223,47,67)\"],[0.6274509803921569,\"rgb(236,76,61)\"],[0.6901960784313725,\"rgb(242,107,73)\"],[0.7529411764705882,\"rgb(244,135,95)\"],[0.8156862745098039,\"rgb(245,162,122)\"],[0.8784313725490196,\"rgb(246,188,153)\"],[0.9411764705882353,\"rgb(247,212,187)\"],[1.0,\"rgb(250,234,220)\"]],\"type\":\"histogram2dcontour\"}],\"histogram2d\":[{\"colorbar\":{\"outlinewidth\":0,\"tickcolor\":\"rgb(36,36,36)\",\"ticklen\":8,\"ticks\":\"outside\",\"tickwidth\":2},\"colorscale\":[[0.0,\"rgb(2,4,25)\"],[0.06274509803921569,\"rgb(24,15,41)\"],[0.12549019607843137,\"rgb(47,23,57)\"],[0.18823529411764706,\"rgb(71,28,72)\"],[0.25098039215686274,\"rgb(97,30,82)\"],[0.3137254901960784,\"rgb(123,30,89)\"],[0.3764705882352941,\"rgb(150,27,91)\"],[0.4392156862745098,\"rgb(177,22,88)\"],[0.5019607843137255,\"rgb(203,26,79)\"],[0.5647058823529412,\"rgb(223,47,67)\"],[0.6274509803921569,\"rgb(236,76,61)\"],[0.6901960784313725,\"rgb(242,107,73)\"],[0.7529411764705882,\"rgb(244,135,95)\"],[0.8156862745098039,\"rgb(245,162,122)\"],[0.8784313725490196,\"rgb(246,188,153)\"],[0.9411764705882353,\"rgb(247,212,187)\"],[1.0,\"rgb(250,234,220)\"]],\"type\":\"histogram2d\"}],\"histogram\":[{\"marker\":{\"pattern\":{\"fillmode\":\"overlay\",\"size\":10,\"solidity\":0.2}},\"type\":\"histogram\"}],\"mesh3d\":[{\"colorbar\":{\"outlinewidth\":0,\"tickcolor\":\"rgb(36,36,36)\",\"ticklen\":8,\"ticks\":\"outside\",\"tickwidth\":2},\"type\":\"mesh3d\"}],\"parcoords\":[{\"line\":{\"colorbar\":{\"outlinewidth\":0,\"tickcolor\":\"rgb(36,36,36)\",\"ticklen\":8,\"ticks\":\"outside\",\"tickwidth\":2}},\"type\":\"parcoords\"}],\"pie\":[{\"automargin\":true,\"type\":\"pie\"}],\"scatter3d\":[{\"line\":{\"colorbar\":{\"outlinewidth\":0,\"tickcolor\":\"rgb(36,36,36)\",\"ticklen\":8,\"ticks\":\"outside\",\"tickwidth\":2}},\"marker\":{\"colorbar\":{\"outlinewidth\":0,\"tickcolor\":\"rgb(36,36,36)\",\"ticklen\":8,\"ticks\":\"outside\",\"tickwidth\":2}},\"type\":\"scatter3d\"}],\"scattercarpet\":[{\"marker\":{\"colorbar\":{\"outlinewidth\":0,\"tickcolor\":\"rgb(36,36,36)\",\"ticklen\":8,\"ticks\":\"outside\",\"tickwidth\":2}},\"type\":\"scattercarpet\"}],\"scattergeo\":[{\"marker\":{\"colorbar\":{\"outlinewidth\":0,\"tickcolor\":\"rgb(36,36,36)\",\"ticklen\":8,\"ticks\":\"outside\",\"tickwidth\":2}},\"type\":\"scattergeo\"}],\"scattergl\":[{\"marker\":{\"colorbar\":{\"outlinewidth\":0,\"tickcolor\":\"rgb(36,36,36)\",\"ticklen\":8,\"ticks\":\"outside\",\"tickwidth\":2}},\"type\":\"scattergl\"}],\"scattermapbox\":[{\"marker\":{\"colorbar\":{\"outlinewidth\":0,\"tickcolor\":\"rgb(36,36,36)\",\"ticklen\":8,\"ticks\":\"outside\",\"tickwidth\":2}},\"type\":\"scattermapbox\"}],\"scatterpolargl\":[{\"marker\":{\"colorbar\":{\"outlinewidth\":0,\"tickcolor\":\"rgb(36,36,36)\",\"ticklen\":8,\"ticks\":\"outside\",\"tickwidth\":2}},\"type\":\"scatterpolargl\"}],\"scatterpolar\":[{\"marker\":{\"colorbar\":{\"outlinewidth\":0,\"tickcolor\":\"rgb(36,36,36)\",\"ticklen\":8,\"ticks\":\"outside\",\"tickwidth\":2}},\"type\":\"scatterpolar\"}],\"scatter\":[{\"marker\":{\"colorbar\":{\"outlinewidth\":0,\"tickcolor\":\"rgb(36,36,36)\",\"ticklen\":8,\"ticks\":\"outside\",\"tickwidth\":2}},\"type\":\"scatter\"}],\"scatterternary\":[{\"marker\":{\"colorbar\":{\"outlinewidth\":0,\"tickcolor\":\"rgb(36,36,36)\",\"ticklen\":8,\"ticks\":\"outside\",\"tickwidth\":2}},\"type\":\"scatterternary\"}],\"surface\":[{\"colorbar\":{\"outlinewidth\":0,\"tickcolor\":\"rgb(36,36,36)\",\"ticklen\":8,\"ticks\":\"outside\",\"tickwidth\":2},\"colorscale\":[[0.0,\"rgb(2,4,25)\"],[0.06274509803921569,\"rgb(24,15,41)\"],[0.12549019607843137,\"rgb(47,23,57)\"],[0.18823529411764706,\"rgb(71,28,72)\"],[0.25098039215686274,\"rgb(97,30,82)\"],[0.3137254901960784,\"rgb(123,30,89)\"],[0.3764705882352941,\"rgb(150,27,91)\"],[0.4392156862745098,\"rgb(177,22,88)\"],[0.5019607843137255,\"rgb(203,26,79)\"],[0.5647058823529412,\"rgb(223,47,67)\"],[0.6274509803921569,\"rgb(236,76,61)\"],[0.6901960784313725,\"rgb(242,107,73)\"],[0.7529411764705882,\"rgb(244,135,95)\"],[0.8156862745098039,\"rgb(245,162,122)\"],[0.8784313725490196,\"rgb(246,188,153)\"],[0.9411764705882353,\"rgb(247,212,187)\"],[1.0,\"rgb(250,234,220)\"]],\"type\":\"surface\"}],\"table\":[{\"cells\":{\"fill\":{\"color\":\"rgb(231,231,240)\"},\"line\":{\"color\":\"white\"}},\"header\":{\"fill\":{\"color\":\"rgb(183,183,191)\"},\"line\":{\"color\":\"white\"}},\"type\":\"table\"}]},\"layout\":{\"annotationdefaults\":{\"arrowcolor\":\"rgb(67,103,167)\"},\"autotypenumbers\":\"strict\",\"coloraxis\":{\"colorbar\":{\"outlinewidth\":0,\"tickcolor\":\"rgb(36,36,36)\",\"ticklen\":8,\"ticks\":\"outside\",\"tickwidth\":2}},\"colorscale\":{\"sequential\":[[0.0,\"rgb(2,4,25)\"],[0.06274509803921569,\"rgb(24,15,41)\"],[0.12549019607843137,\"rgb(47,23,57)\"],[0.18823529411764706,\"rgb(71,28,72)\"],[0.25098039215686274,\"rgb(97,30,82)\"],[0.3137254901960784,\"rgb(123,30,89)\"],[0.3764705882352941,\"rgb(150,27,91)\"],[0.4392156862745098,\"rgb(177,22,88)\"],[0.5019607843137255,\"rgb(203,26,79)\"],[0.5647058823529412,\"rgb(223,47,67)\"],[0.6274509803921569,\"rgb(236,76,61)\"],[0.6901960784313725,\"rgb(242,107,73)\"],[0.7529411764705882,\"rgb(244,135,95)\"],[0.8156862745098039,\"rgb(245,162,122)\"],[0.8784313725490196,\"rgb(246,188,153)\"],[0.9411764705882353,\"rgb(247,212,187)\"],[1.0,\"rgb(250,234,220)\"]],\"sequentialminus\":[[0.0,\"rgb(2,4,25)\"],[0.06274509803921569,\"rgb(24,15,41)\"],[0.12549019607843137,\"rgb(47,23,57)\"],[0.18823529411764706,\"rgb(71,28,72)\"],[0.25098039215686274,\"rgb(97,30,82)\"],[0.3137254901960784,\"rgb(123,30,89)\"],[0.3764705882352941,\"rgb(150,27,91)\"],[0.4392156862745098,\"rgb(177,22,88)\"],[0.5019607843137255,\"rgb(203,26,79)\"],[0.5647058823529412,\"rgb(223,47,67)\"],[0.6274509803921569,\"rgb(236,76,61)\"],[0.6901960784313725,\"rgb(242,107,73)\"],[0.7529411764705882,\"rgb(244,135,95)\"],[0.8156862745098039,\"rgb(245,162,122)\"],[0.8784313725490196,\"rgb(246,188,153)\"],[0.9411764705882353,\"rgb(247,212,187)\"],[1.0,\"rgb(250,234,220)\"]]},\"colorway\":[\"rgb(76,114,176)\",\"rgb(221,132,82)\",\"rgb(85,168,104)\",\"rgb(196,78,82)\",\"rgb(129,114,179)\",\"rgb(147,120,96)\",\"rgb(218,139,195)\",\"rgb(140,140,140)\",\"rgb(204,185,116)\",\"rgb(100,181,205)\"],\"font\":{\"color\":\"rgb(36,36,36)\"},\"geo\":{\"bgcolor\":\"white\",\"lakecolor\":\"white\",\"landcolor\":\"rgb(234,234,242)\",\"showlakes\":true,\"showland\":true,\"subunitcolor\":\"white\"},\"hoverlabel\":{\"align\":\"left\"},\"hovermode\":\"closest\",\"paper_bgcolor\":\"white\",\"plot_bgcolor\":\"rgb(234,234,242)\",\"polar\":{\"angularaxis\":{\"gridcolor\":\"white\",\"linecolor\":\"white\",\"showgrid\":true,\"ticks\":\"\"},\"bgcolor\":\"rgb(234,234,242)\",\"radialaxis\":{\"gridcolor\":\"white\",\"linecolor\":\"white\",\"showgrid\":true,\"ticks\":\"\"}},\"scene\":{\"xaxis\":{\"backgroundcolor\":\"rgb(234,234,242)\",\"gridcolor\":\"white\",\"gridwidth\":2,\"linecolor\":\"white\",\"showbackground\":true,\"showgrid\":true,\"ticks\":\"\",\"zerolinecolor\":\"white\"},\"yaxis\":{\"backgroundcolor\":\"rgb(234,234,242)\",\"gridcolor\":\"white\",\"gridwidth\":2,\"linecolor\":\"white\",\"showbackground\":true,\"showgrid\":true,\"ticks\":\"\",\"zerolinecolor\":\"white\"},\"zaxis\":{\"backgroundcolor\":\"rgb(234,234,242)\",\"gridcolor\":\"white\",\"gridwidth\":2,\"linecolor\":\"white\",\"showbackground\":true,\"showgrid\":true,\"ticks\":\"\",\"zerolinecolor\":\"white\"}},\"shapedefaults\":{\"fillcolor\":\"rgb(67,103,167)\",\"line\":{\"width\":0},\"opacity\":0.5},\"ternary\":{\"aaxis\":{\"gridcolor\":\"white\",\"linecolor\":\"white\",\"showgrid\":true,\"ticks\":\"\"},\"baxis\":{\"gridcolor\":\"white\",\"linecolor\":\"white\",\"showgrid\":true,\"ticks\":\"\"},\"bgcolor\":\"rgb(234,234,242)\",\"caxis\":{\"gridcolor\":\"white\",\"linecolor\":\"white\",\"showgrid\":true,\"ticks\":\"\"}},\"xaxis\":{\"automargin\":true,\"gridcolor\":\"white\",\"linecolor\":\"white\",\"showgrid\":true,\"ticks\":\"\",\"title\":{\"standoff\":15},\"zerolinecolor\":\"white\"},\"yaxis\":{\"automargin\":true,\"gridcolor\":\"white\",\"linecolor\":\"white\",\"showgrid\":true,\"ticks\":\"\",\"title\":{\"standoff\":15},\"zerolinecolor\":\"white\"}}},\"xaxis\":{\"anchor\":\"y\",\"domain\":[0.0,1.0],\"title\":{\"text\":\"Profiss\\u00e3o\"},\"categoryorder\":\"array\",\"categoryarray\":[\"Data Analytics Lead\",\"Principal Data Engineer\",\"Financial Data Analyst\",\"Principal Data Scientist\",\"Director of Data Science\",\"Data Architect\",\"Applied Data Scientist\",\"Analytics Engineer\",\"Data Specialist\",\"Head of Data\"]},\"yaxis\":{\"anchor\":\"x\",\"domain\":[0.0,1.0],\"title\":{\"text\":\"Sal\\u00e1rio M\\u00e9dio\"}},\"legend\":{\"title\":{\"text\":\"Profiss\\u00e3o\"},\"tracegroupgap\":0},\"title\":{\"text\":\"<b> Os 10 maiores sal\\u00e1rios m\\u00e9dios em Data Science\"},\"barmode\":\"relative\"},                        {\"responsive\": true}                    ).then(function(){\n",
              "                            \n",
              "var gd = document.getElementById('c2a0b6b6-924d-4791-b27b-2a145ccdde85');\n",
              "var x = new MutationObserver(function (mutations, observer) {{\n",
              "        var display = window.getComputedStyle(gd).display;\n",
              "        if (!display || display === 'none') {{\n",
              "            console.log([gd, 'removed!']);\n",
              "            Plotly.purge(gd);\n",
              "            observer.disconnect();\n",
              "        }}\n",
              "}});\n",
              "\n",
              "// Listen for the removal of the full notebook cells\n",
              "var notebookContainer = gd.closest('#notebook-container');\n",
              "if (notebookContainer) {{\n",
              "    x.observe(notebookContainer, {childList: true});\n",
              "}}\n",
              "\n",
              "// Listen for the clearing of the current output cell\n",
              "var outputEl = gd.closest('.output');\n",
              "if (outputEl) {{\n",
              "    x.observe(outputEl, {childList: true});\n",
              "}}\n",
              "\n",
              "                        })                };                            </script>        </div>\n",
              "</body>\n",
              "</html>"
            ]
          },
          "metadata": {}
        }
      ]
    },
    {
      "cell_type": "code",
      "source": [
        "#Distribuição do salário por experiência\n",
        "px.box(ds_salaries,x='experience_level',y='salary_in_usd',color='experience_level',template='ggplot2',labels={'experience_level':'Nível de Experiência','salary_in_usd':'Salário'},title='<b> Distribuição dos Salários por Experiência')"
      ],
      "metadata": {
        "colab": {
          "base_uri": "https://localhost:8080/",
          "height": 542
        },
        "id": "PBv_RjIFebGz",
        "outputId": "5baa9708-4778-4de7-9d67-68af085114ca"
      },
      "execution_count": null,
      "outputs": [
        {
          "output_type": "display_data",
          "data": {
            "text/html": [
              "<html>\n",
              "<head><meta charset=\"utf-8\" /></head>\n",
              "<body>\n",
              "    <div>            <script src=\"https://cdnjs.cloudflare.com/ajax/libs/mathjax/2.7.5/MathJax.js?config=TeX-AMS-MML_SVG\"></script><script type=\"text/javascript\">if (window.MathJax) {MathJax.Hub.Config({SVG: {font: \"STIX-Web\"}});}</script>                <script type=\"text/javascript\">window.PlotlyConfig = {MathJaxConfig: 'local'};</script>\n",
              "        <script src=\"https://cdn.plot.ly/plotly-2.8.3.min.js\"></script>                <div id=\"17ab869f-b810-4e9d-bc8f-bce77271eb28\" class=\"plotly-graph-div\" style=\"height:525px; width:100%;\"></div>            <script type=\"text/javascript\">                                    window.PLOTLYENV=window.PLOTLYENV || {};                                    if (document.getElementById(\"17ab869f-b810-4e9d-bc8f-bce77271eb28\")) {                    Plotly.newPlot(                        \"17ab869f-b810-4e9d-bc8f-bce77271eb28\",                        [{\"alignmentgroup\":\"True\",\"hovertemplate\":\"N\\u00edvel de Experi\\u00eancia=%{x}<br>Sal\\u00e1rio=%{y}<extra></extra>\",\"legendgroup\":\"MI\",\"marker\":{\"color\":\"#F8766D\"},\"name\":\"MI\",\"notched\":false,\"offsetgroup\":\"MI\",\"orientation\":\"v\",\"showlegend\":true,\"x\":[\"MI\",\"MI\",\"MI\",\"MI\",\"MI\",\"MI\",\"MI\",\"MI\",\"MI\",\"MI\",\"MI\",\"MI\",\"MI\",\"MI\",\"MI\",\"MI\",\"MI\",\"MI\",\"MI\",\"MI\",\"MI\",\"MI\",\"MI\",\"MI\",\"MI\",\"MI\",\"MI\",\"MI\",\"MI\",\"MI\",\"MI\",\"MI\",\"MI\",\"MI\",\"MI\",\"MI\",\"MI\",\"MI\",\"MI\",\"MI\",\"MI\",\"MI\",\"MI\",\"MI\",\"MI\",\"MI\",\"MI\",\"MI\",\"MI\",\"MI\",\"MI\",\"MI\",\"MI\",\"MI\",\"MI\",\"MI\",\"MI\",\"MI\",\"MI\",\"MI\",\"MI\",\"MI\",\"MI\",\"MI\",\"MI\",\"MI\",\"MI\",\"MI\",\"MI\",\"MI\",\"MI\",\"MI\",\"MI\",\"MI\",\"MI\",\"MI\",\"MI\",\"MI\",\"MI\",\"MI\",\"MI\",\"MI\",\"MI\",\"MI\",\"MI\",\"MI\",\"MI\",\"MI\",\"MI\",\"MI\",\"MI\",\"MI\",\"MI\",\"MI\",\"MI\",\"MI\",\"MI\",\"MI\",\"MI\",\"MI\",\"MI\",\"MI\",\"MI\",\"MI\",\"MI\",\"MI\",\"MI\",\"MI\",\"MI\",\"MI\",\"MI\",\"MI\",\"MI\",\"MI\",\"MI\",\"MI\",\"MI\",\"MI\",\"MI\",\"MI\",\"MI\",\"MI\",\"MI\",\"MI\",\"MI\",\"MI\",\"MI\",\"MI\",\"MI\",\"MI\",\"MI\",\"MI\",\"MI\",\"MI\",\"MI\",\"MI\",\"MI\",\"MI\",\"MI\",\"MI\",\"MI\",\"MI\",\"MI\",\"MI\",\"MI\",\"MI\",\"MI\",\"MI\",\"MI\",\"MI\",\"MI\",\"MI\",\"MI\",\"MI\",\"MI\",\"MI\",\"MI\",\"MI\",\"MI\",\"MI\",\"MI\",\"MI\",\"MI\",\"MI\",\"MI\",\"MI\",\"MI\",\"MI\",\"MI\",\"MI\",\"MI\",\"MI\",\"MI\",\"MI\",\"MI\",\"MI\",\"MI\",\"MI\",\"MI\",\"MI\",\"MI\",\"MI\",\"MI\",\"MI\",\"MI\",\"MI\",\"MI\",\"MI\",\"MI\",\"MI\",\"MI\",\"MI\",\"MI\",\"MI\",\"MI\",\"MI\",\"MI\",\"MI\",\"MI\",\"MI\",\"MI\",\"MI\",\"MI\",\"MI\",\"MI\",\"MI\",\"MI\",\"MI\",\"MI\",\"MI\",\"MI\",\"MI\",\"MI\"],\"x0\":\" \",\"xaxis\":\"x\",\"y\":[79833,20000,35735,135000,40481,87000,85000,8000,56000,43331,6072,98000,115000,59303,450000,46759,74130,103000,45760,50180,106000,112872,76958,105000,70139,38776,118000,138350,110000,130800,62726,42197,100000,5409,270000,140000,54238,47282,28476,110000,19609,89294,450000,95746,75000,36259,62000,73000,51519,187442,45391,50000,40189,200000,60000,151000,9466,38400,90000,63711,77364,135000,82500,100000,62649,90000,150000,75774,119059,423000,28369,150000,170000,82528,2859,40038,5679,22611,90734,26005,12000,4000,74000,18000,147000,61467,37825,160000,12901,20000,24823,56738,66022,90734,88654,46597,116914,33808,56256,88654,180000,110000,63810,46809,80000,110000,72212,12103,115000,93000,200000,130000,16904,25532,93150,111775,28016,112000,69741,69999,109000,51064,130000,90000,170000,150000,106260,126500,65438,39263,78526,52351,115500,167000,58000,54957,54957,124333,98158,120000,87932,117789,98158,58000,52351,71982,45807,65949,49461,78526,58894,63900,160000,112300,241000,159000,82900,49461,39263,43966,32974,87932,76940,104702,91614,65949,87932,43966,32974,98158,78526,76940,78791,120000,37236,18442,31615,58255,54957,135000,50000,183228,91614,200000,120000,100000,75000,35590,153000,32974,87425,75000,64849,157000,70912,48000,68147,122346,69336,20000,135000,78000,85000,75000,141300,102100,206699,99100,65438,45807,160000,130000,200000],\"y0\":\" \",\"yaxis\":\"y\",\"type\":\"box\"},{\"alignmentgroup\":\"True\",\"hovertemplate\":\"N\\u00edvel de Experi\\u00eancia=%{x}<br>Sal\\u00e1rio=%{y}<extra></extra>\",\"legendgroup\":\"SE\",\"marker\":{\"color\":\"#A3A500\"},\"name\":\"SE\",\"notched\":false,\"offsetgroup\":\"SE\",\"orientation\":\"v\",\"showlegend\":true,\"x\":[\"SE\",\"SE\",\"SE\",\"SE\",\"SE\",\"SE\",\"SE\",\"SE\",\"SE\",\"SE\",\"SE\",\"SE\",\"SE\",\"SE\",\"SE\",\"SE\",\"SE\",\"SE\",\"SE\",\"SE\",\"SE\",\"SE\",\"SE\",\"SE\",\"SE\",\"SE\",\"SE\",\"SE\",\"SE\",\"SE\",\"SE\",\"SE\",\"SE\",\"SE\",\"SE\",\"SE\",\"SE\",\"SE\",\"SE\",\"SE\",\"SE\",\"SE\",\"SE\",\"SE\",\"SE\",\"SE\",\"SE\",\"SE\",\"SE\",\"SE\",\"SE\",\"SE\",\"SE\",\"SE\",\"SE\",\"SE\",\"SE\",\"SE\",\"SE\",\"SE\",\"SE\",\"SE\",\"SE\",\"SE\",\"SE\",\"SE\",\"SE\",\"SE\",\"SE\",\"SE\",\"SE\",\"SE\",\"SE\",\"SE\",\"SE\",\"SE\",\"SE\",\"SE\",\"SE\",\"SE\",\"SE\",\"SE\",\"SE\",\"SE\",\"SE\",\"SE\",\"SE\",\"SE\",\"SE\",\"SE\",\"SE\",\"SE\",\"SE\",\"SE\",\"SE\",\"SE\",\"SE\",\"SE\",\"SE\",\"SE\",\"SE\",\"SE\",\"SE\",\"SE\",\"SE\",\"SE\",\"SE\",\"SE\",\"SE\",\"SE\",\"SE\",\"SE\",\"SE\",\"SE\",\"SE\",\"SE\",\"SE\",\"SE\",\"SE\",\"SE\",\"SE\",\"SE\",\"SE\",\"SE\",\"SE\",\"SE\",\"SE\",\"SE\",\"SE\",\"SE\",\"SE\",\"SE\",\"SE\",\"SE\",\"SE\",\"SE\",\"SE\",\"SE\",\"SE\",\"SE\",\"SE\",\"SE\",\"SE\",\"SE\",\"SE\",\"SE\",\"SE\",\"SE\",\"SE\",\"SE\",\"SE\",\"SE\",\"SE\",\"SE\",\"SE\",\"SE\",\"SE\",\"SE\",\"SE\",\"SE\",\"SE\",\"SE\",\"SE\",\"SE\",\"SE\",\"SE\",\"SE\",\"SE\",\"SE\",\"SE\",\"SE\",\"SE\",\"SE\",\"SE\",\"SE\",\"SE\",\"SE\",\"SE\",\"SE\",\"SE\",\"SE\",\"SE\",\"SE\",\"SE\",\"SE\",\"SE\",\"SE\",\"SE\",\"SE\",\"SE\",\"SE\",\"SE\",\"SE\",\"SE\",\"SE\",\"SE\",\"SE\",\"SE\",\"SE\",\"SE\",\"SE\",\"SE\",\"SE\",\"SE\",\"SE\",\"SE\",\"SE\",\"SE\",\"SE\",\"SE\",\"SE\",\"SE\",\"SE\",\"SE\",\"SE\",\"SE\",\"SE\",\"SE\",\"SE\",\"SE\",\"SE\",\"SE\",\"SE\",\"SE\",\"SE\",\"SE\",\"SE\",\"SE\",\"SE\",\"SE\",\"SE\",\"SE\",\"SE\",\"SE\",\"SE\",\"SE\",\"SE\",\"SE\",\"SE\",\"SE\",\"SE\",\"SE\",\"SE\",\"SE\",\"SE\",\"SE\",\"SE\",\"SE\",\"SE\",\"SE\",\"SE\",\"SE\",\"SE\",\"SE\",\"SE\",\"SE\",\"SE\",\"SE\",\"SE\",\"SE\",\"SE\",\"SE\",\"SE\",\"SE\",\"SE\",\"SE\",\"SE\",\"SE\",\"SE\",\"SE\",\"SE\",\"SE\",\"SE\",\"SE\",\"SE\",\"SE\",\"SE\",\"SE\",\"SE\",\"SE\"],\"x0\":\" \",\"xaxis\":\"x\",\"y\":[260000,109024,150000,190000,125000,114047,47899,33511,117104,68428,188000,60000,148261,120000,412000,45618,190200,91237,53192,79197,170000,80000,88654,276000,150000,115000,150000,94564,113476,103160,200000,120000,40570,24000,220000,240000,150000,82744,153000,160000,168000,144000,127221,120000,165000,235000,60757,174000,61896,50000,76833,152000,174000,96113,24342,54094,195000,50000,200000,165000,120000,185000,140000,225000,87738,135000,71786,256000,200000,200000,103691,165000,96282,170000,99703,173762,185000,63831,66265,160000,18907,77684,55000,20171,105000,94665,102839,135000,155000,120600,102100,84900,136620,99360,117789,104702,146000,123000,99000,116000,165220,120160,90320,181940,132320,220110,160080,180000,120000,124190,170000,112900,90320,112900,90320,165400,132320,243900,136600,109280,128875,93700,156600,108800,95550,113000,135000,161342,137141,167000,123000,78526,65438,150000,211500,192400,90700,130000,61300,130000,61300,160000,138600,136000,170000,123000,189650,164996,132000,165400,208775,147800,136994,101570,128875,93700,132320,164000,155000,112900,90320,145000,105400,215300,158200,209100,154600,115934,81666,175000,183600,180000,260000,60000,180000,80000,100800,140400,189650,164996,215300,209100,154600,180000,80000,105000,87932,162674,144000,104890,100000,140000,220000,140000,185100,220000,120000,65000,210000,120000,230000,200000,78791,100000,165000,93427,62651,115000,71444,152500,380000,405000,177000,135000,100000,90320,214000,192600,266400,213120,112900,155000,115934,81666,130000,115000,110500,130000,99050,160000,205300,140400,176000,144000,200100,160000,145000,70500,205300,140400,205300,184700,175100,140250,116150,54000,170000,80000,140000,210000,140000,100000,69000,210000,140000,210000,150075,100000,25000,126500,106260,220110,160080,105000,110925,140000,99000,60000,192564,144854,230000,150000,150260,109280,210000,170000,154000,126000,129000,150000],\"y0\":\" \",\"yaxis\":\"y\",\"type\":\"box\"},{\"alignmentgroup\":\"True\",\"hovertemplate\":\"N\\u00edvel de Experi\\u00eancia=%{x}<br>Sal\\u00e1rio=%{y}<extra></extra>\",\"legendgroup\":\"EN\",\"marker\":{\"color\":\"#00BF7D\"},\"name\":\"EN\",\"notched\":false,\"offsetgroup\":\"EN\",\"orientation\":\"v\",\"showlegend\":true,\"x\":[\"EN\",\"EN\",\"EN\",\"EN\",\"EN\",\"EN\",\"EN\",\"EN\",\"EN\",\"EN\",\"EN\",\"EN\",\"EN\",\"EN\",\"EN\",\"EN\",\"EN\",\"EN\",\"EN\",\"EN\",\"EN\",\"EN\",\"EN\",\"EN\",\"EN\",\"EN\",\"EN\",\"EN\",\"EN\",\"EN\",\"EN\",\"EN\",\"EN\",\"EN\",\"EN\",\"EN\",\"EN\",\"EN\",\"EN\",\"EN\",\"EN\",\"EN\",\"EN\",\"EN\",\"EN\",\"EN\",\"EN\",\"EN\",\"EN\",\"EN\",\"EN\",\"EN\",\"EN\",\"EN\",\"EN\",\"EN\",\"EN\",\"EN\",\"EN\",\"EN\",\"EN\",\"EN\",\"EN\",\"EN\",\"EN\",\"EN\",\"EN\",\"EN\",\"EN\",\"EN\",\"EN\",\"EN\",\"EN\",\"EN\",\"EN\",\"EN\",\"EN\",\"EN\",\"EN\",\"EN\",\"EN\",\"EN\",\"EN\",\"EN\",\"EN\",\"EN\",\"EN\",\"EN\"],\"x0\":\" \",\"xaxis\":\"x\",\"y\":[72000,51321,39916,41689,5707,42000,100000,70000,250000,10000,138000,15966,6072,91000,45896,54742,21669,62726,49268,105000,82528,80000,59102,76833,29751,12000,70000,30428,12000,225000,90000,50000,110037,10354,20000,100000,49646,100000,80000,13400,125000,63831,80000,55000,60000,81000,21844,9272,90000,5882,24823,28609,16228,4000,21637,18053,36643,90000,28399,65013,72500,76833,85000,100000,58000,59102,100000,52351,45807,37300,21983,125000,100000,18442,120000,100000,31875,58035,52396,40000,86703,120000,150000,65000,20000,10000,67000,52000],\"y0\":\" \",\"yaxis\":\"y\",\"type\":\"box\"},{\"alignmentgroup\":\"True\",\"hovertemplate\":\"N\\u00edvel de Experi\\u00eancia=%{x}<br>Sal\\u00e1rio=%{y}<extra></extra>\",\"legendgroup\":\"EX\",\"marker\":{\"color\":\"#00B0F6\"},\"name\":\"EX\",\"notched\":false,\"offsetgroup\":\"EX\",\"orientation\":\"v\",\"showlegend\":true,\"x\":[\"EX\",\"EX\",\"EX\",\"EX\",\"EX\",\"EX\",\"EX\",\"EX\",\"EX\",\"EX\",\"EX\",\"EX\",\"EX\",\"EX\",\"EX\",\"EX\",\"EX\",\"EX\",\"EX\",\"EX\",\"EX\",\"EX\",\"EX\",\"EX\",\"EX\",\"EX\"],\"x0\":\" \",\"xaxis\":\"x\",\"y\":[325000,79833,150000,235000,153667,230000,85000,130026,250000,69741,416000,600000,141846,242000,200000,130000,110000,224000,167875,175000,135000,118187,79039,196979,324000,216000],\"y0\":\" \",\"yaxis\":\"y\",\"type\":\"box\"}],                        {\"template\":{\"data\":{\"barpolar\":[{\"marker\":{\"line\":{\"color\":\"rgb(237,237,237)\",\"width\":0.5},\"pattern\":{\"fillmode\":\"overlay\",\"size\":10,\"solidity\":0.2}},\"type\":\"barpolar\"}],\"bar\":[{\"error_x\":{\"color\":\"rgb(51,51,51)\"},\"error_y\":{\"color\":\"rgb(51,51,51)\"},\"marker\":{\"line\":{\"color\":\"rgb(237,237,237)\",\"width\":0.5},\"pattern\":{\"fillmode\":\"overlay\",\"size\":10,\"solidity\":0.2}},\"type\":\"bar\"}],\"carpet\":[{\"aaxis\":{\"endlinecolor\":\"rgb(51,51,51)\",\"gridcolor\":\"white\",\"linecolor\":\"white\",\"minorgridcolor\":\"white\",\"startlinecolor\":\"rgb(51,51,51)\"},\"baxis\":{\"endlinecolor\":\"rgb(51,51,51)\",\"gridcolor\":\"white\",\"linecolor\":\"white\",\"minorgridcolor\":\"white\",\"startlinecolor\":\"rgb(51,51,51)\"},\"type\":\"carpet\"}],\"choropleth\":[{\"colorbar\":{\"outlinewidth\":0,\"tickcolor\":\"rgb(237,237,237)\",\"ticklen\":6,\"ticks\":\"inside\"},\"type\":\"choropleth\"}],\"contourcarpet\":[{\"colorbar\":{\"outlinewidth\":0,\"tickcolor\":\"rgb(237,237,237)\",\"ticklen\":6,\"ticks\":\"inside\"},\"type\":\"contourcarpet\"}],\"contour\":[{\"colorbar\":{\"outlinewidth\":0,\"tickcolor\":\"rgb(237,237,237)\",\"ticklen\":6,\"ticks\":\"inside\"},\"colorscale\":[[0,\"rgb(20,44,66)\"],[1,\"rgb(90,179,244)\"]],\"type\":\"contour\"}],\"heatmapgl\":[{\"colorbar\":{\"outlinewidth\":0,\"tickcolor\":\"rgb(237,237,237)\",\"ticklen\":6,\"ticks\":\"inside\"},\"colorscale\":[[0,\"rgb(20,44,66)\"],[1,\"rgb(90,179,244)\"]],\"type\":\"heatmapgl\"}],\"heatmap\":[{\"colorbar\":{\"outlinewidth\":0,\"tickcolor\":\"rgb(237,237,237)\",\"ticklen\":6,\"ticks\":\"inside\"},\"colorscale\":[[0,\"rgb(20,44,66)\"],[1,\"rgb(90,179,244)\"]],\"type\":\"heatmap\"}],\"histogram2dcontour\":[{\"colorbar\":{\"outlinewidth\":0,\"tickcolor\":\"rgb(237,237,237)\",\"ticklen\":6,\"ticks\":\"inside\"},\"colorscale\":[[0,\"rgb(20,44,66)\"],[1,\"rgb(90,179,244)\"]],\"type\":\"histogram2dcontour\"}],\"histogram2d\":[{\"colorbar\":{\"outlinewidth\":0,\"tickcolor\":\"rgb(237,237,237)\",\"ticklen\":6,\"ticks\":\"inside\"},\"colorscale\":[[0,\"rgb(20,44,66)\"],[1,\"rgb(90,179,244)\"]],\"type\":\"histogram2d\"}],\"histogram\":[{\"marker\":{\"pattern\":{\"fillmode\":\"overlay\",\"size\":10,\"solidity\":0.2}},\"type\":\"histogram\"}],\"mesh3d\":[{\"colorbar\":{\"outlinewidth\":0,\"tickcolor\":\"rgb(237,237,237)\",\"ticklen\":6,\"ticks\":\"inside\"},\"type\":\"mesh3d\"}],\"parcoords\":[{\"line\":{\"colorbar\":{\"outlinewidth\":0,\"tickcolor\":\"rgb(237,237,237)\",\"ticklen\":6,\"ticks\":\"inside\"}},\"type\":\"parcoords\"}],\"pie\":[{\"automargin\":true,\"type\":\"pie\"}],\"scatter3d\":[{\"line\":{\"colorbar\":{\"outlinewidth\":0,\"tickcolor\":\"rgb(237,237,237)\",\"ticklen\":6,\"ticks\":\"inside\"}},\"marker\":{\"colorbar\":{\"outlinewidth\":0,\"tickcolor\":\"rgb(237,237,237)\",\"ticklen\":6,\"ticks\":\"inside\"}},\"type\":\"scatter3d\"}],\"scattercarpet\":[{\"marker\":{\"colorbar\":{\"outlinewidth\":0,\"tickcolor\":\"rgb(237,237,237)\",\"ticklen\":6,\"ticks\":\"inside\"}},\"type\":\"scattercarpet\"}],\"scattergeo\":[{\"marker\":{\"colorbar\":{\"outlinewidth\":0,\"tickcolor\":\"rgb(237,237,237)\",\"ticklen\":6,\"ticks\":\"inside\"}},\"type\":\"scattergeo\"}],\"scattergl\":[{\"marker\":{\"colorbar\":{\"outlinewidth\":0,\"tickcolor\":\"rgb(237,237,237)\",\"ticklen\":6,\"ticks\":\"inside\"}},\"type\":\"scattergl\"}],\"scattermapbox\":[{\"marker\":{\"colorbar\":{\"outlinewidth\":0,\"tickcolor\":\"rgb(237,237,237)\",\"ticklen\":6,\"ticks\":\"inside\"}},\"type\":\"scattermapbox\"}],\"scatterpolargl\":[{\"marker\":{\"colorbar\":{\"outlinewidth\":0,\"tickcolor\":\"rgb(237,237,237)\",\"ticklen\":6,\"ticks\":\"inside\"}},\"type\":\"scatterpolargl\"}],\"scatterpolar\":[{\"marker\":{\"colorbar\":{\"outlinewidth\":0,\"tickcolor\":\"rgb(237,237,237)\",\"ticklen\":6,\"ticks\":\"inside\"}},\"type\":\"scatterpolar\"}],\"scatter\":[{\"marker\":{\"colorbar\":{\"outlinewidth\":0,\"tickcolor\":\"rgb(237,237,237)\",\"ticklen\":6,\"ticks\":\"inside\"}},\"type\":\"scatter\"}],\"scatterternary\":[{\"marker\":{\"colorbar\":{\"outlinewidth\":0,\"tickcolor\":\"rgb(237,237,237)\",\"ticklen\":6,\"ticks\":\"inside\"}},\"type\":\"scatterternary\"}],\"surface\":[{\"colorbar\":{\"outlinewidth\":0,\"tickcolor\":\"rgb(237,237,237)\",\"ticklen\":6,\"ticks\":\"inside\"},\"colorscale\":[[0,\"rgb(20,44,66)\"],[1,\"rgb(90,179,244)\"]],\"type\":\"surface\"}],\"table\":[{\"cells\":{\"fill\":{\"color\":\"rgb(237,237,237)\"},\"line\":{\"color\":\"white\"}},\"header\":{\"fill\":{\"color\":\"rgb(217,217,217)\"},\"line\":{\"color\":\"white\"}},\"type\":\"table\"}]},\"layout\":{\"annotationdefaults\":{\"arrowhead\":0,\"arrowwidth\":1},\"autotypenumbers\":\"strict\",\"coloraxis\":{\"colorbar\":{\"outlinewidth\":0,\"tickcolor\":\"rgb(237,237,237)\",\"ticklen\":6,\"ticks\":\"inside\"}},\"colorscale\":{\"sequential\":[[0,\"rgb(20,44,66)\"],[1,\"rgb(90,179,244)\"]],\"sequentialminus\":[[0,\"rgb(20,44,66)\"],[1,\"rgb(90,179,244)\"]]},\"colorway\":[\"#F8766D\",\"#A3A500\",\"#00BF7D\",\"#00B0F6\",\"#E76BF3\"],\"font\":{\"color\":\"rgb(51,51,51)\"},\"geo\":{\"bgcolor\":\"white\",\"lakecolor\":\"white\",\"landcolor\":\"rgb(237,237,237)\",\"showlakes\":true,\"showland\":true,\"subunitcolor\":\"white\"},\"hoverlabel\":{\"align\":\"left\"},\"hovermode\":\"closest\",\"paper_bgcolor\":\"white\",\"plot_bgcolor\":\"rgb(237,237,237)\",\"polar\":{\"angularaxis\":{\"gridcolor\":\"white\",\"linecolor\":\"white\",\"showgrid\":true,\"tickcolor\":\"rgb(51,51,51)\",\"ticks\":\"outside\"},\"bgcolor\":\"rgb(237,237,237)\",\"radialaxis\":{\"gridcolor\":\"white\",\"linecolor\":\"white\",\"showgrid\":true,\"tickcolor\":\"rgb(51,51,51)\",\"ticks\":\"outside\"}},\"scene\":{\"xaxis\":{\"backgroundcolor\":\"rgb(237,237,237)\",\"gridcolor\":\"white\",\"gridwidth\":2,\"linecolor\":\"white\",\"showbackground\":true,\"showgrid\":true,\"tickcolor\":\"rgb(51,51,51)\",\"ticks\":\"outside\",\"zerolinecolor\":\"white\"},\"yaxis\":{\"backgroundcolor\":\"rgb(237,237,237)\",\"gridcolor\":\"white\",\"gridwidth\":2,\"linecolor\":\"white\",\"showbackground\":true,\"showgrid\":true,\"tickcolor\":\"rgb(51,51,51)\",\"ticks\":\"outside\",\"zerolinecolor\":\"white\"},\"zaxis\":{\"backgroundcolor\":\"rgb(237,237,237)\",\"gridcolor\":\"white\",\"gridwidth\":2,\"linecolor\":\"white\",\"showbackground\":true,\"showgrid\":true,\"tickcolor\":\"rgb(51,51,51)\",\"ticks\":\"outside\",\"zerolinecolor\":\"white\"}},\"shapedefaults\":{\"fillcolor\":\"black\",\"line\":{\"width\":0},\"opacity\":0.3},\"ternary\":{\"aaxis\":{\"gridcolor\":\"white\",\"linecolor\":\"white\",\"showgrid\":true,\"tickcolor\":\"rgb(51,51,51)\",\"ticks\":\"outside\"},\"baxis\":{\"gridcolor\":\"white\",\"linecolor\":\"white\",\"showgrid\":true,\"tickcolor\":\"rgb(51,51,51)\",\"ticks\":\"outside\"},\"bgcolor\":\"rgb(237,237,237)\",\"caxis\":{\"gridcolor\":\"white\",\"linecolor\":\"white\",\"showgrid\":true,\"tickcolor\":\"rgb(51,51,51)\",\"ticks\":\"outside\"}},\"xaxis\":{\"automargin\":true,\"gridcolor\":\"white\",\"linecolor\":\"white\",\"showgrid\":true,\"tickcolor\":\"rgb(51,51,51)\",\"ticks\":\"outside\",\"title\":{\"standoff\":15},\"zerolinecolor\":\"white\"},\"yaxis\":{\"automargin\":true,\"gridcolor\":\"white\",\"linecolor\":\"white\",\"showgrid\":true,\"tickcolor\":\"rgb(51,51,51)\",\"ticks\":\"outside\",\"title\":{\"standoff\":15},\"zerolinecolor\":\"white\"}}},\"xaxis\":{\"anchor\":\"y\",\"domain\":[0.0,1.0],\"title\":{\"text\":\"N\\u00edvel de Experi\\u00eancia\"},\"categoryorder\":\"array\",\"categoryarray\":[\"MI\",\"SE\",\"EN\",\"EX\"]},\"yaxis\":{\"anchor\":\"x\",\"domain\":[0.0,1.0],\"title\":{\"text\":\"Sal\\u00e1rio\"}},\"legend\":{\"title\":{\"text\":\"N\\u00edvel de Experi\\u00eancia\"},\"tracegroupgap\":0},\"title\":{\"text\":\"<b> Distribui\\u00e7\\u00e3o dos Sal\\u00e1rios por Experi\\u00eancia\"},\"boxmode\":\"overlay\"},                        {\"responsive\": true}                    ).then(function(){\n",
              "                            \n",
              "var gd = document.getElementById('17ab869f-b810-4e9d-bc8f-bce77271eb28');\n",
              "var x = new MutationObserver(function (mutations, observer) {{\n",
              "        var display = window.getComputedStyle(gd).display;\n",
              "        if (!display || display === 'none') {{\n",
              "            console.log([gd, 'removed!']);\n",
              "            Plotly.purge(gd);\n",
              "            observer.disconnect();\n",
              "        }}\n",
              "}});\n",
              "\n",
              "// Listen for the removal of the full notebook cells\n",
              "var notebookContainer = gd.closest('#notebook-container');\n",
              "if (notebookContainer) {{\n",
              "    x.observe(notebookContainer, {childList: true});\n",
              "}}\n",
              "\n",
              "// Listen for the clearing of the current output cell\n",
              "var outputEl = gd.closest('.output');\n",
              "if (outputEl) {{\n",
              "    x.observe(outputEl, {childList: true});\n",
              "}}\n",
              "\n",
              "                        })                };                            </script>        </div>\n",
              "</body>\n",
              "</html>"
            ]
          },
          "metadata": {}
        }
      ]
    },
    {
      "cell_type": "code",
      "source": [
        "#Distribuição dos Salários pelo Tamanho da Empresa\n",
        "px.box(ds_salaries,x='company_size',y='salary_in_usd',color='company_size',template='ggplot2',labels={'company_size':'Tamanho da Empresa','salary_in_usd':'Salário'},title='<b> Distribuição dos Salários pelo Tamanho da Empresa')"
      ],
      "metadata": {
        "colab": {
          "base_uri": "https://localhost:8080/",
          "height": 542
        },
        "id": "eJE1MNexggXT",
        "outputId": "29e917a5-f560-4486-b924-30e00e86a54c"
      },
      "execution_count": null,
      "outputs": [
        {
          "output_type": "display_data",
          "data": {
            "text/html": [
              "<html>\n",
              "<head><meta charset=\"utf-8\" /></head>\n",
              "<body>\n",
              "    <div>            <script src=\"https://cdnjs.cloudflare.com/ajax/libs/mathjax/2.7.5/MathJax.js?config=TeX-AMS-MML_SVG\"></script><script type=\"text/javascript\">if (window.MathJax) {MathJax.Hub.Config({SVG: {font: \"STIX-Web\"}});}</script>                <script type=\"text/javascript\">window.PlotlyConfig = {MathJaxConfig: 'local'};</script>\n",
              "        <script src=\"https://cdn.plot.ly/plotly-2.8.3.min.js\"></script>                <div id=\"85b06fa9-e99c-43f8-bfd0-12c24ee27211\" class=\"plotly-graph-div\" style=\"height:525px; width:100%;\"></div>            <script type=\"text/javascript\">                                    window.PLOTLYENV=window.PLOTLYENV || {};                                    if (document.getElementById(\"85b06fa9-e99c-43f8-bfd0-12c24ee27211\")) {                    Plotly.newPlot(                        \"85b06fa9-e99c-43f8-bfd0-12c24ee27211\",                        [{\"alignmentgroup\":\"True\",\"hovertemplate\":\"Tamanho da Empresa=%{x}<br>Sal\\u00e1rio=%{y}<extra></extra>\",\"legendgroup\":\"L\",\"marker\":{\"color\":\"#F8766D\"},\"name\":\"L\",\"notched\":false,\"offsetgroup\":\"L\",\"orientation\":\"v\",\"showlegend\":true,\"x\":[\"L\",\"L\",\"L\",\"L\",\"L\",\"L\",\"L\",\"L\",\"L\",\"L\",\"L\",\"L\",\"L\",\"L\",\"L\",\"L\",\"L\",\"L\",\"L\",\"L\",\"L\",\"L\",\"L\",\"L\",\"L\",\"L\",\"L\",\"L\",\"L\",\"L\",\"L\",\"L\",\"L\",\"L\",\"L\",\"L\",\"L\",\"L\",\"L\",\"L\",\"L\",\"L\",\"L\",\"L\",\"L\",\"L\",\"L\",\"L\",\"L\",\"L\",\"L\",\"L\",\"L\",\"L\",\"L\",\"L\",\"L\",\"L\",\"L\",\"L\",\"L\",\"L\",\"L\",\"L\",\"L\",\"L\",\"L\",\"L\",\"L\",\"L\",\"L\",\"L\",\"L\",\"L\",\"L\",\"L\",\"L\",\"L\",\"L\",\"L\",\"L\",\"L\",\"L\",\"L\",\"L\",\"L\",\"L\",\"L\",\"L\",\"L\",\"L\",\"L\",\"L\",\"L\",\"L\",\"L\",\"L\",\"L\",\"L\",\"L\",\"L\",\"L\",\"L\",\"L\",\"L\",\"L\",\"L\",\"L\",\"L\",\"L\",\"L\",\"L\",\"L\",\"L\",\"L\",\"L\",\"L\",\"L\",\"L\",\"L\",\"L\",\"L\",\"L\",\"L\",\"L\",\"L\",\"L\",\"L\",\"L\",\"L\",\"L\",\"L\",\"L\",\"L\",\"L\",\"L\",\"L\",\"L\",\"L\",\"L\",\"L\",\"L\",\"L\",\"L\",\"L\",\"L\",\"L\",\"L\",\"L\",\"L\",\"L\",\"L\",\"L\",\"L\",\"L\",\"L\",\"L\",\"L\",\"L\",\"L\",\"L\",\"L\",\"L\",\"L\",\"L\",\"L\",\"L\",\"L\",\"L\",\"L\",\"L\",\"L\",\"L\",\"L\",\"L\",\"L\",\"L\",\"L\",\"L\",\"L\",\"L\",\"L\",\"L\",\"L\",\"L\",\"L\",\"L\",\"L\",\"L\",\"L\",\"L\",\"L\",\"L\",\"L\",\"L\",\"L\",\"L\",\"L\"],\"x0\":\" \",\"xaxis\":\"x\",\"y\":[79833,150000,72000,35735,135000,40481,87000,85000,8000,6072,47899,115000,325000,42000,100000,117104,70000,68428,46759,74130,103000,250000,79833,106000,112872,188000,105000,70139,91000,54742,120000,110000,412000,82528,150000,235000,53192,270000,79197,140000,54238,153667,28476,110000,170000,88654,19609,276000,29751,89294,450000,75000,150000,36259,62000,73000,51519,187442,30428,94564,45391,225000,50000,200000,110037,151000,40570,220000,135000,240000,150000,100000,90000,153000,75774,13400,144000,127221,423000,230000,28369,63831,165000,80000,250000,150000,170000,82528,235000,60757,174000,40038,22611,90734,26005,61896,152000,174000,96113,147000,24342,54094,37825,160000,200000,20000,120000,24823,5882,185000,90734,140000,46597,116914,56256,225000,88654,135000,16228,200000,200000,180000,103691,80000,110000,165000,72212,36643,96282,115000,600000,93000,200000,185000,141846,130000,63831,66265,72500,76833,58000,55000,20171,59102,112000,100000,69741,69999,94665,102839,109000,51064,180000,120000,113000,160000,79039,37300,215300,158200,209100,154600,183600,60000,160000,112300,100800,140400,215300,209100,154600,21983,196979,37236,31615,58255,100000,54957,144000,35590,93427,52396,62651,40000,87425,75000,64849,120000,157000,70912,122346,380000,405000,135000,177000,205300,140400,200000],\"y0\":\" \",\"yaxis\":\"y\",\"type\":\"box\"},{\"alignmentgroup\":\"True\",\"hovertemplate\":\"Tamanho da Empresa=%{x}<br>Sal\\u00e1rio=%{y}<extra></extra>\",\"legendgroup\":\"S\",\"marker\":{\"color\":\"#A3A500\"},\"name\":\"S\",\"notched\":false,\"offsetgroup\":\"S\",\"orientation\":\"v\",\"showlegend\":true,\"x\":[\"S\",\"S\",\"S\",\"S\",\"S\",\"S\",\"S\",\"S\",\"S\",\"S\",\"S\",\"S\",\"S\",\"S\",\"S\",\"S\",\"S\",\"S\",\"S\",\"S\",\"S\",\"S\",\"S\",\"S\",\"S\",\"S\",\"S\",\"S\",\"S\",\"S\",\"S\",\"S\",\"S\",\"S\",\"S\",\"S\",\"S\",\"S\",\"S\",\"S\",\"S\",\"S\",\"S\",\"S\",\"S\",\"S\",\"S\",\"S\",\"S\",\"S\",\"S\",\"S\",\"S\",\"S\",\"S\",\"S\",\"S\",\"S\",\"S\",\"S\",\"S\",\"S\",\"S\",\"S\",\"S\",\"S\",\"S\",\"S\",\"S\",\"S\",\"S\",\"S\",\"S\",\"S\",\"S\",\"S\",\"S\",\"S\",\"S\",\"S\",\"S\",\"S\",\"S\"],\"x0\":\" \",\"xaxis\":\"x\",\"y\":[260000,20000,190000,125000,51321,41689,114047,33511,59303,10000,138000,45760,15966,76958,6072,45896,60000,21669,45618,62726,49268,105000,91237,62726,42197,47282,80000,76833,12000,95746,115000,103160,90000,120000,9466,20000,100000,100000,63711,77364,82500,160000,168000,125000,55000,60000,2859,81000,5679,69741,76833,74000,18000,9272,90000,50000,12901,56738,66022,28609,416000,87738,256000,110000,18053,90000,16904,25532,160000,85000,58000,118187,58000,120000,120000,65000,75000,32974,150000,65000,71444,48000,20000],\"y0\":\" \",\"yaxis\":\"y\",\"type\":\"box\"},{\"alignmentgroup\":\"True\",\"hovertemplate\":\"Tamanho da Empresa=%{x}<br>Sal\\u00e1rio=%{y}<extra></extra>\",\"legendgroup\":\"M\",\"marker\":{\"color\":\"#00BF7D\"},\"name\":\"M\",\"notched\":false,\"offsetgroup\":\"M\",\"orientation\":\"v\",\"showlegend\":true,\"x\":[\"M\",\"M\",\"M\",\"M\",\"M\",\"M\",\"M\",\"M\",\"M\",\"M\",\"M\",\"M\",\"M\",\"M\",\"M\",\"M\",\"M\",\"M\",\"M\",\"M\",\"M\",\"M\",\"M\",\"M\",\"M\",\"M\",\"M\",\"M\",\"M\",\"M\",\"M\",\"M\",\"M\",\"M\",\"M\",\"M\",\"M\",\"M\",\"M\",\"M\",\"M\",\"M\",\"M\",\"M\",\"M\",\"M\",\"M\",\"M\",\"M\",\"M\",\"M\",\"M\",\"M\",\"M\",\"M\",\"M\",\"M\",\"M\",\"M\",\"M\",\"M\",\"M\",\"M\",\"M\",\"M\",\"M\",\"M\",\"M\",\"M\",\"M\",\"M\",\"M\",\"M\",\"M\",\"M\",\"M\",\"M\",\"M\",\"M\",\"M\",\"M\",\"M\",\"M\",\"M\",\"M\",\"M\",\"M\",\"M\",\"M\",\"M\",\"M\",\"M\",\"M\",\"M\",\"M\",\"M\",\"M\",\"M\",\"M\",\"M\",\"M\",\"M\",\"M\",\"M\",\"M\",\"M\",\"M\",\"M\",\"M\",\"M\",\"M\",\"M\",\"M\",\"M\",\"M\",\"M\",\"M\",\"M\",\"M\",\"M\",\"M\",\"M\",\"M\",\"M\",\"M\",\"M\",\"M\",\"M\",\"M\",\"M\",\"M\",\"M\",\"M\",\"M\",\"M\",\"M\",\"M\",\"M\",\"M\",\"M\",\"M\",\"M\",\"M\",\"M\",\"M\",\"M\",\"M\",\"M\",\"M\",\"M\",\"M\",\"M\",\"M\",\"M\",\"M\",\"M\",\"M\",\"M\",\"M\",\"M\",\"M\",\"M\",\"M\",\"M\",\"M\",\"M\",\"M\",\"M\",\"M\",\"M\",\"M\",\"M\",\"M\",\"M\",\"M\",\"M\",\"M\",\"M\",\"M\",\"M\",\"M\",\"M\",\"M\",\"M\",\"M\",\"M\",\"M\",\"M\",\"M\",\"M\",\"M\",\"M\",\"M\",\"M\",\"M\",\"M\",\"M\",\"M\",\"M\",\"M\",\"M\",\"M\",\"M\",\"M\",\"M\",\"M\",\"M\",\"M\",\"M\",\"M\",\"M\",\"M\",\"M\",\"M\",\"M\",\"M\",\"M\",\"M\",\"M\",\"M\",\"M\",\"M\",\"M\",\"M\",\"M\",\"M\",\"M\",\"M\",\"M\",\"M\",\"M\",\"M\",\"M\",\"M\",\"M\",\"M\",\"M\",\"M\",\"M\",\"M\",\"M\",\"M\",\"M\",\"M\",\"M\",\"M\",\"M\",\"M\",\"M\",\"M\",\"M\",\"M\",\"M\",\"M\",\"M\",\"M\",\"M\",\"M\",\"M\",\"M\",\"M\",\"M\",\"M\",\"M\",\"M\",\"M\",\"M\",\"M\",\"M\",\"M\",\"M\",\"M\",\"M\",\"M\",\"M\",\"M\",\"M\",\"M\",\"M\",\"M\",\"M\",\"M\",\"M\",\"M\",\"M\",\"M\",\"M\",\"M\",\"M\",\"M\",\"M\",\"M\",\"M\",\"M\",\"M\",\"M\",\"M\",\"M\",\"M\",\"M\",\"M\",\"M\",\"M\",\"M\",\"M\",\"M\",\"M\",\"M\",\"M\",\"M\",\"M\",\"M\",\"M\",\"M\",\"M\",\"M\",\"M\",\"M\",\"M\",\"M\",\"M\",\"M\",\"M\",\"M\",\"M\",\"M\"],\"x0\":\" \",\"xaxis\":\"x\",\"y\":[109024,39916,5707,56000,43331,98000,450000,50180,148261,38776,118000,138350,130800,190200,100000,5409,80000,59102,70000,150000,113476,12000,40189,60000,200000,50000,10354,49646,38400,24000,90000,80000,82744,62649,150000,119059,120000,85000,130026,12000,4000,50000,21844,61467,195000,165000,24823,88654,33808,71786,63810,46809,4000,21637,12103,170000,28399,99703,173762,93150,111775,28016,65013,18907,77684,100000,105000,135000,155000,120600,130000,90000,170000,150000,102100,84900,136620,99360,117789,104702,146000,123000,52351,99000,116000,106260,126500,242000,200000,65438,39263,78526,52351,165220,45807,120160,90320,181940,132320,220110,160080,124190,130000,110000,170000,115500,112900,90320,112900,90320,165400,132320,167000,243900,136600,109280,128875,93700,224000,167875,175000,156600,108800,95550,135000,161342,137141,167000,123000,78526,65438,150000,211500,192400,90700,130000,61300,130000,61300,138600,136000,135000,170000,123000,189650,164996,54957,54957,132000,165400,208775,147800,136994,101570,128875,93700,132320,164000,155000,124333,98158,120000,112900,90320,145000,105400,87932,117789,115934,81666,175000,98158,52351,180000,71982,45807,65949,49461,78526,58894,260000,63900,241000,159000,180000,80000,82900,49461,39263,43966,32974,87932,76940,104702,91614,65949,87932,189650,164996,43966,32974,98158,78526,76940,180000,80000,78791,125000,105000,87932,18442,18442,162674,120000,104890,100000,140000,135000,50000,220000,140000,183228,91614,185100,220000,200000,120000,324000,216000,210000,120000,230000,100000,100000,31875,200000,78791,100000,153000,58035,165000,115000,86703,20000,152500,68147,69336,10000,78000,135000,100000,90320,85000,75000,214000,192600,266400,213120,112900,155000,141300,102100,115934,81666,206699,99100,130000,115000,110500,130000,99050,160000,176000,144000,200100,160000,145000,70500,205300,140400,205300,184700,175100,140250,116150,54000,170000,65438,80000,140000,210000,140000,100000,69000,210000,140000,210000,150075,100000,25000,126500,106260,220110,160080,105000,110925,45807,140000,99000,60000,192564,144854,230000,150000,150260,109280,210000,170000,160000,130000,67000,52000,154000,126000,129000,150000],\"y0\":\" \",\"yaxis\":\"y\",\"type\":\"box\"}],                        {\"template\":{\"data\":{\"barpolar\":[{\"marker\":{\"line\":{\"color\":\"rgb(237,237,237)\",\"width\":0.5},\"pattern\":{\"fillmode\":\"overlay\",\"size\":10,\"solidity\":0.2}},\"type\":\"barpolar\"}],\"bar\":[{\"error_x\":{\"color\":\"rgb(51,51,51)\"},\"error_y\":{\"color\":\"rgb(51,51,51)\"},\"marker\":{\"line\":{\"color\":\"rgb(237,237,237)\",\"width\":0.5},\"pattern\":{\"fillmode\":\"overlay\",\"size\":10,\"solidity\":0.2}},\"type\":\"bar\"}],\"carpet\":[{\"aaxis\":{\"endlinecolor\":\"rgb(51,51,51)\",\"gridcolor\":\"white\",\"linecolor\":\"white\",\"minorgridcolor\":\"white\",\"startlinecolor\":\"rgb(51,51,51)\"},\"baxis\":{\"endlinecolor\":\"rgb(51,51,51)\",\"gridcolor\":\"white\",\"linecolor\":\"white\",\"minorgridcolor\":\"white\",\"startlinecolor\":\"rgb(51,51,51)\"},\"type\":\"carpet\"}],\"choropleth\":[{\"colorbar\":{\"outlinewidth\":0,\"tickcolor\":\"rgb(237,237,237)\",\"ticklen\":6,\"ticks\":\"inside\"},\"type\":\"choropleth\"}],\"contourcarpet\":[{\"colorbar\":{\"outlinewidth\":0,\"tickcolor\":\"rgb(237,237,237)\",\"ticklen\":6,\"ticks\":\"inside\"},\"type\":\"contourcarpet\"}],\"contour\":[{\"colorbar\":{\"outlinewidth\":0,\"tickcolor\":\"rgb(237,237,237)\",\"ticklen\":6,\"ticks\":\"inside\"},\"colorscale\":[[0,\"rgb(20,44,66)\"],[1,\"rgb(90,179,244)\"]],\"type\":\"contour\"}],\"heatmapgl\":[{\"colorbar\":{\"outlinewidth\":0,\"tickcolor\":\"rgb(237,237,237)\",\"ticklen\":6,\"ticks\":\"inside\"},\"colorscale\":[[0,\"rgb(20,44,66)\"],[1,\"rgb(90,179,244)\"]],\"type\":\"heatmapgl\"}],\"heatmap\":[{\"colorbar\":{\"outlinewidth\":0,\"tickcolor\":\"rgb(237,237,237)\",\"ticklen\":6,\"ticks\":\"inside\"},\"colorscale\":[[0,\"rgb(20,44,66)\"],[1,\"rgb(90,179,244)\"]],\"type\":\"heatmap\"}],\"histogram2dcontour\":[{\"colorbar\":{\"outlinewidth\":0,\"tickcolor\":\"rgb(237,237,237)\",\"ticklen\":6,\"ticks\":\"inside\"},\"colorscale\":[[0,\"rgb(20,44,66)\"],[1,\"rgb(90,179,244)\"]],\"type\":\"histogram2dcontour\"}],\"histogram2d\":[{\"colorbar\":{\"outlinewidth\":0,\"tickcolor\":\"rgb(237,237,237)\",\"ticklen\":6,\"ticks\":\"inside\"},\"colorscale\":[[0,\"rgb(20,44,66)\"],[1,\"rgb(90,179,244)\"]],\"type\":\"histogram2d\"}],\"histogram\":[{\"marker\":{\"pattern\":{\"fillmode\":\"overlay\",\"size\":10,\"solidity\":0.2}},\"type\":\"histogram\"}],\"mesh3d\":[{\"colorbar\":{\"outlinewidth\":0,\"tickcolor\":\"rgb(237,237,237)\",\"ticklen\":6,\"ticks\":\"inside\"},\"type\":\"mesh3d\"}],\"parcoords\":[{\"line\":{\"colorbar\":{\"outlinewidth\":0,\"tickcolor\":\"rgb(237,237,237)\",\"ticklen\":6,\"ticks\":\"inside\"}},\"type\":\"parcoords\"}],\"pie\":[{\"automargin\":true,\"type\":\"pie\"}],\"scatter3d\":[{\"line\":{\"colorbar\":{\"outlinewidth\":0,\"tickcolor\":\"rgb(237,237,237)\",\"ticklen\":6,\"ticks\":\"inside\"}},\"marker\":{\"colorbar\":{\"outlinewidth\":0,\"tickcolor\":\"rgb(237,237,237)\",\"ticklen\":6,\"ticks\":\"inside\"}},\"type\":\"scatter3d\"}],\"scattercarpet\":[{\"marker\":{\"colorbar\":{\"outlinewidth\":0,\"tickcolor\":\"rgb(237,237,237)\",\"ticklen\":6,\"ticks\":\"inside\"}},\"type\":\"scattercarpet\"}],\"scattergeo\":[{\"marker\":{\"colorbar\":{\"outlinewidth\":0,\"tickcolor\":\"rgb(237,237,237)\",\"ticklen\":6,\"ticks\":\"inside\"}},\"type\":\"scattergeo\"}],\"scattergl\":[{\"marker\":{\"colorbar\":{\"outlinewidth\":0,\"tickcolor\":\"rgb(237,237,237)\",\"ticklen\":6,\"ticks\":\"inside\"}},\"type\":\"scattergl\"}],\"scattermapbox\":[{\"marker\":{\"colorbar\":{\"outlinewidth\":0,\"tickcolor\":\"rgb(237,237,237)\",\"ticklen\":6,\"ticks\":\"inside\"}},\"type\":\"scattermapbox\"}],\"scatterpolargl\":[{\"marker\":{\"colorbar\":{\"outlinewidth\":0,\"tickcolor\":\"rgb(237,237,237)\",\"ticklen\":6,\"ticks\":\"inside\"}},\"type\":\"scatterpolargl\"}],\"scatterpolar\":[{\"marker\":{\"colorbar\":{\"outlinewidth\":0,\"tickcolor\":\"rgb(237,237,237)\",\"ticklen\":6,\"ticks\":\"inside\"}},\"type\":\"scatterpolar\"}],\"scatter\":[{\"marker\":{\"colorbar\":{\"outlinewidth\":0,\"tickcolor\":\"rgb(237,237,237)\",\"ticklen\":6,\"ticks\":\"inside\"}},\"type\":\"scatter\"}],\"scatterternary\":[{\"marker\":{\"colorbar\":{\"outlinewidth\":0,\"tickcolor\":\"rgb(237,237,237)\",\"ticklen\":6,\"ticks\":\"inside\"}},\"type\":\"scatterternary\"}],\"surface\":[{\"colorbar\":{\"outlinewidth\":0,\"tickcolor\":\"rgb(237,237,237)\",\"ticklen\":6,\"ticks\":\"inside\"},\"colorscale\":[[0,\"rgb(20,44,66)\"],[1,\"rgb(90,179,244)\"]],\"type\":\"surface\"}],\"table\":[{\"cells\":{\"fill\":{\"color\":\"rgb(237,237,237)\"},\"line\":{\"color\":\"white\"}},\"header\":{\"fill\":{\"color\":\"rgb(217,217,217)\"},\"line\":{\"color\":\"white\"}},\"type\":\"table\"}]},\"layout\":{\"annotationdefaults\":{\"arrowhead\":0,\"arrowwidth\":1},\"autotypenumbers\":\"strict\",\"coloraxis\":{\"colorbar\":{\"outlinewidth\":0,\"tickcolor\":\"rgb(237,237,237)\",\"ticklen\":6,\"ticks\":\"inside\"}},\"colorscale\":{\"sequential\":[[0,\"rgb(20,44,66)\"],[1,\"rgb(90,179,244)\"]],\"sequentialminus\":[[0,\"rgb(20,44,66)\"],[1,\"rgb(90,179,244)\"]]},\"colorway\":[\"#F8766D\",\"#A3A500\",\"#00BF7D\",\"#00B0F6\",\"#E76BF3\"],\"font\":{\"color\":\"rgb(51,51,51)\"},\"geo\":{\"bgcolor\":\"white\",\"lakecolor\":\"white\",\"landcolor\":\"rgb(237,237,237)\",\"showlakes\":true,\"showland\":true,\"subunitcolor\":\"white\"},\"hoverlabel\":{\"align\":\"left\"},\"hovermode\":\"closest\",\"paper_bgcolor\":\"white\",\"plot_bgcolor\":\"rgb(237,237,237)\",\"polar\":{\"angularaxis\":{\"gridcolor\":\"white\",\"linecolor\":\"white\",\"showgrid\":true,\"tickcolor\":\"rgb(51,51,51)\",\"ticks\":\"outside\"},\"bgcolor\":\"rgb(237,237,237)\",\"radialaxis\":{\"gridcolor\":\"white\",\"linecolor\":\"white\",\"showgrid\":true,\"tickcolor\":\"rgb(51,51,51)\",\"ticks\":\"outside\"}},\"scene\":{\"xaxis\":{\"backgroundcolor\":\"rgb(237,237,237)\",\"gridcolor\":\"white\",\"gridwidth\":2,\"linecolor\":\"white\",\"showbackground\":true,\"showgrid\":true,\"tickcolor\":\"rgb(51,51,51)\",\"ticks\":\"outside\",\"zerolinecolor\":\"white\"},\"yaxis\":{\"backgroundcolor\":\"rgb(237,237,237)\",\"gridcolor\":\"white\",\"gridwidth\":2,\"linecolor\":\"white\",\"showbackground\":true,\"showgrid\":true,\"tickcolor\":\"rgb(51,51,51)\",\"ticks\":\"outside\",\"zerolinecolor\":\"white\"},\"zaxis\":{\"backgroundcolor\":\"rgb(237,237,237)\",\"gridcolor\":\"white\",\"gridwidth\":2,\"linecolor\":\"white\",\"showbackground\":true,\"showgrid\":true,\"tickcolor\":\"rgb(51,51,51)\",\"ticks\":\"outside\",\"zerolinecolor\":\"white\"}},\"shapedefaults\":{\"fillcolor\":\"black\",\"line\":{\"width\":0},\"opacity\":0.3},\"ternary\":{\"aaxis\":{\"gridcolor\":\"white\",\"linecolor\":\"white\",\"showgrid\":true,\"tickcolor\":\"rgb(51,51,51)\",\"ticks\":\"outside\"},\"baxis\":{\"gridcolor\":\"white\",\"linecolor\":\"white\",\"showgrid\":true,\"tickcolor\":\"rgb(51,51,51)\",\"ticks\":\"outside\"},\"bgcolor\":\"rgb(237,237,237)\",\"caxis\":{\"gridcolor\":\"white\",\"linecolor\":\"white\",\"showgrid\":true,\"tickcolor\":\"rgb(51,51,51)\",\"ticks\":\"outside\"}},\"xaxis\":{\"automargin\":true,\"gridcolor\":\"white\",\"linecolor\":\"white\",\"showgrid\":true,\"tickcolor\":\"rgb(51,51,51)\",\"ticks\":\"outside\",\"title\":{\"standoff\":15},\"zerolinecolor\":\"white\"},\"yaxis\":{\"automargin\":true,\"gridcolor\":\"white\",\"linecolor\":\"white\",\"showgrid\":true,\"tickcolor\":\"rgb(51,51,51)\",\"ticks\":\"outside\",\"title\":{\"standoff\":15},\"zerolinecolor\":\"white\"}}},\"xaxis\":{\"anchor\":\"y\",\"domain\":[0.0,1.0],\"title\":{\"text\":\"Tamanho da Empresa\"},\"categoryorder\":\"array\",\"categoryarray\":[\"L\",\"S\",\"M\"]},\"yaxis\":{\"anchor\":\"x\",\"domain\":[0.0,1.0],\"title\":{\"text\":\"Sal\\u00e1rio\"}},\"legend\":{\"title\":{\"text\":\"Tamanho da Empresa\"},\"tracegroupgap\":0},\"title\":{\"text\":\"<b> Distribui\\u00e7\\u00e3o dos Sal\\u00e1rios pelo Tamanho da Empresa\"},\"boxmode\":\"overlay\"},                        {\"responsive\": true}                    ).then(function(){\n",
              "                            \n",
              "var gd = document.getElementById('85b06fa9-e99c-43f8-bfd0-12c24ee27211');\n",
              "var x = new MutationObserver(function (mutations, observer) {{\n",
              "        var display = window.getComputedStyle(gd).display;\n",
              "        if (!display || display === 'none') {{\n",
              "            console.log([gd, 'removed!']);\n",
              "            Plotly.purge(gd);\n",
              "            observer.disconnect();\n",
              "        }}\n",
              "}});\n",
              "\n",
              "// Listen for the removal of the full notebook cells\n",
              "var notebookContainer = gd.closest('#notebook-container');\n",
              "if (notebookContainer) {{\n",
              "    x.observe(notebookContainer, {childList: true});\n",
              "}}\n",
              "\n",
              "// Listen for the clearing of the current output cell\n",
              "var outputEl = gd.closest('.output');\n",
              "if (outputEl) {{\n",
              "    x.observe(outputEl, {childList: true});\n",
              "}}\n",
              "\n",
              "                        })                };                            </script>        </div>\n",
              "</body>\n",
              "</html>"
            ]
          },
          "metadata": {}
        }
      ]
    },
    {
      "cell_type": "code",
      "source": [
        "#Distribuição dos Salários nos Diferentes Anos\n",
        "px.box(ds_salaries,x='work_year',y='salary_in_usd',color='work_year',template='ggplot2',labels={'work_year':'Ano','salary_in_usd':'Salário'},title='<b> Distribuição dos Salários nos Diferentes Anos')"
      ],
      "metadata": {
        "colab": {
          "base_uri": "https://localhost:8080/",
          "height": 542
        },
        "id": "XBYyeLfQhCRj",
        "outputId": "a8745ba3-5857-49a6-c3ec-38721b0139a4"
      },
      "execution_count": null,
      "outputs": [
        {
          "output_type": "display_data",
          "data": {
            "text/html": [
              "<html>\n",
              "<head><meta charset=\"utf-8\" /></head>\n",
              "<body>\n",
              "    <div>            <script src=\"https://cdnjs.cloudflare.com/ajax/libs/mathjax/2.7.5/MathJax.js?config=TeX-AMS-MML_SVG\"></script><script type=\"text/javascript\">if (window.MathJax) {MathJax.Hub.Config({SVG: {font: \"STIX-Web\"}});}</script>                <script type=\"text/javascript\">window.PlotlyConfig = {MathJaxConfig: 'local'};</script>\n",
              "        <script src=\"https://cdn.plot.ly/plotly-2.8.3.min.js\"></script>                <div id=\"c7c88e23-c5ec-4094-9701-46b48ad70aa3\" class=\"plotly-graph-div\" style=\"height:525px; width:100%;\"></div>            <script type=\"text/javascript\">                                    window.PLOTLYENV=window.PLOTLYENV || {};                                    if (document.getElementById(\"c7c88e23-c5ec-4094-9701-46b48ad70aa3\")) {                    Plotly.newPlot(                        \"c7c88e23-c5ec-4094-9701-46b48ad70aa3\",                        [{\"alignmentgroup\":\"True\",\"hovertemplate\":\"Ano=%{x}<br>Sal\\u00e1rio=%{y}<extra></extra>\",\"legendgroup\":\"2020\",\"marker\":{\"color\":\"#F8766D\"},\"name\":\"2020\",\"notched\":false,\"offsetgroup\":\"2020\",\"orientation\":\"v\",\"showlegend\":true,\"x\":[2020,2020,2020,2020,2020,2020,2020,2020,2020,2020,2020,2020,2020,2020,2020,2020,2020,2020,2020,2020,2020,2020,2020,2020,2020,2020,2020,2020,2020,2020,2020,2020,2020,2020,2020,2020,2020,2020,2020,2020,2020,2020,2020,2020,2020,2020,2020,2020,2020,2020,2020,2020,2020,2020,2020,2020,2020,2020,2020,2020,2020,2020,2020,2020,2020,2020,2020,2020,2020,2020,2020,2020],\"x0\":\" \",\"xaxis\":\"x\",\"y\":[79833,260000,109024,20000,150000,72000,190000,35735,135000,125000,51321,40481,39916,87000,85000,8000,41689,114047,5707,56000,43331,6072,47899,98000,115000,325000,42000,33511,100000,117104,59303,70000,68428,450000,46759,74130,103000,250000,10000,138000,45760,79833,50180,106000,112872,15966,76958,188000,105000,70139,6072,91000,45896,54742,60000,148261,38776,118000,120000,138350,110000,130800,21669,412000,45618,62726,49268,190200,105000,91237,62726,42197],\"y0\":\" \",\"yaxis\":\"y\",\"type\":\"box\"},{\"alignmentgroup\":\"True\",\"hovertemplate\":\"Ano=%{x}<br>Sal\\u00e1rio=%{y}<extra></extra>\",\"legendgroup\":\"2021\",\"marker\":{\"color\":\"#A3A500\"},\"name\":\"2021\",\"notched\":false,\"offsetgroup\":\"2021\",\"orientation\":\"v\",\"showlegend\":true,\"x\":[2021,2021,2021,2021,2021,2021,2021,2021,2021,2021,2021,2021,2021,2021,2021,2021,2021,2021,2021,2021,2021,2021,2021,2021,2021,2021,2021,2021,2021,2021,2021,2021,2021,2021,2021,2021,2021,2021,2021,2021,2021,2021,2021,2021,2021,2021,2021,2021,2021,2021,2021,2021,2021,2021,2021,2021,2021,2021,2021,2021,2021,2021,2021,2021,2021,2021,2021,2021,2021,2021,2021,2021,2021,2021,2021,2021,2021,2021,2021,2021,2021,2021,2021,2021,2021,2021,2021,2021,2021,2021,2021,2021,2021,2021,2021,2021,2021,2021,2021,2021,2021,2021,2021,2021,2021,2021,2021,2021,2021,2021,2021,2021,2021,2021,2021,2021,2021,2021,2021,2021,2021,2021,2021,2021,2021,2021,2021,2021,2021,2021,2021,2021,2021,2021,2021,2021,2021,2021,2021,2021,2021,2021,2021,2021,2021,2021,2021,2021,2021,2021,2021,2021,2021,2021,2021,2021,2021,2021,2021,2021,2021,2021,2021,2021,2021,2021,2021,2021,2021,2021,2021,2021,2021,2021,2021,2021,2021,2021,2021,2021,2021,2021,2021,2021,2021,2021,2021,2021,2021,2021,2021,2021,2021,2021,2021,2021,2021,2021,2021,2021,2021,2021,2021,2021,2021,2021,2021,2021,2021,2021,2021,2021,2021,2021,2021,2021,2021],\"x0\":\" \",\"xaxis\":\"x\",\"y\":[82528,150000,235000,53192,100000,5409,270000,80000,79197,140000,54238,47282,153667,28476,59102,110000,170000,80000,88654,76833,19609,276000,29751,89294,12000,450000,70000,95746,75000,150000,36259,62000,73000,51519,187442,115000,150000,30428,94564,113476,103160,12000,45391,225000,50000,40189,90000,200000,60000,200000,50000,110037,10354,151000,120000,9466,20000,40570,100000,49646,38400,24000,100000,90000,63711,77364,220000,80000,135000,240000,150000,82500,100000,82744,62649,90000,153000,160000,168000,150000,75774,13400,144000,127221,119059,423000,120000,125000,230000,85000,28369,63831,130026,165000,80000,250000,55000,150000,170000,82528,60000,235000,60757,174000,2859,40038,81000,5679,22611,90734,26005,61896,12000,4000,50000,69741,76833,74000,152000,21844,18000,174000,96113,147000,9272,24342,54094,90000,61467,195000,37825,50000,160000,12901,200000,165000,20000,120000,24823,56738,66022,5882,24823,185000,28609,90734,88654,140000,46597,116914,33808,56256,225000,416000,87738,88654,135000,71786,16228,256000,200000,200000,180000,110000,63810,46809,4000,21637,103691,80000,110000,165000,18053,72212,36643,12103,96282,170000,115000,90000,600000,28399,93000,99703,200000,173762,185000,141846,130000,63831,16904,66265,25532,160000,93150,111775,28016,65013,72500,18907,76833,85000,77684,100000,58000,55000,20171,59102,112000,100000,69741,105000,69999,94665,102839,109000,51064],\"y0\":\" \",\"yaxis\":\"y\",\"type\":\"box\"},{\"alignmentgroup\":\"True\",\"hovertemplate\":\"Ano=%{x}<br>Sal\\u00e1rio=%{y}<extra></extra>\",\"legendgroup\":\"2022\",\"marker\":{\"color\":\"#00BF7D\"},\"name\":\"2022\",\"notched\":false,\"offsetgroup\":\"2022\",\"orientation\":\"v\",\"showlegend\":true,\"x\":[2022,2022,2022,2022,2022,2022,2022,2022,2022,2022,2022,2022,2022,2022,2022,2022,2022,2022,2022,2022,2022,2022,2022,2022,2022,2022,2022,2022,2022,2022,2022,2022,2022,2022,2022,2022,2022,2022,2022,2022,2022,2022,2022,2022,2022,2022,2022,2022,2022,2022,2022,2022,2022,2022,2022,2022,2022,2022,2022,2022,2022,2022,2022,2022,2022,2022,2022,2022,2022,2022,2022,2022,2022,2022,2022,2022,2022,2022,2022,2022,2022,2022,2022,2022,2022,2022,2022,2022,2022,2022,2022,2022,2022,2022,2022,2022,2022,2022,2022,2022,2022,2022,2022,2022,2022,2022,2022,2022,2022,2022,2022,2022,2022,2022,2022,2022,2022,2022,2022,2022,2022,2022,2022,2022,2022,2022,2022,2022,2022,2022,2022,2022,2022,2022,2022,2022,2022,2022,2022,2022,2022,2022,2022,2022,2022,2022,2022,2022,2022,2022,2022,2022,2022,2022,2022,2022,2022,2022,2022,2022,2022,2022,2022,2022,2022,2022,2022,2022,2022,2022,2022,2022,2022,2022,2022,2022,2022,2022,2022,2022,2022,2022,2022,2022,2022,2022,2022,2022,2022,2022,2022,2022,2022,2022,2022,2022,2022,2022,2022,2022,2022,2022,2022,2022,2022,2022,2022,2022,2022,2022,2022,2022,2022,2022,2022,2022,2022,2022,2022,2022,2022,2022,2022,2022,2022,2022,2022,2022,2022,2022,2022,2022,2022,2022,2022,2022,2022,2022,2022,2022,2022,2022,2022,2022,2022,2022,2022,2022,2022,2022,2022,2022,2022,2022,2022,2022,2022,2022,2022,2022,2022,2022,2022,2022,2022,2022,2022,2022,2022,2022,2022,2022,2022,2022,2022,2022,2022,2022,2022,2022,2022,2022,2022,2022,2022,2022,2022,2022,2022,2022,2022,2022,2022,2022,2022,2022,2022,2022,2022,2022,2022,2022,2022,2022,2022,2022,2022,2022,2022,2022,2022,2022,2022,2022,2022,2022,2022,2022],\"x0\":\" \",\"xaxis\":\"x\",\"y\":[135000,155000,120600,130000,90000,170000,150000,102100,84900,136620,99360,117789,104702,146000,123000,52351,99000,116000,106260,126500,242000,200000,65438,39263,78526,52351,165220,45807,120160,90320,181940,132320,220110,160080,180000,120000,124190,130000,110000,170000,115500,112900,90320,112900,90320,165400,132320,167000,243900,136600,109280,128875,93700,224000,167875,175000,156600,108800,95550,113000,135000,161342,137141,167000,123000,78526,65438,150000,211500,192400,90700,130000,61300,130000,61300,160000,138600,136000,58000,135000,170000,123000,189650,164996,54957,54957,118187,132000,165400,208775,147800,136994,101570,128875,93700,79039,132320,37300,164000,155000,124333,98158,120000,112900,90320,145000,105400,87932,117789,215300,158200,209100,154600,115934,81666,175000,98158,58000,183600,52351,180000,71982,45807,65949,49461,78526,58894,260000,60000,63900,160000,112300,241000,159000,180000,80000,82900,100800,49461,140400,39263,43966,32974,87932,76940,104702,91614,65949,87932,189650,164996,43966,32974,98158,78526,215300,76940,209100,154600,180000,21983,80000,78791,196979,120000,125000,37236,105000,87932,18442,31615,58255,100000,54957,18442,162674,120000,144000,104890,100000,140000,135000,50000,220000,140000,183228,91614,185100,220000,200000,120000,120000,65000,324000,216000,210000,120000,230000,100000,100000,31875,200000,75000,35590,78791,100000,153000,58035,165000,93427,52396,62651,32974,40000,87425,115000,86703,75000,64849,120000,157000,150000,70912,65000,71444,20000,48000,152500,68147,122346,380000,69336,10000,20000,405000,135000,177000,78000,135000,100000,90320,85000,75000,214000,192600,266400,213120,112900,155000,141300,102100,115934,81666,206699,99100,130000,115000,110500,130000,99050,160000,205300,140400,176000,144000,200100,160000,145000,70500,205300,140400,205300,184700,175100,140250,116150,54000,170000,65438,80000,140000,210000,140000,100000,69000,210000,140000,210000,150075,100000,25000,126500,106260,220110,160080,105000,110925,45807,140000,99000,60000,192564,144854,230000,150000,150260,109280,210000,170000,160000,130000,67000,52000,154000,126000,129000,150000,200000],\"y0\":\" \",\"yaxis\":\"y\",\"type\":\"box\"}],                        {\"template\":{\"data\":{\"barpolar\":[{\"marker\":{\"line\":{\"color\":\"rgb(237,237,237)\",\"width\":0.5},\"pattern\":{\"fillmode\":\"overlay\",\"size\":10,\"solidity\":0.2}},\"type\":\"barpolar\"}],\"bar\":[{\"error_x\":{\"color\":\"rgb(51,51,51)\"},\"error_y\":{\"color\":\"rgb(51,51,51)\"},\"marker\":{\"line\":{\"color\":\"rgb(237,237,237)\",\"width\":0.5},\"pattern\":{\"fillmode\":\"overlay\",\"size\":10,\"solidity\":0.2}},\"type\":\"bar\"}],\"carpet\":[{\"aaxis\":{\"endlinecolor\":\"rgb(51,51,51)\",\"gridcolor\":\"white\",\"linecolor\":\"white\",\"minorgridcolor\":\"white\",\"startlinecolor\":\"rgb(51,51,51)\"},\"baxis\":{\"endlinecolor\":\"rgb(51,51,51)\",\"gridcolor\":\"white\",\"linecolor\":\"white\",\"minorgridcolor\":\"white\",\"startlinecolor\":\"rgb(51,51,51)\"},\"type\":\"carpet\"}],\"choropleth\":[{\"colorbar\":{\"outlinewidth\":0,\"tickcolor\":\"rgb(237,237,237)\",\"ticklen\":6,\"ticks\":\"inside\"},\"type\":\"choropleth\"}],\"contourcarpet\":[{\"colorbar\":{\"outlinewidth\":0,\"tickcolor\":\"rgb(237,237,237)\",\"ticklen\":6,\"ticks\":\"inside\"},\"type\":\"contourcarpet\"}],\"contour\":[{\"colorbar\":{\"outlinewidth\":0,\"tickcolor\":\"rgb(237,237,237)\",\"ticklen\":6,\"ticks\":\"inside\"},\"colorscale\":[[0,\"rgb(20,44,66)\"],[1,\"rgb(90,179,244)\"]],\"type\":\"contour\"}],\"heatmapgl\":[{\"colorbar\":{\"outlinewidth\":0,\"tickcolor\":\"rgb(237,237,237)\",\"ticklen\":6,\"ticks\":\"inside\"},\"colorscale\":[[0,\"rgb(20,44,66)\"],[1,\"rgb(90,179,244)\"]],\"type\":\"heatmapgl\"}],\"heatmap\":[{\"colorbar\":{\"outlinewidth\":0,\"tickcolor\":\"rgb(237,237,237)\",\"ticklen\":6,\"ticks\":\"inside\"},\"colorscale\":[[0,\"rgb(20,44,66)\"],[1,\"rgb(90,179,244)\"]],\"type\":\"heatmap\"}],\"histogram2dcontour\":[{\"colorbar\":{\"outlinewidth\":0,\"tickcolor\":\"rgb(237,237,237)\",\"ticklen\":6,\"ticks\":\"inside\"},\"colorscale\":[[0,\"rgb(20,44,66)\"],[1,\"rgb(90,179,244)\"]],\"type\":\"histogram2dcontour\"}],\"histogram2d\":[{\"colorbar\":{\"outlinewidth\":0,\"tickcolor\":\"rgb(237,237,237)\",\"ticklen\":6,\"ticks\":\"inside\"},\"colorscale\":[[0,\"rgb(20,44,66)\"],[1,\"rgb(90,179,244)\"]],\"type\":\"histogram2d\"}],\"histogram\":[{\"marker\":{\"pattern\":{\"fillmode\":\"overlay\",\"size\":10,\"solidity\":0.2}},\"type\":\"histogram\"}],\"mesh3d\":[{\"colorbar\":{\"outlinewidth\":0,\"tickcolor\":\"rgb(237,237,237)\",\"ticklen\":6,\"ticks\":\"inside\"},\"type\":\"mesh3d\"}],\"parcoords\":[{\"line\":{\"colorbar\":{\"outlinewidth\":0,\"tickcolor\":\"rgb(237,237,237)\",\"ticklen\":6,\"ticks\":\"inside\"}},\"type\":\"parcoords\"}],\"pie\":[{\"automargin\":true,\"type\":\"pie\"}],\"scatter3d\":[{\"line\":{\"colorbar\":{\"outlinewidth\":0,\"tickcolor\":\"rgb(237,237,237)\",\"ticklen\":6,\"ticks\":\"inside\"}},\"marker\":{\"colorbar\":{\"outlinewidth\":0,\"tickcolor\":\"rgb(237,237,237)\",\"ticklen\":6,\"ticks\":\"inside\"}},\"type\":\"scatter3d\"}],\"scattercarpet\":[{\"marker\":{\"colorbar\":{\"outlinewidth\":0,\"tickcolor\":\"rgb(237,237,237)\",\"ticklen\":6,\"ticks\":\"inside\"}},\"type\":\"scattercarpet\"}],\"scattergeo\":[{\"marker\":{\"colorbar\":{\"outlinewidth\":0,\"tickcolor\":\"rgb(237,237,237)\",\"ticklen\":6,\"ticks\":\"inside\"}},\"type\":\"scattergeo\"}],\"scattergl\":[{\"marker\":{\"colorbar\":{\"outlinewidth\":0,\"tickcolor\":\"rgb(237,237,237)\",\"ticklen\":6,\"ticks\":\"inside\"}},\"type\":\"scattergl\"}],\"scattermapbox\":[{\"marker\":{\"colorbar\":{\"outlinewidth\":0,\"tickcolor\":\"rgb(237,237,237)\",\"ticklen\":6,\"ticks\":\"inside\"}},\"type\":\"scattermapbox\"}],\"scatterpolargl\":[{\"marker\":{\"colorbar\":{\"outlinewidth\":0,\"tickcolor\":\"rgb(237,237,237)\",\"ticklen\":6,\"ticks\":\"inside\"}},\"type\":\"scatterpolargl\"}],\"scatterpolar\":[{\"marker\":{\"colorbar\":{\"outlinewidth\":0,\"tickcolor\":\"rgb(237,237,237)\",\"ticklen\":6,\"ticks\":\"inside\"}},\"type\":\"scatterpolar\"}],\"scatter\":[{\"marker\":{\"colorbar\":{\"outlinewidth\":0,\"tickcolor\":\"rgb(237,237,237)\",\"ticklen\":6,\"ticks\":\"inside\"}},\"type\":\"scatter\"}],\"scatterternary\":[{\"marker\":{\"colorbar\":{\"outlinewidth\":0,\"tickcolor\":\"rgb(237,237,237)\",\"ticklen\":6,\"ticks\":\"inside\"}},\"type\":\"scatterternary\"}],\"surface\":[{\"colorbar\":{\"outlinewidth\":0,\"tickcolor\":\"rgb(237,237,237)\",\"ticklen\":6,\"ticks\":\"inside\"},\"colorscale\":[[0,\"rgb(20,44,66)\"],[1,\"rgb(90,179,244)\"]],\"type\":\"surface\"}],\"table\":[{\"cells\":{\"fill\":{\"color\":\"rgb(237,237,237)\"},\"line\":{\"color\":\"white\"}},\"header\":{\"fill\":{\"color\":\"rgb(217,217,217)\"},\"line\":{\"color\":\"white\"}},\"type\":\"table\"}]},\"layout\":{\"annotationdefaults\":{\"arrowhead\":0,\"arrowwidth\":1},\"autotypenumbers\":\"strict\",\"coloraxis\":{\"colorbar\":{\"outlinewidth\":0,\"tickcolor\":\"rgb(237,237,237)\",\"ticklen\":6,\"ticks\":\"inside\"}},\"colorscale\":{\"sequential\":[[0,\"rgb(20,44,66)\"],[1,\"rgb(90,179,244)\"]],\"sequentialminus\":[[0,\"rgb(20,44,66)\"],[1,\"rgb(90,179,244)\"]]},\"colorway\":[\"#F8766D\",\"#A3A500\",\"#00BF7D\",\"#00B0F6\",\"#E76BF3\"],\"font\":{\"color\":\"rgb(51,51,51)\"},\"geo\":{\"bgcolor\":\"white\",\"lakecolor\":\"white\",\"landcolor\":\"rgb(237,237,237)\",\"showlakes\":true,\"showland\":true,\"subunitcolor\":\"white\"},\"hoverlabel\":{\"align\":\"left\"},\"hovermode\":\"closest\",\"paper_bgcolor\":\"white\",\"plot_bgcolor\":\"rgb(237,237,237)\",\"polar\":{\"angularaxis\":{\"gridcolor\":\"white\",\"linecolor\":\"white\",\"showgrid\":true,\"tickcolor\":\"rgb(51,51,51)\",\"ticks\":\"outside\"},\"bgcolor\":\"rgb(237,237,237)\",\"radialaxis\":{\"gridcolor\":\"white\",\"linecolor\":\"white\",\"showgrid\":true,\"tickcolor\":\"rgb(51,51,51)\",\"ticks\":\"outside\"}},\"scene\":{\"xaxis\":{\"backgroundcolor\":\"rgb(237,237,237)\",\"gridcolor\":\"white\",\"gridwidth\":2,\"linecolor\":\"white\",\"showbackground\":true,\"showgrid\":true,\"tickcolor\":\"rgb(51,51,51)\",\"ticks\":\"outside\",\"zerolinecolor\":\"white\"},\"yaxis\":{\"backgroundcolor\":\"rgb(237,237,237)\",\"gridcolor\":\"white\",\"gridwidth\":2,\"linecolor\":\"white\",\"showbackground\":true,\"showgrid\":true,\"tickcolor\":\"rgb(51,51,51)\",\"ticks\":\"outside\",\"zerolinecolor\":\"white\"},\"zaxis\":{\"backgroundcolor\":\"rgb(237,237,237)\",\"gridcolor\":\"white\",\"gridwidth\":2,\"linecolor\":\"white\",\"showbackground\":true,\"showgrid\":true,\"tickcolor\":\"rgb(51,51,51)\",\"ticks\":\"outside\",\"zerolinecolor\":\"white\"}},\"shapedefaults\":{\"fillcolor\":\"black\",\"line\":{\"width\":0},\"opacity\":0.3},\"ternary\":{\"aaxis\":{\"gridcolor\":\"white\",\"linecolor\":\"white\",\"showgrid\":true,\"tickcolor\":\"rgb(51,51,51)\",\"ticks\":\"outside\"},\"baxis\":{\"gridcolor\":\"white\",\"linecolor\":\"white\",\"showgrid\":true,\"tickcolor\":\"rgb(51,51,51)\",\"ticks\":\"outside\"},\"bgcolor\":\"rgb(237,237,237)\",\"caxis\":{\"gridcolor\":\"white\",\"linecolor\":\"white\",\"showgrid\":true,\"tickcolor\":\"rgb(51,51,51)\",\"ticks\":\"outside\"}},\"xaxis\":{\"automargin\":true,\"gridcolor\":\"white\",\"linecolor\":\"white\",\"showgrid\":true,\"tickcolor\":\"rgb(51,51,51)\",\"ticks\":\"outside\",\"title\":{\"standoff\":15},\"zerolinecolor\":\"white\"},\"yaxis\":{\"automargin\":true,\"gridcolor\":\"white\",\"linecolor\":\"white\",\"showgrid\":true,\"tickcolor\":\"rgb(51,51,51)\",\"ticks\":\"outside\",\"title\":{\"standoff\":15},\"zerolinecolor\":\"white\"}}},\"xaxis\":{\"anchor\":\"y\",\"domain\":[0.0,1.0],\"title\":{\"text\":\"Ano\"},\"categoryorder\":\"array\",\"categoryarray\":[2020,2021,2022]},\"yaxis\":{\"anchor\":\"x\",\"domain\":[0.0,1.0],\"title\":{\"text\":\"Sal\\u00e1rio\"}},\"legend\":{\"title\":{\"text\":\"Ano\"},\"tracegroupgap\":0},\"title\":{\"text\":\"<b> Distribui\\u00e7\\u00e3o dos Sal\\u00e1rios nos Diferentes Anos\"},\"boxmode\":\"overlay\"},                        {\"responsive\": true}                    ).then(function(){\n",
              "                            \n",
              "var gd = document.getElementById('c7c88e23-c5ec-4094-9701-46b48ad70aa3');\n",
              "var x = new MutationObserver(function (mutations, observer) {{\n",
              "        var display = window.getComputedStyle(gd).display;\n",
              "        if (!display || display === 'none') {{\n",
              "            console.log([gd, 'removed!']);\n",
              "            Plotly.purge(gd);\n",
              "            observer.disconnect();\n",
              "        }}\n",
              "}});\n",
              "\n",
              "// Listen for the removal of the full notebook cells\n",
              "var notebookContainer = gd.closest('#notebook-container');\n",
              "if (notebookContainer) {{\n",
              "    x.observe(notebookContainer, {childList: true});\n",
              "}}\n",
              "\n",
              "// Listen for the clearing of the current output cell\n",
              "var outputEl = gd.closest('.output');\n",
              "if (outputEl) {{\n",
              "    x.observe(outputEl, {childList: true});\n",
              "}}\n",
              "\n",
              "                        })                };                            </script>        </div>\n",
              "</body>\n",
              "</html>"
            ]
          },
          "metadata": {}
        }
      ]
    },
    {
      "cell_type": "markdown",
      "source": [
        "Não é do interesse do presente trabalho analisar o crescimento dos salários com o passar do tempo, já que é esperado que isso aconteça, e sim a frequência com que as demais variáveis aparecem nos grupos de salários, dos mais baixos aos mais altos. Por isso será feita uma comparação das amostras dos grupos acima."
      ],
      "metadata": {
        "id": "Bdfh4hyehy3c"
      }
    },
    {
      "cell_type": "code",
      "source": [
        "print(stats.shapiro(ds_salaries['salary_in_usd'].loc[ds_salaries['work_year'] == 2020]))\n",
        "print(stats.shapiro(ds_salaries['salary_in_usd'].loc[ds_salaries['work_year'] == 2021]))\n",
        "print(stats.shapiro(ds_salaries['salary_in_usd'].loc[ds_salaries['work_year'] == 2022]))"
      ],
      "metadata": {
        "colab": {
          "base_uri": "https://localhost:8080/"
        },
        "id": "jPfcFSAyhwct",
        "outputId": "5df52aab-54e9-4b3c-d68a-eb7abee9f817"
      },
      "execution_count": null,
      "outputs": [
        {
          "output_type": "stream",
          "name": "stdout",
          "text": [
            "ShapiroResult(statistic=0.7731199264526367, pvalue=3.466301690124851e-09)\n",
            "ShapiroResult(statistic=0.8254565000534058, pvalue=7.066709481582008e-15)\n",
            "ShapiroResult(statistic=0.9619481563568115, pvalue=2.2350339179411094e-07)\n"
          ]
        }
      ]
    },
    {
      "cell_type": "code",
      "source": [
        "print(mannwhitneyu(ds_salaries['salary_in_usd'].loc[ds_salaries['work_year'] == 2020], ds_salaries['salary_in_usd'].loc[ds_salaries['work_year'] == 2021],))\n",
        "print(mannwhitneyu(ds_salaries['salary_in_usd'].loc[ds_salaries['work_year'] == 2020], ds_salaries['salary_in_usd'].loc[ds_salaries['work_year'] == 2022],))\n",
        "print(mannwhitneyu(ds_salaries['salary_in_usd'].loc[ds_salaries['work_year'] == 2021], ds_salaries['salary_in_usd'].loc[ds_salaries['work_year'] == 2022],))"
      ],
      "metadata": {
        "colab": {
          "base_uri": "https://localhost:8080/"
        },
        "id": "PMamLYlHju1i",
        "outputId": "ee5c697f-a2f2-4f77-c4c8-6fc444c7c454"
      },
      "execution_count": null,
      "outputs": [
        {
          "output_type": "stream",
          "name": "stdout",
          "text": [
            "MannwhitneyuResult(statistic=7362.0, pvalue=0.4644467986780825)\n",
            "MannwhitneyuResult(statistic=7126.0, pvalue=5.630618734848829e-07)\n",
            "MannwhitneyuResult(statistic=24196.0, pvalue=4.338794861906176e-09)\n"
          ]
        }
      ]
    },
    {
      "cell_type": "markdown",
      "source": [
        "Como rejeitamos a hipótese de que as amostras dos anos 2020 e 2021 vêm de uma mesma distribuição da amostra de 2022, iremos trabalhar apenas com os salários de 2022 e eliminar a covariável work_year (na etapa de Data Preparation)."
      ],
      "metadata": {
        "id": "WwdIW6MXkhJq"
      }
    },
    {
      "cell_type": "code",
      "source": [
        "#Distribuição dos Salários\n",
        "px.histogram(ds_salaries,x=ds_salaries['salary_in_usd'].loc[ds_salaries['work_year'] == 2022],marginal='rug',template='seaborn',title='<b> Distribuição dos Salários em 2022')"
      ],
      "metadata": {
        "colab": {
          "base_uri": "https://localhost:8080/",
          "height": 542
        },
        "id": "ksA5oC1tow0Q",
        "outputId": "5be329c5-5a40-41a8-fcfd-677077255f54"
      },
      "execution_count": null,
      "outputs": [
        {
          "output_type": "display_data",
          "data": {
            "text/html": [
              "<html>\n",
              "<head><meta charset=\"utf-8\" /></head>\n",
              "<body>\n",
              "    <div>            <script src=\"https://cdnjs.cloudflare.com/ajax/libs/mathjax/2.7.5/MathJax.js?config=TeX-AMS-MML_SVG\"></script><script type=\"text/javascript\">if (window.MathJax) {MathJax.Hub.Config({SVG: {font: \"STIX-Web\"}});}</script>                <script type=\"text/javascript\">window.PlotlyConfig = {MathJaxConfig: 'local'};</script>\n",
              "        <script src=\"https://cdn.plot.ly/plotly-2.8.3.min.js\"></script>                <div id=\"7825dca1-53df-4d27-9f28-9ecb0374c8db\" class=\"plotly-graph-div\" style=\"height:525px; width:100%;\"></div>            <script type=\"text/javascript\">                                    window.PLOTLYENV=window.PLOTLYENV || {};                                    if (document.getElementById(\"7825dca1-53df-4d27-9f28-9ecb0374c8db\")) {                    Plotly.newPlot(                        \"7825dca1-53df-4d27-9f28-9ecb0374c8db\",                        [{\"alignmentgroup\":\"True\",\"bingroup\":\"x\",\"hovertemplate\":\"x=%{x}<br>count=%{y}<extra></extra>\",\"legendgroup\":\"\",\"marker\":{\"color\":\"rgb(76,114,176)\",\"pattern\":{\"shape\":\"\"}},\"name\":\"\",\"offsetgroup\":\"\",\"orientation\":\"v\",\"showlegend\":false,\"x\":[135000,155000,120600,130000,90000,170000,150000,102100,84900,136620,99360,117789,104702,146000,123000,52351,99000,116000,106260,126500,242000,200000,65438,39263,78526,52351,165220,45807,120160,90320,181940,132320,220110,160080,180000,120000,124190,130000,110000,170000,115500,112900,90320,112900,90320,165400,132320,167000,243900,136600,109280,128875,93700,224000,167875,175000,156600,108800,95550,113000,135000,161342,137141,167000,123000,78526,65438,150000,211500,192400,90700,130000,61300,130000,61300,160000,138600,136000,58000,135000,170000,123000,189650,164996,54957,54957,118187,132000,165400,208775,147800,136994,101570,128875,93700,79039,132320,37300,164000,155000,124333,98158,120000,112900,90320,145000,105400,87932,117789,215300,158200,209100,154600,115934,81666,175000,98158,58000,183600,52351,180000,71982,45807,65949,49461,78526,58894,260000,60000,63900,160000,112300,241000,159000,180000,80000,82900,100800,49461,140400,39263,43966,32974,87932,76940,104702,91614,65949,87932,189650,164996,43966,32974,98158,78526,215300,76940,209100,154600,180000,21983,80000,78791,196979,120000,125000,37236,105000,87932,18442,31615,58255,100000,54957,18442,162674,120000,144000,104890,100000,140000,135000,50000,220000,140000,183228,91614,185100,220000,200000,120000,120000,65000,324000,216000,210000,120000,230000,100000,100000,31875,200000,75000,35590,78791,100000,153000,58035,165000,93427,52396,62651,32974,40000,87425,115000,86703,75000,64849,120000,157000,150000,70912,65000,71444,20000,48000,152500,68147,122346,380000,69336,10000,20000,405000,135000,177000,78000,135000,100000,90320,85000,75000,214000,192600,266400,213120,112900,155000,141300,102100,115934,81666,206699,99100,130000,115000,110500,130000,99050,160000,205300,140400,176000,144000,200100,160000,145000,70500,205300,140400,205300,184700,175100,140250,116150,54000,170000,65438,80000,140000,210000,140000,100000,69000,210000,140000,210000,150075,100000,25000,126500,106260,220110,160080,105000,110925,45807,140000,99000,60000,192564,144854,230000,150000,150260,109280,210000,170000,160000,130000,67000,52000,154000,126000,129000,150000,200000],\"xaxis\":\"x\",\"yaxis\":\"y\",\"type\":\"histogram\"},{\"alignmentgroup\":\"True\",\"boxpoints\":\"all\",\"fillcolor\":\"rgba(255,255,255,0)\",\"hoveron\":\"points\",\"hovertemplate\":\"x=%{x}<extra></extra>\",\"jitter\":0,\"legendgroup\":\"\",\"line\":{\"color\":\"rgba(255,255,255,0)\"},\"marker\":{\"color\":\"rgb(76,114,176)\",\"symbol\":\"line-ns-open\"},\"name\":\"\",\"offsetgroup\":\"\",\"showlegend\":false,\"x\":[135000,155000,120600,130000,90000,170000,150000,102100,84900,136620,99360,117789,104702,146000,123000,52351,99000,116000,106260,126500,242000,200000,65438,39263,78526,52351,165220,45807,120160,90320,181940,132320,220110,160080,180000,120000,124190,130000,110000,170000,115500,112900,90320,112900,90320,165400,132320,167000,243900,136600,109280,128875,93700,224000,167875,175000,156600,108800,95550,113000,135000,161342,137141,167000,123000,78526,65438,150000,211500,192400,90700,130000,61300,130000,61300,160000,138600,136000,58000,135000,170000,123000,189650,164996,54957,54957,118187,132000,165400,208775,147800,136994,101570,128875,93700,79039,132320,37300,164000,155000,124333,98158,120000,112900,90320,145000,105400,87932,117789,215300,158200,209100,154600,115934,81666,175000,98158,58000,183600,52351,180000,71982,45807,65949,49461,78526,58894,260000,60000,63900,160000,112300,241000,159000,180000,80000,82900,100800,49461,140400,39263,43966,32974,87932,76940,104702,91614,65949,87932,189650,164996,43966,32974,98158,78526,215300,76940,209100,154600,180000,21983,80000,78791,196979,120000,125000,37236,105000,87932,18442,31615,58255,100000,54957,18442,162674,120000,144000,104890,100000,140000,135000,50000,220000,140000,183228,91614,185100,220000,200000,120000,120000,65000,324000,216000,210000,120000,230000,100000,100000,31875,200000,75000,35590,78791,100000,153000,58035,165000,93427,52396,62651,32974,40000,87425,115000,86703,75000,64849,120000,157000,150000,70912,65000,71444,20000,48000,152500,68147,122346,380000,69336,10000,20000,405000,135000,177000,78000,135000,100000,90320,85000,75000,214000,192600,266400,213120,112900,155000,141300,102100,115934,81666,206699,99100,130000,115000,110500,130000,99050,160000,205300,140400,176000,144000,200100,160000,145000,70500,205300,140400,205300,184700,175100,140250,116150,54000,170000,65438,80000,140000,210000,140000,100000,69000,210000,140000,210000,150075,100000,25000,126500,106260,220110,160080,105000,110925,45807,140000,99000,60000,192564,144854,230000,150000,150260,109280,210000,170000,160000,130000,67000,52000,154000,126000,129000,150000,200000],\"xaxis\":\"x2\",\"yaxis\":\"y2\",\"type\":\"box\"}],                        {\"template\":{\"data\":{\"barpolar\":[{\"marker\":{\"line\":{\"color\":\"rgb(234,234,242)\",\"width\":0.5},\"pattern\":{\"fillmode\":\"overlay\",\"size\":10,\"solidity\":0.2}},\"type\":\"barpolar\"}],\"bar\":[{\"error_x\":{\"color\":\"rgb(36,36,36)\"},\"error_y\":{\"color\":\"rgb(36,36,36)\"},\"marker\":{\"line\":{\"color\":\"rgb(234,234,242)\",\"width\":0.5},\"pattern\":{\"fillmode\":\"overlay\",\"size\":10,\"solidity\":0.2}},\"type\":\"bar\"}],\"carpet\":[{\"aaxis\":{\"endlinecolor\":\"rgb(36,36,36)\",\"gridcolor\":\"white\",\"linecolor\":\"white\",\"minorgridcolor\":\"white\",\"startlinecolor\":\"rgb(36,36,36)\"},\"baxis\":{\"endlinecolor\":\"rgb(36,36,36)\",\"gridcolor\":\"white\",\"linecolor\":\"white\",\"minorgridcolor\":\"white\",\"startlinecolor\":\"rgb(36,36,36)\"},\"type\":\"carpet\"}],\"choropleth\":[{\"colorbar\":{\"outlinewidth\":0,\"tickcolor\":\"rgb(36,36,36)\",\"ticklen\":8,\"ticks\":\"outside\",\"tickwidth\":2},\"type\":\"choropleth\"}],\"contourcarpet\":[{\"colorbar\":{\"outlinewidth\":0,\"tickcolor\":\"rgb(36,36,36)\",\"ticklen\":8,\"ticks\":\"outside\",\"tickwidth\":2},\"type\":\"contourcarpet\"}],\"contour\":[{\"colorbar\":{\"outlinewidth\":0,\"tickcolor\":\"rgb(36,36,36)\",\"ticklen\":8,\"ticks\":\"outside\",\"tickwidth\":2},\"colorscale\":[[0.0,\"rgb(2,4,25)\"],[0.06274509803921569,\"rgb(24,15,41)\"],[0.12549019607843137,\"rgb(47,23,57)\"],[0.18823529411764706,\"rgb(71,28,72)\"],[0.25098039215686274,\"rgb(97,30,82)\"],[0.3137254901960784,\"rgb(123,30,89)\"],[0.3764705882352941,\"rgb(150,27,91)\"],[0.4392156862745098,\"rgb(177,22,88)\"],[0.5019607843137255,\"rgb(203,26,79)\"],[0.5647058823529412,\"rgb(223,47,67)\"],[0.6274509803921569,\"rgb(236,76,61)\"],[0.6901960784313725,\"rgb(242,107,73)\"],[0.7529411764705882,\"rgb(244,135,95)\"],[0.8156862745098039,\"rgb(245,162,122)\"],[0.8784313725490196,\"rgb(246,188,153)\"],[0.9411764705882353,\"rgb(247,212,187)\"],[1.0,\"rgb(250,234,220)\"]],\"type\":\"contour\"}],\"heatmapgl\":[{\"colorbar\":{\"outlinewidth\":0,\"tickcolor\":\"rgb(36,36,36)\",\"ticklen\":8,\"ticks\":\"outside\",\"tickwidth\":2},\"colorscale\":[[0.0,\"rgb(2,4,25)\"],[0.06274509803921569,\"rgb(24,15,41)\"],[0.12549019607843137,\"rgb(47,23,57)\"],[0.18823529411764706,\"rgb(71,28,72)\"],[0.25098039215686274,\"rgb(97,30,82)\"],[0.3137254901960784,\"rgb(123,30,89)\"],[0.3764705882352941,\"rgb(150,27,91)\"],[0.4392156862745098,\"rgb(177,22,88)\"],[0.5019607843137255,\"rgb(203,26,79)\"],[0.5647058823529412,\"rgb(223,47,67)\"],[0.6274509803921569,\"rgb(236,76,61)\"],[0.6901960784313725,\"rgb(242,107,73)\"],[0.7529411764705882,\"rgb(244,135,95)\"],[0.8156862745098039,\"rgb(245,162,122)\"],[0.8784313725490196,\"rgb(246,188,153)\"],[0.9411764705882353,\"rgb(247,212,187)\"],[1.0,\"rgb(250,234,220)\"]],\"type\":\"heatmapgl\"}],\"heatmap\":[{\"colorbar\":{\"outlinewidth\":0,\"tickcolor\":\"rgb(36,36,36)\",\"ticklen\":8,\"ticks\":\"outside\",\"tickwidth\":2},\"colorscale\":[[0.0,\"rgb(2,4,25)\"],[0.06274509803921569,\"rgb(24,15,41)\"],[0.12549019607843137,\"rgb(47,23,57)\"],[0.18823529411764706,\"rgb(71,28,72)\"],[0.25098039215686274,\"rgb(97,30,82)\"],[0.3137254901960784,\"rgb(123,30,89)\"],[0.3764705882352941,\"rgb(150,27,91)\"],[0.4392156862745098,\"rgb(177,22,88)\"],[0.5019607843137255,\"rgb(203,26,79)\"],[0.5647058823529412,\"rgb(223,47,67)\"],[0.6274509803921569,\"rgb(236,76,61)\"],[0.6901960784313725,\"rgb(242,107,73)\"],[0.7529411764705882,\"rgb(244,135,95)\"],[0.8156862745098039,\"rgb(245,162,122)\"],[0.8784313725490196,\"rgb(246,188,153)\"],[0.9411764705882353,\"rgb(247,212,187)\"],[1.0,\"rgb(250,234,220)\"]],\"type\":\"heatmap\"}],\"histogram2dcontour\":[{\"colorbar\":{\"outlinewidth\":0,\"tickcolor\":\"rgb(36,36,36)\",\"ticklen\":8,\"ticks\":\"outside\",\"tickwidth\":2},\"colorscale\":[[0.0,\"rgb(2,4,25)\"],[0.06274509803921569,\"rgb(24,15,41)\"],[0.12549019607843137,\"rgb(47,23,57)\"],[0.18823529411764706,\"rgb(71,28,72)\"],[0.25098039215686274,\"rgb(97,30,82)\"],[0.3137254901960784,\"rgb(123,30,89)\"],[0.3764705882352941,\"rgb(150,27,91)\"],[0.4392156862745098,\"rgb(177,22,88)\"],[0.5019607843137255,\"rgb(203,26,79)\"],[0.5647058823529412,\"rgb(223,47,67)\"],[0.6274509803921569,\"rgb(236,76,61)\"],[0.6901960784313725,\"rgb(242,107,73)\"],[0.7529411764705882,\"rgb(244,135,95)\"],[0.8156862745098039,\"rgb(245,162,122)\"],[0.8784313725490196,\"rgb(246,188,153)\"],[0.9411764705882353,\"rgb(247,212,187)\"],[1.0,\"rgb(250,234,220)\"]],\"type\":\"histogram2dcontour\"}],\"histogram2d\":[{\"colorbar\":{\"outlinewidth\":0,\"tickcolor\":\"rgb(36,36,36)\",\"ticklen\":8,\"ticks\":\"outside\",\"tickwidth\":2},\"colorscale\":[[0.0,\"rgb(2,4,25)\"],[0.06274509803921569,\"rgb(24,15,41)\"],[0.12549019607843137,\"rgb(47,23,57)\"],[0.18823529411764706,\"rgb(71,28,72)\"],[0.25098039215686274,\"rgb(97,30,82)\"],[0.3137254901960784,\"rgb(123,30,89)\"],[0.3764705882352941,\"rgb(150,27,91)\"],[0.4392156862745098,\"rgb(177,22,88)\"],[0.5019607843137255,\"rgb(203,26,79)\"],[0.5647058823529412,\"rgb(223,47,67)\"],[0.6274509803921569,\"rgb(236,76,61)\"],[0.6901960784313725,\"rgb(242,107,73)\"],[0.7529411764705882,\"rgb(244,135,95)\"],[0.8156862745098039,\"rgb(245,162,122)\"],[0.8784313725490196,\"rgb(246,188,153)\"],[0.9411764705882353,\"rgb(247,212,187)\"],[1.0,\"rgb(250,234,220)\"]],\"type\":\"histogram2d\"}],\"histogram\":[{\"marker\":{\"pattern\":{\"fillmode\":\"overlay\",\"size\":10,\"solidity\":0.2}},\"type\":\"histogram\"}],\"mesh3d\":[{\"colorbar\":{\"outlinewidth\":0,\"tickcolor\":\"rgb(36,36,36)\",\"ticklen\":8,\"ticks\":\"outside\",\"tickwidth\":2},\"type\":\"mesh3d\"}],\"parcoords\":[{\"line\":{\"colorbar\":{\"outlinewidth\":0,\"tickcolor\":\"rgb(36,36,36)\",\"ticklen\":8,\"ticks\":\"outside\",\"tickwidth\":2}},\"type\":\"parcoords\"}],\"pie\":[{\"automargin\":true,\"type\":\"pie\"}],\"scatter3d\":[{\"line\":{\"colorbar\":{\"outlinewidth\":0,\"tickcolor\":\"rgb(36,36,36)\",\"ticklen\":8,\"ticks\":\"outside\",\"tickwidth\":2}},\"marker\":{\"colorbar\":{\"outlinewidth\":0,\"tickcolor\":\"rgb(36,36,36)\",\"ticklen\":8,\"ticks\":\"outside\",\"tickwidth\":2}},\"type\":\"scatter3d\"}],\"scattercarpet\":[{\"marker\":{\"colorbar\":{\"outlinewidth\":0,\"tickcolor\":\"rgb(36,36,36)\",\"ticklen\":8,\"ticks\":\"outside\",\"tickwidth\":2}},\"type\":\"scattercarpet\"}],\"scattergeo\":[{\"marker\":{\"colorbar\":{\"outlinewidth\":0,\"tickcolor\":\"rgb(36,36,36)\",\"ticklen\":8,\"ticks\":\"outside\",\"tickwidth\":2}},\"type\":\"scattergeo\"}],\"scattergl\":[{\"marker\":{\"colorbar\":{\"outlinewidth\":0,\"tickcolor\":\"rgb(36,36,36)\",\"ticklen\":8,\"ticks\":\"outside\",\"tickwidth\":2}},\"type\":\"scattergl\"}],\"scattermapbox\":[{\"marker\":{\"colorbar\":{\"outlinewidth\":0,\"tickcolor\":\"rgb(36,36,36)\",\"ticklen\":8,\"ticks\":\"outside\",\"tickwidth\":2}},\"type\":\"scattermapbox\"}],\"scatterpolargl\":[{\"marker\":{\"colorbar\":{\"outlinewidth\":0,\"tickcolor\":\"rgb(36,36,36)\",\"ticklen\":8,\"ticks\":\"outside\",\"tickwidth\":2}},\"type\":\"scatterpolargl\"}],\"scatterpolar\":[{\"marker\":{\"colorbar\":{\"outlinewidth\":0,\"tickcolor\":\"rgb(36,36,36)\",\"ticklen\":8,\"ticks\":\"outside\",\"tickwidth\":2}},\"type\":\"scatterpolar\"}],\"scatter\":[{\"marker\":{\"colorbar\":{\"outlinewidth\":0,\"tickcolor\":\"rgb(36,36,36)\",\"ticklen\":8,\"ticks\":\"outside\",\"tickwidth\":2}},\"type\":\"scatter\"}],\"scatterternary\":[{\"marker\":{\"colorbar\":{\"outlinewidth\":0,\"tickcolor\":\"rgb(36,36,36)\",\"ticklen\":8,\"ticks\":\"outside\",\"tickwidth\":2}},\"type\":\"scatterternary\"}],\"surface\":[{\"colorbar\":{\"outlinewidth\":0,\"tickcolor\":\"rgb(36,36,36)\",\"ticklen\":8,\"ticks\":\"outside\",\"tickwidth\":2},\"colorscale\":[[0.0,\"rgb(2,4,25)\"],[0.06274509803921569,\"rgb(24,15,41)\"],[0.12549019607843137,\"rgb(47,23,57)\"],[0.18823529411764706,\"rgb(71,28,72)\"],[0.25098039215686274,\"rgb(97,30,82)\"],[0.3137254901960784,\"rgb(123,30,89)\"],[0.3764705882352941,\"rgb(150,27,91)\"],[0.4392156862745098,\"rgb(177,22,88)\"],[0.5019607843137255,\"rgb(203,26,79)\"],[0.5647058823529412,\"rgb(223,47,67)\"],[0.6274509803921569,\"rgb(236,76,61)\"],[0.6901960784313725,\"rgb(242,107,73)\"],[0.7529411764705882,\"rgb(244,135,95)\"],[0.8156862745098039,\"rgb(245,162,122)\"],[0.8784313725490196,\"rgb(246,188,153)\"],[0.9411764705882353,\"rgb(247,212,187)\"],[1.0,\"rgb(250,234,220)\"]],\"type\":\"surface\"}],\"table\":[{\"cells\":{\"fill\":{\"color\":\"rgb(231,231,240)\"},\"line\":{\"color\":\"white\"}},\"header\":{\"fill\":{\"color\":\"rgb(183,183,191)\"},\"line\":{\"color\":\"white\"}},\"type\":\"table\"}]},\"layout\":{\"annotationdefaults\":{\"arrowcolor\":\"rgb(67,103,167)\"},\"autotypenumbers\":\"strict\",\"coloraxis\":{\"colorbar\":{\"outlinewidth\":0,\"tickcolor\":\"rgb(36,36,36)\",\"ticklen\":8,\"ticks\":\"outside\",\"tickwidth\":2}},\"colorscale\":{\"sequential\":[[0.0,\"rgb(2,4,25)\"],[0.06274509803921569,\"rgb(24,15,41)\"],[0.12549019607843137,\"rgb(47,23,57)\"],[0.18823529411764706,\"rgb(71,28,72)\"],[0.25098039215686274,\"rgb(97,30,82)\"],[0.3137254901960784,\"rgb(123,30,89)\"],[0.3764705882352941,\"rgb(150,27,91)\"],[0.4392156862745098,\"rgb(177,22,88)\"],[0.5019607843137255,\"rgb(203,26,79)\"],[0.5647058823529412,\"rgb(223,47,67)\"],[0.6274509803921569,\"rgb(236,76,61)\"],[0.6901960784313725,\"rgb(242,107,73)\"],[0.7529411764705882,\"rgb(244,135,95)\"],[0.8156862745098039,\"rgb(245,162,122)\"],[0.8784313725490196,\"rgb(246,188,153)\"],[0.9411764705882353,\"rgb(247,212,187)\"],[1.0,\"rgb(250,234,220)\"]],\"sequentialminus\":[[0.0,\"rgb(2,4,25)\"],[0.06274509803921569,\"rgb(24,15,41)\"],[0.12549019607843137,\"rgb(47,23,57)\"],[0.18823529411764706,\"rgb(71,28,72)\"],[0.25098039215686274,\"rgb(97,30,82)\"],[0.3137254901960784,\"rgb(123,30,89)\"],[0.3764705882352941,\"rgb(150,27,91)\"],[0.4392156862745098,\"rgb(177,22,88)\"],[0.5019607843137255,\"rgb(203,26,79)\"],[0.5647058823529412,\"rgb(223,47,67)\"],[0.6274509803921569,\"rgb(236,76,61)\"],[0.6901960784313725,\"rgb(242,107,73)\"],[0.7529411764705882,\"rgb(244,135,95)\"],[0.8156862745098039,\"rgb(245,162,122)\"],[0.8784313725490196,\"rgb(246,188,153)\"],[0.9411764705882353,\"rgb(247,212,187)\"],[1.0,\"rgb(250,234,220)\"]]},\"colorway\":[\"rgb(76,114,176)\",\"rgb(221,132,82)\",\"rgb(85,168,104)\",\"rgb(196,78,82)\",\"rgb(129,114,179)\",\"rgb(147,120,96)\",\"rgb(218,139,195)\",\"rgb(140,140,140)\",\"rgb(204,185,116)\",\"rgb(100,181,205)\"],\"font\":{\"color\":\"rgb(36,36,36)\"},\"geo\":{\"bgcolor\":\"white\",\"lakecolor\":\"white\",\"landcolor\":\"rgb(234,234,242)\",\"showlakes\":true,\"showland\":true,\"subunitcolor\":\"white\"},\"hoverlabel\":{\"align\":\"left\"},\"hovermode\":\"closest\",\"paper_bgcolor\":\"white\",\"plot_bgcolor\":\"rgb(234,234,242)\",\"polar\":{\"angularaxis\":{\"gridcolor\":\"white\",\"linecolor\":\"white\",\"showgrid\":true,\"ticks\":\"\"},\"bgcolor\":\"rgb(234,234,242)\",\"radialaxis\":{\"gridcolor\":\"white\",\"linecolor\":\"white\",\"showgrid\":true,\"ticks\":\"\"}},\"scene\":{\"xaxis\":{\"backgroundcolor\":\"rgb(234,234,242)\",\"gridcolor\":\"white\",\"gridwidth\":2,\"linecolor\":\"white\",\"showbackground\":true,\"showgrid\":true,\"ticks\":\"\",\"zerolinecolor\":\"white\"},\"yaxis\":{\"backgroundcolor\":\"rgb(234,234,242)\",\"gridcolor\":\"white\",\"gridwidth\":2,\"linecolor\":\"white\",\"showbackground\":true,\"showgrid\":true,\"ticks\":\"\",\"zerolinecolor\":\"white\"},\"zaxis\":{\"backgroundcolor\":\"rgb(234,234,242)\",\"gridcolor\":\"white\",\"gridwidth\":2,\"linecolor\":\"white\",\"showbackground\":true,\"showgrid\":true,\"ticks\":\"\",\"zerolinecolor\":\"white\"}},\"shapedefaults\":{\"fillcolor\":\"rgb(67,103,167)\",\"line\":{\"width\":0},\"opacity\":0.5},\"ternary\":{\"aaxis\":{\"gridcolor\":\"white\",\"linecolor\":\"white\",\"showgrid\":true,\"ticks\":\"\"},\"baxis\":{\"gridcolor\":\"white\",\"linecolor\":\"white\",\"showgrid\":true,\"ticks\":\"\"},\"bgcolor\":\"rgb(234,234,242)\",\"caxis\":{\"gridcolor\":\"white\",\"linecolor\":\"white\",\"showgrid\":true,\"ticks\":\"\"}},\"xaxis\":{\"automargin\":true,\"gridcolor\":\"white\",\"linecolor\":\"white\",\"showgrid\":true,\"ticks\":\"\",\"title\":{\"standoff\":15},\"zerolinecolor\":\"white\"},\"yaxis\":{\"automargin\":true,\"gridcolor\":\"white\",\"linecolor\":\"white\",\"showgrid\":true,\"ticks\":\"\",\"title\":{\"standoff\":15},\"zerolinecolor\":\"white\"}}},\"xaxis\":{\"anchor\":\"y\",\"domain\":[0.0,1.0],\"title\":{\"text\":\"x\"}},\"yaxis\":{\"anchor\":\"x\",\"domain\":[0.0,0.8316],\"title\":{\"text\":\"count\"}},\"xaxis2\":{\"anchor\":\"y2\",\"domain\":[0.0,1.0],\"matches\":\"x\",\"showticklabels\":false},\"yaxis2\":{\"anchor\":\"x2\",\"domain\":[0.8416,1.0],\"matches\":\"y2\",\"showticklabels\":false,\"showline\":false,\"ticks\":\"\"},\"legend\":{\"tracegroupgap\":0},\"title\":{\"text\":\"<b> Distribui\\u00e7\\u00e3o dos Sal\\u00e1rios em 2022\"},\"barmode\":\"relative\"},                        {\"responsive\": true}                    ).then(function(){\n",
              "                            \n",
              "var gd = document.getElementById('7825dca1-53df-4d27-9f28-9ecb0374c8db');\n",
              "var x = new MutationObserver(function (mutations, observer) {{\n",
              "        var display = window.getComputedStyle(gd).display;\n",
              "        if (!display || display === 'none') {{\n",
              "            console.log([gd, 'removed!']);\n",
              "            Plotly.purge(gd);\n",
              "            observer.disconnect();\n",
              "        }}\n",
              "}});\n",
              "\n",
              "// Listen for the removal of the full notebook cells\n",
              "var notebookContainer = gd.closest('#notebook-container');\n",
              "if (notebookContainer) {{\n",
              "    x.observe(notebookContainer, {childList: true});\n",
              "}}\n",
              "\n",
              "// Listen for the clearing of the current output cell\n",
              "var outputEl = gd.closest('.output');\n",
              "if (outputEl) {{\n",
              "    x.observe(outputEl, {childList: true});\n",
              "}}\n",
              "\n",
              "                        })                };                            </script>        </div>\n",
              "</body>\n",
              "</html>"
            ]
          },
          "metadata": {}
        }
      ]
    },
    {
      "cell_type": "code",
      "source": [
        "#Nos ajudará a definir as faixas para os salários em Data Preparation\n",
        "(ds_salaries['salary_in_usd'].loc[ds_salaries['work_year'] == 2022]).describe()"
      ],
      "metadata": {
        "colab": {
          "base_uri": "https://localhost:8080/"
        },
        "id": "wRMc1RK6rQjZ",
        "outputId": "c2f96cef-eff1-406a-9d42-af99bb83b046"
      },
      "execution_count": null,
      "outputs": [
        {
          "output_type": "execute_result",
          "data": {
            "text/plain": [
              "count       318.000000\n",
              "mean     124522.006289\n",
              "std       58183.647585\n",
              "min       10000.000000\n",
              "25%       81666.000000\n",
              "50%      120000.000000\n",
              "75%      160000.000000\n",
              "max      405000.000000\n",
              "Name: salary_in_usd, dtype: float64"
            ]
          },
          "metadata": {},
          "execution_count": 22
        }
      ]
    },
    {
      "cell_type": "code",
      "source": [
        "bad=np.quantile(ds_salaries['salary_in_usd'], 0.33)\n",
        "good=np.quantile(ds_salaries['salary_in_usd'], 0.66)\n",
        "print(bad,good)"
      ],
      "metadata": {
        "colab": {
          "base_uri": "https://localhost:8080/"
        },
        "id": "JzJR_bnj5Im1",
        "outputId": "b34ca44b-f215-4efe-a658-bc532dc4b630"
      },
      "execution_count": null,
      "outputs": [
        {
          "output_type": "stream",
          "name": "stdout",
          "text": [
            "76940.0 130000.0\n"
          ]
        }
      ]
    },
    {
      "cell_type": "code",
      "source": [
        "crosstab = pd.crosstab(ds_salaries['employee_residence'], ds_salaries['company_location'])\n",
        "stats.chi2_contingency(crosstab)"
      ],
      "metadata": {
        "colab": {
          "base_uri": "https://localhost:8080/"
        },
        "id": "-AR7g3WtsB2t",
        "outputId": "8501eff7-3485-42ae-c5a2-9ce3d367566d"
      },
      "execution_count": null,
      "outputs": [
        {
          "output_type": "execute_result",
          "data": {
            "text/plain": [
              "(23187.380792483484,\n",
              " 0.0,\n",
              " 2744,\n",
              " array([[1.48270e-02, 4.94234e-03, 1.97694e-02, ..., 4.94234e-03,\n",
              "         1.75453e+00, 4.94234e-03],\n",
              "        [4.94234e-03, 1.64745e-03, 6.58979e-03, ..., 1.64745e-03,\n",
              "         5.84843e-01, 1.64745e-03],\n",
              "        [1.48270e-02, 4.94234e-03, 1.97694e-02, ..., 4.94234e-03,\n",
              "         1.75453e+00, 4.94234e-03],\n",
              "        ...,\n",
              "        [4.94234e-03, 1.64745e-03, 6.58979e-03, ..., 1.64745e-03,\n",
              "         5.84843e-01, 1.64745e-03],\n",
              "        [1.64086e+00, 5.46952e-01, 2.18781e+00, ..., 5.46952e-01,\n",
              "         1.94168e+02, 5.46952e-01],\n",
              "        [1.48270e-02, 4.94234e-03, 1.97694e-02, ..., 4.94234e-03,\n",
              "         1.75453e+00, 4.94234e-03]]))"
            ]
          },
          "metadata": {},
          "execution_count": 6
        }
      ]
    },
    {
      "cell_type": "markdown",
      "source": [
        "Como existe uma relação entre a residência do empregado com o local da empresa onde ele trabalha, levaremos em conta para o modelo apenas a variável 'company_location'."
      ],
      "metadata": {
        "id": "0vv-VQpdw-PU"
      }
    },
    {
      "cell_type": "code",
      "source": [
        "ds_salaries.value_counts('employment_type')"
      ],
      "metadata": {
        "colab": {
          "base_uri": "https://localhost:8080/"
        },
        "id": "uPmr-VYhxT-7",
        "outputId": "87a60993-5f39-4bcd-81f9-534f049f1958"
      },
      "execution_count": null,
      "outputs": [
        {
          "output_type": "execute_result",
          "data": {
            "text/plain": [
              "employment_type\n",
              "FT    588\n",
              "PT     10\n",
              "CT      5\n",
              "FL      4\n",
              "dtype: int64"
            ]
          },
          "metadata": {},
          "execution_count": 59
        }
      ]
    },
    {
      "cell_type": "markdown",
      "source": [
        "Como a grande maioria dos trabalhadores trabalham como Full Time, a variável 'employment_type' não será levada em conta."
      ],
      "metadata": {
        "id": "VA0KPBDOxpOZ"
      }
    },
    {
      "cell_type": "markdown",
      "source": [
        "##**3. Data preparation (Preparação dos dados)**"
      ],
      "metadata": {
        "id": "YBK0Ro38J8kF"
      }
    },
    {
      "cell_type": "code",
      "source": [
        "#Apenas dados do ano de 2022\n",
        "ds_salaries_2022=ds_salaries.loc[ds_salaries['work_year'] == 2022]"
      ],
      "metadata": {
        "id": "zfo1D18BOXzl"
      },
      "execution_count": null,
      "outputs": []
    },
    {
      "cell_type": "code",
      "source": [
        "#Categorização da variável 'salary_in_usd' de acordo com as informações encontradas em Data Understanding \n",
        "ds_salaries_2022['salary'] = 0\n",
        "ds_salaries_2022.loc[ds_salaries_2022['salary_in_usd'] <= 80000, 'salary'] = 'bad'\n",
        "ds_salaries_2022.loc[((ds_salaries_2022['salary_in_usd'] > 80000) & (ds_salaries_2022['salary_in_usd'] <= 130000)), \n",
        "'salary'] = 'good'\n",
        "ds_salaries_2022.loc[ds_salaries_2022['salary_in_usd'] > 130000, 'salary'] = 'very_good'"
      ],
      "metadata": {
        "id": "1Yf5zu83slXK"
      },
      "execution_count": null,
      "outputs": []
    },
    {
      "cell_type": "code",
      "source": [
        "#Variáveis que serão utilizadas\n",
        "ds_salaries_2022=ds_salaries_2022.reset_index()\n",
        "ds_salaries_2022=ds_salaries_2022[['experience_level','job_title','salary',\n",
        "'remote_ratio','company_location','company_size']]"
      ],
      "metadata": {
        "id": "VAdpJI-EtD3E"
      },
      "execution_count": null,
      "outputs": []
    },
    {
      "cell_type": "code",
      "source": [
        "ds_salaries_2022.info()"
      ],
      "metadata": {
        "colab": {
          "base_uri": "https://localhost:8080/"
        },
        "id": "P4Rbwu29yj5G",
        "outputId": "9a5c60a7-6344-4e95-9597-f99cf805606a"
      },
      "execution_count": null,
      "outputs": [
        {
          "output_type": "stream",
          "name": "stdout",
          "text": [
            "<class 'pandas.core.frame.DataFrame'>\n",
            "RangeIndex: 318 entries, 0 to 317\n",
            "Data columns (total 6 columns):\n",
            " #   Column            Non-Null Count  Dtype \n",
            "---  ------            --------------  ----- \n",
            " 0   experience_level  318 non-null    object\n",
            " 1   job_title         318 non-null    object\n",
            " 2   salary            318 non-null    object\n",
            " 3   remote_ratio      318 non-null    int64 \n",
            " 4   company_location  318 non-null    object\n",
            " 5   company_size      318 non-null    object\n",
            "dtypes: int64(1), object(5)\n",
            "memory usage: 15.0+ KB\n"
          ]
        }
      ]
    },
    {
      "cell_type": "code",
      "source": [
        "#Separação dos datasets\n",
        "ds_salaries_bad=ds_salaries_2022.loc[ds_salaries_2022['salary']=='bad']\n",
        "ds_salaries_good=ds_salaries_2022.loc[ds_salaries_2022['salary']=='good']\n",
        "ds_salaries_very_good=ds_salaries_2022.loc[ds_salaries_2022['salary']=='very_good']"
      ],
      "metadata": {
        "id": "tk_MgLojyP4q"
      },
      "execution_count": null,
      "outputs": []
    },
    {
      "cell_type": "code",
      "source": [
        "ds_salaries_bad.info()\n",
        "ds_salaries_good.info()\n",
        "ds_salaries_very_good.info()"
      ],
      "metadata": {
        "colab": {
          "base_uri": "https://localhost:8080/"
        },
        "id": "rPazmNsgy-sD",
        "outputId": "f7ce880b-b935-4235-8f04-3e8fbbc99de8"
      },
      "execution_count": null,
      "outputs": [
        {
          "output_type": "stream",
          "name": "stdout",
          "text": [
            "<class 'pandas.core.frame.DataFrame'>\n",
            "Int64Index: 79 entries, 15 to 312\n",
            "Data columns (total 6 columns):\n",
            " #   Column            Non-Null Count  Dtype \n",
            "---  ------            --------------  ----- \n",
            " 0   experience_level  79 non-null     object\n",
            " 1   job_title         79 non-null     object\n",
            " 2   salary            79 non-null     object\n",
            " 3   remote_ratio      79 non-null     int64 \n",
            " 4   company_location  79 non-null     object\n",
            " 5   company_size      79 non-null     object\n",
            "dtypes: int64(1), object(5)\n",
            "memory usage: 4.3+ KB\n",
            "<class 'pandas.core.frame.DataFrame'>\n",
            "Int64Index: 104 entries, 2 to 315\n",
            "Data columns (total 6 columns):\n",
            " #   Column            Non-Null Count  Dtype \n",
            "---  ------            --------------  ----- \n",
            " 0   experience_level  104 non-null    object\n",
            " 1   job_title         104 non-null    object\n",
            " 2   salary            104 non-null    object\n",
            " 3   remote_ratio      104 non-null    int64 \n",
            " 4   company_location  104 non-null    object\n",
            " 5   company_size      104 non-null    object\n",
            "dtypes: int64(1), object(5)\n",
            "memory usage: 5.7+ KB\n",
            "<class 'pandas.core.frame.DataFrame'>\n",
            "Int64Index: 135 entries, 0 to 317\n",
            "Data columns (total 6 columns):\n",
            " #   Column            Non-Null Count  Dtype \n",
            "---  ------            --------------  ----- \n",
            " 0   experience_level  135 non-null    object\n",
            " 1   job_title         135 non-null    object\n",
            " 2   salary            135 non-null    object\n",
            " 3   remote_ratio      135 non-null    int64 \n",
            " 4   company_location  135 non-null    object\n",
            " 5   company_size      135 non-null    object\n",
            "dtypes: int64(1), object(5)\n",
            "memory usage: 7.4+ KB\n"
          ]
        }
      ]
    },
    {
      "cell_type": "markdown",
      "source": [
        "##**4. Modeling (Modelagem)**"
      ],
      "metadata": {
        "id": "AjlBKt3FKJhA"
      }
    },
    {
      "cell_type": "markdown",
      "source": [
        "O algoritmo escolhido para a mineração de padrões frequentes foi o FP Growth. Ele será usado nos quatro datasets separados na etapa anterior e no final será feita a comparação dos resultados obtidos por faixa de salário."
      ],
      "metadata": {
        "id": "T4u-bKwrKOOv"
      }
    },
    {
      "cell_type": "code",
      "source": [
        "transactionencoder = TransactionEncoder()\n",
        "min_support = 0.3\n",
        "def frequent_itemsets(df,i):\n",
        "  del df['salary']\n",
        "  list_features = [] \n",
        "  for i in range(0, i):\n",
        "    list_features.append([str(df.values[i,j]) for j in range(0, 5)]) \n",
        "  transactionencoder.fit(list_features)\n",
        "  encoded_transactions = transactionencoder.transform(list_features)\n",
        "  df_encoded_transactions = pd.DataFrame(encoded_transactions, columns=transactionencoder.columns_)\n",
        "  frequent_itemsets = fpgrowth(df_encoded_transactions, min_support=min_support, use_colnames = True)\n",
        "  return(frequent_itemsets)\n"
      ],
      "metadata": {
        "id": "P_YEjbzyOXC9"
      },
      "execution_count": null,
      "outputs": []
    },
    {
      "cell_type": "code",
      "source": [
        "print('#'*30)\n",
        "print('Bad Salaries:')\n",
        "frequent_itemsets_b=frequent_itemsets(ds_salaries_bad,79)\n",
        "print(frequent_itemsets_b)\n",
        "print('#'*30)\n",
        "\n",
        "print('Good Salaries:')\n",
        "frequent_itemsets_g=frequent_itemsets(ds_salaries_good,104)\n",
        "print(frequent_itemsets_g)\n",
        "print('#'*30)\n",
        "\n",
        "print('Very Good Salaries:')\n",
        "frequent_itemsets_vg=frequent_itemsets(ds_salaries_very_good,135)\n",
        "print(frequent_itemsets_vg)\n",
        "print('#'*30)"
      ],
      "metadata": {
        "colab": {
          "base_uri": "https://localhost:8080/"
        },
        "id": "E0RaPgyiw5OB",
        "outputId": "8868c88d-3f48-4976-b9fd-96671b52cc5a"
      },
      "execution_count": null,
      "outputs": [
        {
          "output_type": "stream",
          "name": "stdout",
          "text": [
            "##############################\n",
            "Bad Salaries:\n",
            "    support         itemsets\n",
            "0  0.696203              (M)\n",
            "1  0.645570            (100)\n",
            "2  0.303797  (Data Engineer)\n",
            "3  0.594937             (MI)\n",
            "4  0.443038         (M, 100)\n",
            "5  0.417722          (M, MI)\n",
            "6  0.354430        (MI, 100)\n",
            "##############################\n",
            "Good Salaries:\n",
            "     support                   itemsets\n",
            "0   0.884615                        (M)\n",
            "1   0.759615                       (US)\n",
            "2   0.682692                      (100)\n",
            "3   0.644231                       (SE)\n",
            "4   0.384615             (Data Analyst)\n",
            "5   0.692308                    (M, US)\n",
            "6   0.615385                   (M, 100)\n",
            "7   0.567308                  (US, 100)\n",
            "8   0.528846               (M, US, 100)\n",
            "9   0.596154                    (M, SE)\n",
            "10  0.567308                   (SE, US)\n",
            "11  0.509615                  (SE, 100)\n",
            "12  0.538462                (M, SE, US)\n",
            "13  0.490385               (M, SE, 100)\n",
            "14  0.471154              (SE, US, 100)\n",
            "15  0.461538           (M, SE, US, 100)\n",
            "16  0.384615          (M, Data Analyst)\n",
            "17  0.355769         (Data Analyst, US)\n",
            "18  0.326923         (Data Analyst, SE)\n",
            "19  0.355769      (M, Data Analyst, US)\n",
            "20  0.326923      (M, Data Analyst, SE)\n",
            "21  0.307692     (Data Analyst, SE, US)\n",
            "22  0.307692  (M, Data Analyst, SE, US)\n",
            "##############################\n",
            "Very Good Salaries:\n",
            "     support              itemsets\n",
            "0   0.962963                  (US)\n",
            "1   0.829630                   (M)\n",
            "2   0.807407                  (SE)\n",
            "3   0.785185                 (100)\n",
            "4   0.318519      (Data Scientist)\n",
            "5   0.807407               (M, US)\n",
            "6   0.792593              (SE, US)\n",
            "7   0.681481               (M, SE)\n",
            "8   0.666667           (M, SE, US)\n",
            "9   0.762963             (US, 100)\n",
            "10  0.674074              (M, 100)\n",
            "11  0.629630             (SE, 100)\n",
            "12  0.659259          (M, US, 100)\n",
            "13  0.614815         (SE, US, 100)\n",
            "14  0.555556          (M, SE, 100)\n",
            "15  0.540741      (M, SE, US, 100)\n",
            "16  0.311111  (Data Scientist, US)\n",
            "##############################\n"
          ]
        }
      ]
    },
    {
      "cell_type": "markdown",
      "source": [
        "Comentários a respeito dos resultados obtidos no relatório final."
      ],
      "metadata": {
        "id": "nOwcV6gLhBHB"
      }
    },
    {
      "cell_type": "markdown",
      "source": [
        "##**5. Evaluation (Validação)**\n"
      ],
      "metadata": {
        "id": "F1UAOjMXMfrg"
      }
    },
    {
      "cell_type": "code",
      "source": [
        "from mlxtend.frequent_patterns import association_rules\n",
        "def evaluation(frequent_itemsets):\n",
        "  association=pd.DataFrame(association_rules(frequent_itemsets, metric=\"confidence\", min_threshold=0.7))\n",
        "  return (association)"
      ],
      "metadata": {
        "id": "g37UqSQCOWX8"
      },
      "execution_count": null,
      "outputs": []
    },
    {
      "cell_type": "code",
      "source": [
        "print('#'*30)\n",
        "print('Bad Salaries:')\n",
        "evaluation_b=evaluation(frequent_itemsets_b)\n",
        "print(evaluation_b)\n",
        "print('#'*30)\n",
        "\n",
        "print('Good Salaries:')\n",
        "evaluation_g=evaluation(frequent_itemsets_g)\n",
        "print(evaluation_g)\n",
        "print('#'*30)\n",
        "\n",
        "print('Very Good Salaries:')\n",
        "evaluation_vg=evaluation(frequent_itemsets_vg)\n",
        "print(evaluation_vg)\n",
        "print('#'*30)"
      ],
      "metadata": {
        "colab": {
          "base_uri": "https://localhost:8080/"
        },
        "id": "wxq4bd5TxMMp",
        "outputId": "eef8e44e-da20-4323-a9e4-9dd51f18a552"
      },
      "execution_count": null,
      "outputs": [
        {
          "output_type": "stream",
          "name": "stdout",
          "text": [
            "##############################\n",
            "Bad Salaries:\n",
            "  antecedents consequents  antecedent support  consequent support   support  \\\n",
            "0        (MI)         (M)            0.594937            0.696203  0.417722   \n",
            "\n",
            "   confidence      lift  leverage  conviction  \n",
            "0    0.702128  1.008511  0.003525    1.019892  \n",
            "##############################\n",
            "Good Salaries:\n",
            "               antecedents   consequents  antecedent support  \\\n",
            "0                      (M)          (US)            0.884615   \n",
            "1                     (US)           (M)            0.759615   \n",
            "2                    (100)           (M)            0.682692   \n",
            "3                     (US)         (100)            0.759615   \n",
            "4                    (100)          (US)            0.682692   \n",
            "5                  (M, US)         (100)            0.692308   \n",
            "6                 (M, 100)          (US)            0.615385   \n",
            "7                (US, 100)           (M)            0.567308   \n",
            "8                    (100)       (M, US)            0.682692   \n",
            "9                     (SE)           (M)            0.644231   \n",
            "10                    (SE)          (US)            0.644231   \n",
            "11                    (US)          (SE)            0.759615   \n",
            "12                    (SE)         (100)            0.644231   \n",
            "13                   (100)          (SE)            0.682692   \n",
            "14                 (M, SE)          (US)            0.596154   \n",
            "15                 (M, US)          (SE)            0.692308   \n",
            "16                (SE, US)           (M)            0.567308   \n",
            "17                    (SE)       (M, US)            0.644231   \n",
            "18                    (US)       (M, SE)            0.759615   \n",
            "19                 (M, SE)         (100)            0.596154   \n",
            "20                (M, 100)          (SE)            0.615385   \n",
            "21               (SE, 100)           (M)            0.509615   \n",
            "22                    (SE)      (M, 100)            0.644231   \n",
            "23                   (100)       (M, SE)            0.682692   \n",
            "24                (SE, US)         (100)            0.567308   \n",
            "25               (SE, 100)          (US)            0.509615   \n",
            "26               (US, 100)          (SE)            0.567308   \n",
            "27                    (SE)     (US, 100)            0.644231   \n",
            "28             (M, SE, US)         (100)            0.538462   \n",
            "29            (M, SE, 100)          (US)            0.490385   \n",
            "30            (M, US, 100)          (SE)            0.528846   \n",
            "31           (SE, US, 100)           (M)            0.471154   \n",
            "32                 (M, SE)     (US, 100)            0.596154   \n",
            "33                (M, 100)      (SE, US)            0.615385   \n",
            "34                (SE, US)      (M, 100)            0.567308   \n",
            "35               (SE, 100)       (M, US)            0.509615   \n",
            "36               (US, 100)       (M, SE)            0.567308   \n",
            "37                    (SE)  (M, US, 100)            0.644231   \n",
            "38          (Data Analyst)           (M)            0.384615   \n",
            "39          (Data Analyst)          (US)            0.384615   \n",
            "40          (Data Analyst)          (SE)            0.384615   \n",
            "41       (M, Data Analyst)          (US)            0.384615   \n",
            "42      (Data Analyst, US)           (M)            0.355769   \n",
            "43          (Data Analyst)       (M, US)            0.384615   \n",
            "44       (M, Data Analyst)          (SE)            0.384615   \n",
            "45      (Data Analyst, SE)           (M)            0.326923   \n",
            "46          (Data Analyst)       (M, SE)            0.384615   \n",
            "47      (Data Analyst, SE)          (US)            0.326923   \n",
            "48      (Data Analyst, US)          (SE)            0.355769   \n",
            "49          (Data Analyst)      (SE, US)            0.384615   \n",
            "50   (M, Data Analyst, SE)          (US)            0.326923   \n",
            "51   (M, Data Analyst, US)          (SE)            0.355769   \n",
            "52  (Data Analyst, SE, US)           (M)            0.307692   \n",
            "53       (M, Data Analyst)      (SE, US)            0.384615   \n",
            "54      (Data Analyst, SE)       (M, US)            0.326923   \n",
            "55      (Data Analyst, US)       (M, SE)            0.355769   \n",
            "56          (Data Analyst)   (M, SE, US)            0.384615   \n",
            "\n",
            "    consequent support   support  confidence      lift  leverage  conviction  \n",
            "0             0.759615  0.692308    0.782609  1.030270  0.020340    1.105769  \n",
            "1             0.884615  0.692308    0.911392  1.030270  0.020340    1.302198  \n",
            "2             0.884615  0.615385    0.901408  1.018983  0.011464    1.170330  \n",
            "3             0.682692  0.567308    0.746835  1.093956  0.048724    1.253365  \n",
            "4             0.759615  0.567308    0.830986  1.093956  0.048724    1.422276  \n",
            "5             0.682692  0.528846    0.763889  1.118936  0.056213    1.343891  \n",
            "6             0.759615  0.528846    0.859375  1.131329  0.061391    1.709402  \n",
            "7             0.884615  0.528846    0.932203  1.053795  0.026997    1.701923  \n",
            "8             0.692308  0.528846    0.774648  1.118936  0.056213    1.365385  \n",
            "9             0.884615  0.596154    0.925373  1.046074  0.026257    1.546154  \n",
            "10            0.759615  0.567308    0.880597  1.159267  0.077940    2.013221  \n",
            "11            0.644231  0.567308    0.746835  1.159267  0.077940    1.405288  \n",
            "12            0.682692  0.509615    0.791045  1.158713  0.069804    1.518544  \n",
            "13            0.644231  0.509615    0.746479  1.158713  0.069804    1.403312  \n",
            "14            0.759615  0.538462    0.903226  1.189057  0.085614    2.483974  \n",
            "15            0.644231  0.538462    0.777778  1.207297  0.092456    1.600962  \n",
            "16            0.884615  0.538462    0.949153  1.072955  0.036612    2.269231  \n",
            "17            0.692308  0.538462    0.835821  1.207297  0.092456    1.874126  \n",
            "18            0.596154  0.538462    0.708861  1.189057  0.085614    1.387124  \n",
            "19            0.682692  0.490385    0.822581  1.204907  0.083395    1.788462  \n",
            "20            0.644231  0.490385    0.796875  1.236940  0.093935    1.751479  \n",
            "21            0.884615  0.490385    0.962264  1.087777  0.039571    3.057692  \n",
            "22            0.615385  0.490385    0.761194  1.236940  0.093935    1.610577  \n",
            "23            0.596154  0.490385    0.718310  1.204907  0.083395    1.433654  \n",
            "24            0.682692  0.471154    0.830508  1.216519  0.083857    1.872115  \n",
            "25            0.759615  0.471154    0.924528  1.217101  0.084042    3.185096  \n",
            "26            0.644231  0.471154    0.830508  1.289147  0.105677    2.099038  \n",
            "27            0.567308  0.471154    0.731343  1.289147  0.105677    1.610577  \n",
            "28            0.682692  0.461538    0.857143  1.255533  0.093935    2.221154  \n",
            "29            0.759615  0.461538    0.941176  1.239017  0.089035    4.086538  \n",
            "30            0.644231  0.461538    0.872727  1.354681  0.120839    2.795330  \n",
            "31            0.884615  0.461538    0.979592  1.107365  0.044749    5.653846  \n",
            "32            0.567308  0.461538    0.774194  1.364680  0.123336    1.916209  \n",
            "33            0.567308  0.461538    0.750000  1.322034  0.112426    1.730769  \n",
            "34            0.615385  0.461538    0.813559  1.322034  0.112426    2.062937  \n",
            "35            0.692308  0.461538    0.905660  1.308176  0.108728    3.261538  \n",
            "36            0.596154  0.461538    0.813559  1.364680  0.123336    2.166084  \n",
            "37            0.528846  0.461538    0.716418  1.354681  0.120839    1.661437  \n",
            "38            0.884615  0.384615    1.000000  1.130435  0.044379         inf  \n",
            "39            0.759615  0.355769    0.925000  1.217722  0.063609    3.205128  \n",
            "40            0.644231  0.326923    0.850000  1.319403  0.079142    2.371795  \n",
            "41            0.759615  0.355769    0.925000  1.217722  0.063609    3.205128  \n",
            "42            0.884615  0.355769    1.000000  1.130435  0.041050         inf  \n",
            "43            0.692308  0.355769    0.925000  1.336111  0.089497    4.102564  \n",
            "44            0.644231  0.326923    0.850000  1.319403  0.079142    2.371795  \n",
            "45            0.884615  0.326923    1.000000  1.130435  0.037722         inf  \n",
            "46            0.596154  0.326923    0.850000  1.425806  0.097633    2.692308  \n",
            "47            0.759615  0.307692    0.941176  1.239017  0.059357    4.086538  \n",
            "48            0.644231  0.307692    0.864865  1.342477  0.078495    2.632692  \n",
            "49            0.567308  0.307692    0.800000  1.410169  0.089497    2.163462  \n",
            "50            0.759615  0.307692    0.941176  1.239017  0.059357    4.086538  \n",
            "51            0.644231  0.307692    0.864865  1.342477  0.078495    2.632692  \n",
            "52            0.884615  0.307692    1.000000  1.130435  0.035503         inf  \n",
            "53            0.567308  0.307692    0.800000  1.410169  0.089497    2.163462  \n",
            "54            0.692308  0.307692    0.941176  1.359477  0.081361    5.230769  \n",
            "55            0.596154  0.307692    0.864865  1.450741  0.095599    2.988462  \n",
            "56            0.538462  0.307692    0.800000  1.485714  0.100592    2.307692  \n",
            "##############################\n",
            "Very Good Salaries:\n",
            "         antecedents consequents  antecedent support  consequent support  \\\n",
            "0                (M)        (US)            0.829630            0.962963   \n",
            "1               (US)         (M)            0.962963            0.829630   \n",
            "2               (SE)        (US)            0.807407            0.962963   \n",
            "3               (US)        (SE)            0.962963            0.807407   \n",
            "4                (M)        (SE)            0.829630            0.807407   \n",
            "5               (SE)         (M)            0.807407            0.829630   \n",
            "6            (M, SE)        (US)            0.681481            0.962963   \n",
            "7            (M, US)        (SE)            0.807407            0.807407   \n",
            "8           (SE, US)         (M)            0.792593            0.829630   \n",
            "9                (M)    (SE, US)            0.829630            0.792593   \n",
            "10              (SE)     (M, US)            0.807407            0.807407   \n",
            "11              (US)       (100)            0.962963            0.785185   \n",
            "12             (100)        (US)            0.785185            0.962963   \n",
            "13               (M)       (100)            0.829630            0.785185   \n",
            "14             (100)         (M)            0.785185            0.829630   \n",
            "15              (SE)       (100)            0.807407            0.785185   \n",
            "16             (100)        (SE)            0.785185            0.807407   \n",
            "17           (M, US)       (100)            0.807407            0.785185   \n",
            "18          (M, 100)        (US)            0.674074            0.962963   \n",
            "19         (US, 100)         (M)            0.762963            0.829630   \n",
            "20               (M)   (US, 100)            0.829630            0.762963   \n",
            "21             (100)     (M, US)            0.785185            0.807407   \n",
            "22          (SE, US)       (100)            0.792593            0.785185   \n",
            "23         (SE, 100)        (US)            0.629630            0.962963   \n",
            "24         (US, 100)        (SE)            0.762963            0.807407   \n",
            "25              (SE)   (US, 100)            0.807407            0.762963   \n",
            "26             (100)    (SE, US)            0.785185            0.792593   \n",
            "27           (M, SE)       (100)            0.681481            0.785185   \n",
            "28          (M, 100)        (SE)            0.674074            0.807407   \n",
            "29         (SE, 100)         (M)            0.629630            0.829630   \n",
            "30             (100)     (M, SE)            0.785185            0.681481   \n",
            "31       (M, SE, US)       (100)            0.666667            0.785185   \n",
            "32      (M, SE, 100)        (US)            0.555556            0.962963   \n",
            "33      (M, US, 100)        (SE)            0.659259            0.807407   \n",
            "34     (SE, US, 100)         (M)            0.614815            0.829630   \n",
            "35           (M, SE)   (US, 100)            0.681481            0.762963   \n",
            "36          (M, 100)    (SE, US)            0.674074            0.792593   \n",
            "37         (SE, 100)     (M, US)            0.629630            0.807407   \n",
            "38         (US, 100)     (M, SE)            0.762963            0.681481   \n",
            "39  (Data Scientist)        (US)            0.318519            0.962963   \n",
            "\n",
            "     support  confidence      lift  leverage  conviction  \n",
            "0   0.807407    0.973214  1.010646  0.008505    1.382716  \n",
            "1   0.807407    0.838462  1.010646  0.008505    1.054674  \n",
            "2   0.792593    0.981651  1.019407  0.015089    2.018519  \n",
            "3   0.792593    0.823077  1.019407  0.015089    1.088567  \n",
            "4   0.681481    0.821429  1.017366  0.011632    1.078519  \n",
            "5   0.681481    0.844037  1.017366  0.011632    1.092375  \n",
            "6   0.666667    0.978261  1.015886  0.010425    1.703704  \n",
            "7   0.666667    0.825688  1.022641  0.014760    1.104873  \n",
            "8   0.666667    0.841121  1.013852  0.009108    1.072331  \n",
            "9   0.666667    0.803571  1.013852  0.009108    1.055892  \n",
            "10  0.666667    0.825688  1.022641  0.014760    1.104873  \n",
            "11  0.762963    0.792308  1.009071  0.006859    1.034294  \n",
            "12  0.762963    0.971698  1.009071  0.006859    1.308642  \n",
            "13  0.674074    0.812500  1.034788  0.022661    1.145679  \n",
            "14  0.674074    0.858491  1.034788  0.022661    1.203951  \n",
            "15  0.629630    0.779817  0.993163 -0.004335    0.975617  \n",
            "16  0.629630    0.801887  0.993163 -0.004335    0.972134  \n",
            "17  0.659259    0.816514  1.039900  0.025295    1.170741  \n",
            "18  0.659259    0.978022  1.015638  0.010151    1.685185  \n",
            "19  0.659259    0.864078  1.041522  0.026283    1.253439  \n",
            "20  0.659259    0.794643  1.041522  0.026283    1.154267  \n",
            "21  0.659259    0.839623  1.039900  0.025295    1.200871  \n",
            "22  0.614815    0.775701  0.987921 -0.007517    0.957716  \n",
            "23  0.614815    0.976471  1.014027  0.008505    1.574074  \n",
            "24  0.614815    0.805825  0.998040 -0.001207    0.991852  \n",
            "25  0.614815    0.761468  0.998040 -0.001207    0.993732  \n",
            "26  0.614815    0.783019  0.987921 -0.007517    0.955878  \n",
            "27  0.555556    0.815217  1.038249  0.020466    1.162527  \n",
            "28  0.555556    0.824176  1.020768  0.011303    1.095370  \n",
            "29  0.555556    0.882353  1.063550  0.033196    1.448148  \n",
            "30  0.555556    0.707547  1.038249  0.020466    1.089128  \n",
            "31  0.540741    0.811111  1.033019  0.017284    1.137255  \n",
            "32  0.540741    0.973333  1.010769  0.005761    1.388889  \n",
            "33  0.540741    0.820225  1.015875  0.008450    1.071296  \n",
            "34  0.540741    0.879518  1.060133  0.030672    1.414074  \n",
            "35  0.540741    0.793478  1.039996  0.020796    1.147758  \n",
            "36  0.540741    0.802198  1.012119  0.006475    1.048560  \n",
            "37  0.540741    0.858824  1.063681  0.032373    1.364198  \n",
            "38  0.540741    0.708738  1.039996  0.020796    1.093580  \n",
            "39  0.311111    0.976744  1.014311  0.004390    1.592593  \n",
            "##############################\n"
          ]
        }
      ]
    },
    {
      "cell_type": "markdown",
      "source": [
        "Comentários a respeito dos resultados obtidos no relatório final."
      ],
      "metadata": {
        "id": "MaFeI29pgzUy"
      }
    }
  ]
}